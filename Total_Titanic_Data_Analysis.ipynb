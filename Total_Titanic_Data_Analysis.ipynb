{
  "nbformat": 4,
  "nbformat_minor": 0,
  "metadata": {
    "colab": {
      "name": "Total Titanic - Data Analysis.ipynb",
      "provenance": []
    },
    "kernelspec": {
      "name": "python3",
      "display_name": "Python 3"
    }
  },
  "cells": [
    {
      "cell_type": "markdown",
      "metadata": {
        "id": "Q1qRsYY4KMPa"
      },
      "source": [
        "Problem Statement\n",
        "\n",
        "The sinking of the Titanic is one of the most infamous shipwrecks in history.\n",
        "\n",
        "On April 15, 1912, during her maiden voyage, the widely considered “unsinkable” RMS Titanic sank after colliding with an iceberg. Unfortunately, there weren’t enough lifeboats for everyone onboard, resulting in the death of 1502 out of 2224 passengers and crew.\n",
        "\n",
        "While there was some element of luck involved in surviving, it seems some groups of people were more likely to survive than others.\n",
        "\n",
        "In this challenge, we ask you to build a predictive model that answers the question: “what sorts of people were more likely to survive?” using passenger data (ie name, age, gender, socio-economic class, etc)."
      ]
    },
    {
      "cell_type": "markdown",
      "metadata": {
        "id": "I97dFlbQdUiC"
      },
      "source": [
        "Load Libraries\n"
      ]
    },
    {
      "cell_type": "code",
      "metadata": {
        "id": "dGyV-I3POvsQ"
      },
      "source": [
        "#import libraries\n",
        "import pandas as pd\n",
        "import numpy as np\n",
        "import matplotlib.pyplot as plt\n",
        "%matplotlib inline\n",
        "import seaborn as sns"
      ],
      "execution_count": 2169,
      "outputs": []
    },
    {
      "cell_type": "markdown",
      "metadata": {
        "id": "SbbpR-izddMs"
      },
      "source": [
        "Loads and read files"
      ]
    },
    {
      "cell_type": "code",
      "metadata": {
        "id": "sjC9ZeqZRHeg"
      },
      "source": [
        "#read files\n",
        "#Reading train file:\n",
        "data = pd.read_csv('https://raw.githubusercontent.com/qlik-oss/sse-r-plugin/master/sense_apps/R_DecisionTree/Titanic_data.csv')\n"
      ],
      "execution_count": 2170,
      "outputs": []
    },
    {
      "cell_type": "code",
      "metadata": {
        "id": "QwpKW--rTrYh",
        "colab": {
          "base_uri": "https://localhost:8080/",
          "height": 399
        },
        "outputId": "87963cfc-0b8a-4b5d-f28d-7b0188e16a0d"
      },
      "source": [
        "data"
      ],
      "execution_count": 2171,
      "outputs": [
        {
          "output_type": "execute_result",
          "data": {
            "text/html": [
              "<div>\n",
              "<style scoped>\n",
              "    .dataframe tbody tr th:only-of-type {\n",
              "        vertical-align: middle;\n",
              "    }\n",
              "\n",
              "    .dataframe tbody tr th {\n",
              "        vertical-align: top;\n",
              "    }\n",
              "\n",
              "    .dataframe thead th {\n",
              "        text-align: right;\n",
              "    }\n",
              "</style>\n",
              "<table border=\"1\" class=\"dataframe\">\n",
              "  <thead>\n",
              "    <tr style=\"text-align: right;\">\n",
              "      <th></th>\n",
              "      <th>ID</th>\n",
              "      <th>pclass</th>\n",
              "      <th>survived</th>\n",
              "      <th>sex</th>\n",
              "      <th>age</th>\n",
              "      <th>age_b</th>\n",
              "      <th>fare</th>\n",
              "    </tr>\n",
              "  </thead>\n",
              "  <tbody>\n",
              "    <tr>\n",
              "      <th>0</th>\n",
              "      <td>1</td>\n",
              "      <td>1</td>\n",
              "      <td>1</td>\n",
              "      <td>female</td>\n",
              "      <td>29</td>\n",
              "      <td>Adult</td>\n",
              "      <td>211,34</td>\n",
              "    </tr>\n",
              "    <tr>\n",
              "      <th>1</th>\n",
              "      <td>2</td>\n",
              "      <td>1</td>\n",
              "      <td>1</td>\n",
              "      <td>male</td>\n",
              "      <td>0,9167</td>\n",
              "      <td>Child</td>\n",
              "      <td>151,55</td>\n",
              "    </tr>\n",
              "    <tr>\n",
              "      <th>2</th>\n",
              "      <td>3</td>\n",
              "      <td>1</td>\n",
              "      <td>0</td>\n",
              "      <td>female</td>\n",
              "      <td>2</td>\n",
              "      <td>Child</td>\n",
              "      <td>151,55</td>\n",
              "    </tr>\n",
              "    <tr>\n",
              "      <th>3</th>\n",
              "      <td>4</td>\n",
              "      <td>1</td>\n",
              "      <td>0</td>\n",
              "      <td>male</td>\n",
              "      <td>30</td>\n",
              "      <td>Adult</td>\n",
              "      <td>151,55</td>\n",
              "    </tr>\n",
              "    <tr>\n",
              "      <th>4</th>\n",
              "      <td>5</td>\n",
              "      <td>1</td>\n",
              "      <td>0</td>\n",
              "      <td>female</td>\n",
              "      <td>25</td>\n",
              "      <td>Adult</td>\n",
              "      <td>151,55</td>\n",
              "    </tr>\n",
              "    <tr>\n",
              "      <th>...</th>\n",
              "      <td>...</td>\n",
              "      <td>...</td>\n",
              "      <td>...</td>\n",
              "      <td>...</td>\n",
              "      <td>...</td>\n",
              "      <td>...</td>\n",
              "      <td>...</td>\n",
              "    </tr>\n",
              "    <tr>\n",
              "      <th>1304</th>\n",
              "      <td>1305</td>\n",
              "      <td>3</td>\n",
              "      <td>0</td>\n",
              "      <td>female</td>\n",
              "      <td>14,5</td>\n",
              "      <td>Child</td>\n",
              "      <td>14,45</td>\n",
              "    </tr>\n",
              "    <tr>\n",
              "      <th>1305</th>\n",
              "      <td>1306</td>\n",
              "      <td>3</td>\n",
              "      <td>0</td>\n",
              "      <td>female</td>\n",
              "      <td>NaN</td>\n",
              "      <td>Adult</td>\n",
              "      <td>14,45</td>\n",
              "    </tr>\n",
              "    <tr>\n",
              "      <th>1306</th>\n",
              "      <td>1307</td>\n",
              "      <td>3</td>\n",
              "      <td>0</td>\n",
              "      <td>male</td>\n",
              "      <td>26,5</td>\n",
              "      <td>Adult</td>\n",
              "      <td>7,22</td>\n",
              "    </tr>\n",
              "    <tr>\n",
              "      <th>1307</th>\n",
              "      <td>1308</td>\n",
              "      <td>3</td>\n",
              "      <td>0</td>\n",
              "      <td>male</td>\n",
              "      <td>27</td>\n",
              "      <td>Adult</td>\n",
              "      <td>7,22</td>\n",
              "    </tr>\n",
              "    <tr>\n",
              "      <th>1308</th>\n",
              "      <td>1309</td>\n",
              "      <td>3</td>\n",
              "      <td>0</td>\n",
              "      <td>male</td>\n",
              "      <td>29</td>\n",
              "      <td>Adult</td>\n",
              "      <td>7,88</td>\n",
              "    </tr>\n",
              "  </tbody>\n",
              "</table>\n",
              "<p>1309 rows × 7 columns</p>\n",
              "</div>"
            ],
            "text/plain": [
              "        ID  pclass  survived     sex     age  age_b    fare\n",
              "0        1       1         1  female      29  Adult  211,34\n",
              "1        2       1         1    male  0,9167  Child  151,55\n",
              "2        3       1         0  female       2  Child  151,55\n",
              "3        4       1         0    male      30  Adult  151,55\n",
              "4        5       1         0  female      25  Adult  151,55\n",
              "...    ...     ...       ...     ...     ...    ...     ...\n",
              "1304  1305       3         0  female    14,5  Child   14,45\n",
              "1305  1306       3         0  female     NaN  Adult   14,45\n",
              "1306  1307       3         0    male    26,5  Adult    7,22\n",
              "1307  1308       3         0    male      27  Adult    7,22\n",
              "1308  1309       3         0    male      29  Adult    7,88\n",
              "\n",
              "[1309 rows x 7 columns]"
            ]
          },
          "metadata": {
            "tags": []
          },
          "execution_count": 2171
        }
      ]
    },
    {
      "cell_type": "code",
      "metadata": {
        "id": "XzUOL1zmUFf0",
        "colab": {
          "base_uri": "https://localhost:8080/",
          "height": 282
        },
        "outputId": "7684965b-9e43-4202-d242-09295f2e02a1"
      },
      "source": [
        "data.describe()"
      ],
      "execution_count": 2172,
      "outputs": [
        {
          "output_type": "execute_result",
          "data": {
            "text/html": [
              "<div>\n",
              "<style scoped>\n",
              "    .dataframe tbody tr th:only-of-type {\n",
              "        vertical-align: middle;\n",
              "    }\n",
              "\n",
              "    .dataframe tbody tr th {\n",
              "        vertical-align: top;\n",
              "    }\n",
              "\n",
              "    .dataframe thead th {\n",
              "        text-align: right;\n",
              "    }\n",
              "</style>\n",
              "<table border=\"1\" class=\"dataframe\">\n",
              "  <thead>\n",
              "    <tr style=\"text-align: right;\">\n",
              "      <th></th>\n",
              "      <th>ID</th>\n",
              "      <th>pclass</th>\n",
              "      <th>survived</th>\n",
              "    </tr>\n",
              "  </thead>\n",
              "  <tbody>\n",
              "    <tr>\n",
              "      <th>count</th>\n",
              "      <td>1309.000000</td>\n",
              "      <td>1309.000000</td>\n",
              "      <td>1309.000000</td>\n",
              "    </tr>\n",
              "    <tr>\n",
              "      <th>mean</th>\n",
              "      <td>655.000000</td>\n",
              "      <td>2.294882</td>\n",
              "      <td>0.381971</td>\n",
              "    </tr>\n",
              "    <tr>\n",
              "      <th>std</th>\n",
              "      <td>378.020061</td>\n",
              "      <td>0.837836</td>\n",
              "      <td>0.486055</td>\n",
              "    </tr>\n",
              "    <tr>\n",
              "      <th>min</th>\n",
              "      <td>1.000000</td>\n",
              "      <td>1.000000</td>\n",
              "      <td>0.000000</td>\n",
              "    </tr>\n",
              "    <tr>\n",
              "      <th>25%</th>\n",
              "      <td>328.000000</td>\n",
              "      <td>2.000000</td>\n",
              "      <td>0.000000</td>\n",
              "    </tr>\n",
              "    <tr>\n",
              "      <th>50%</th>\n",
              "      <td>655.000000</td>\n",
              "      <td>3.000000</td>\n",
              "      <td>0.000000</td>\n",
              "    </tr>\n",
              "    <tr>\n",
              "      <th>75%</th>\n",
              "      <td>982.000000</td>\n",
              "      <td>3.000000</td>\n",
              "      <td>1.000000</td>\n",
              "    </tr>\n",
              "    <tr>\n",
              "      <th>max</th>\n",
              "      <td>1309.000000</td>\n",
              "      <td>3.000000</td>\n",
              "      <td>1.000000</td>\n",
              "    </tr>\n",
              "  </tbody>\n",
              "</table>\n",
              "</div>"
            ],
            "text/plain": [
              "                ID       pclass     survived\n",
              "count  1309.000000  1309.000000  1309.000000\n",
              "mean    655.000000     2.294882     0.381971\n",
              "std     378.020061     0.837836     0.486055\n",
              "min       1.000000     1.000000     0.000000\n",
              "25%     328.000000     2.000000     0.000000\n",
              "50%     655.000000     3.000000     0.000000\n",
              "75%     982.000000     3.000000     1.000000\n",
              "max    1309.000000     3.000000     1.000000"
            ]
          },
          "metadata": {
            "tags": []
          },
          "execution_count": 2172
        }
      ]
    },
    {
      "cell_type": "code",
      "metadata": {
        "colab": {
          "base_uri": "https://localhost:8080/"
        },
        "id": "bksOup2si-oE",
        "outputId": "ece69df1-28da-48d5-8024-ecc0f48b506d"
      },
      "source": [
        "data.info()"
      ],
      "execution_count": 2173,
      "outputs": [
        {
          "output_type": "stream",
          "text": [
            "<class 'pandas.core.frame.DataFrame'>\n",
            "RangeIndex: 1309 entries, 0 to 1308\n",
            "Data columns (total 7 columns):\n",
            " #   Column    Non-Null Count  Dtype \n",
            "---  ------    --------------  ----- \n",
            " 0   ID        1309 non-null   int64 \n",
            " 1   pclass    1309 non-null   int64 \n",
            " 2   survived  1309 non-null   int64 \n",
            " 3   sex       1309 non-null   object\n",
            " 4   age       1046 non-null   object\n",
            " 5   age_b     1309 non-null   object\n",
            " 6   fare      1308 non-null   object\n",
            "dtypes: int64(3), object(4)\n",
            "memory usage: 71.7+ KB\n"
          ],
          "name": "stdout"
        }
      ]
    },
    {
      "cell_type": "markdown",
      "metadata": {
        "id": "bCHsFgMtj2ga"
      },
      "source": [
        "Replace comma with full stop"
      ]
    },
    {
      "cell_type": "code",
      "metadata": {
        "colab": {
          "base_uri": "https://localhost:8080/",
          "height": 399
        },
        "id": "y4hhkhr1k8EE",
        "outputId": "cbd29cff-4676-4dc9-949f-8bf40520aefd"
      },
      "source": [
        "data.age = data.age.str.replace(',','.')\r\n",
        "data.fare = data.fare.str.replace(',','.')\r\n",
        "data"
      ],
      "execution_count": 2174,
      "outputs": [
        {
          "output_type": "execute_result",
          "data": {
            "text/html": [
              "<div>\n",
              "<style scoped>\n",
              "    .dataframe tbody tr th:only-of-type {\n",
              "        vertical-align: middle;\n",
              "    }\n",
              "\n",
              "    .dataframe tbody tr th {\n",
              "        vertical-align: top;\n",
              "    }\n",
              "\n",
              "    .dataframe thead th {\n",
              "        text-align: right;\n",
              "    }\n",
              "</style>\n",
              "<table border=\"1\" class=\"dataframe\">\n",
              "  <thead>\n",
              "    <tr style=\"text-align: right;\">\n",
              "      <th></th>\n",
              "      <th>ID</th>\n",
              "      <th>pclass</th>\n",
              "      <th>survived</th>\n",
              "      <th>sex</th>\n",
              "      <th>age</th>\n",
              "      <th>age_b</th>\n",
              "      <th>fare</th>\n",
              "    </tr>\n",
              "  </thead>\n",
              "  <tbody>\n",
              "    <tr>\n",
              "      <th>0</th>\n",
              "      <td>1</td>\n",
              "      <td>1</td>\n",
              "      <td>1</td>\n",
              "      <td>female</td>\n",
              "      <td>29</td>\n",
              "      <td>Adult</td>\n",
              "      <td>211.34</td>\n",
              "    </tr>\n",
              "    <tr>\n",
              "      <th>1</th>\n",
              "      <td>2</td>\n",
              "      <td>1</td>\n",
              "      <td>1</td>\n",
              "      <td>male</td>\n",
              "      <td>0.9167</td>\n",
              "      <td>Child</td>\n",
              "      <td>151.55</td>\n",
              "    </tr>\n",
              "    <tr>\n",
              "      <th>2</th>\n",
              "      <td>3</td>\n",
              "      <td>1</td>\n",
              "      <td>0</td>\n",
              "      <td>female</td>\n",
              "      <td>2</td>\n",
              "      <td>Child</td>\n",
              "      <td>151.55</td>\n",
              "    </tr>\n",
              "    <tr>\n",
              "      <th>3</th>\n",
              "      <td>4</td>\n",
              "      <td>1</td>\n",
              "      <td>0</td>\n",
              "      <td>male</td>\n",
              "      <td>30</td>\n",
              "      <td>Adult</td>\n",
              "      <td>151.55</td>\n",
              "    </tr>\n",
              "    <tr>\n",
              "      <th>4</th>\n",
              "      <td>5</td>\n",
              "      <td>1</td>\n",
              "      <td>0</td>\n",
              "      <td>female</td>\n",
              "      <td>25</td>\n",
              "      <td>Adult</td>\n",
              "      <td>151.55</td>\n",
              "    </tr>\n",
              "    <tr>\n",
              "      <th>...</th>\n",
              "      <td>...</td>\n",
              "      <td>...</td>\n",
              "      <td>...</td>\n",
              "      <td>...</td>\n",
              "      <td>...</td>\n",
              "      <td>...</td>\n",
              "      <td>...</td>\n",
              "    </tr>\n",
              "    <tr>\n",
              "      <th>1304</th>\n",
              "      <td>1305</td>\n",
              "      <td>3</td>\n",
              "      <td>0</td>\n",
              "      <td>female</td>\n",
              "      <td>14.5</td>\n",
              "      <td>Child</td>\n",
              "      <td>14.45</td>\n",
              "    </tr>\n",
              "    <tr>\n",
              "      <th>1305</th>\n",
              "      <td>1306</td>\n",
              "      <td>3</td>\n",
              "      <td>0</td>\n",
              "      <td>female</td>\n",
              "      <td>NaN</td>\n",
              "      <td>Adult</td>\n",
              "      <td>14.45</td>\n",
              "    </tr>\n",
              "    <tr>\n",
              "      <th>1306</th>\n",
              "      <td>1307</td>\n",
              "      <td>3</td>\n",
              "      <td>0</td>\n",
              "      <td>male</td>\n",
              "      <td>26.5</td>\n",
              "      <td>Adult</td>\n",
              "      <td>7.22</td>\n",
              "    </tr>\n",
              "    <tr>\n",
              "      <th>1307</th>\n",
              "      <td>1308</td>\n",
              "      <td>3</td>\n",
              "      <td>0</td>\n",
              "      <td>male</td>\n",
              "      <td>27</td>\n",
              "      <td>Adult</td>\n",
              "      <td>7.22</td>\n",
              "    </tr>\n",
              "    <tr>\n",
              "      <th>1308</th>\n",
              "      <td>1309</td>\n",
              "      <td>3</td>\n",
              "      <td>0</td>\n",
              "      <td>male</td>\n",
              "      <td>29</td>\n",
              "      <td>Adult</td>\n",
              "      <td>7.88</td>\n",
              "    </tr>\n",
              "  </tbody>\n",
              "</table>\n",
              "<p>1309 rows × 7 columns</p>\n",
              "</div>"
            ],
            "text/plain": [
              "        ID  pclass  survived     sex     age  age_b    fare\n",
              "0        1       1         1  female      29  Adult  211.34\n",
              "1        2       1         1    male  0.9167  Child  151.55\n",
              "2        3       1         0  female       2  Child  151.55\n",
              "3        4       1         0    male      30  Adult  151.55\n",
              "4        5       1         0  female      25  Adult  151.55\n",
              "...    ...     ...       ...     ...     ...    ...     ...\n",
              "1304  1305       3         0  female    14.5  Child   14.45\n",
              "1305  1306       3         0  female     NaN  Adult   14.45\n",
              "1306  1307       3         0    male    26.5  Adult    7.22\n",
              "1307  1308       3         0    male      27  Adult    7.22\n",
              "1308  1309       3         0    male      29  Adult    7.88\n",
              "\n",
              "[1309 rows x 7 columns]"
            ]
          },
          "metadata": {
            "tags": []
          },
          "execution_count": 2174
        }
      ]
    },
    {
      "cell_type": "markdown",
      "metadata": {
        "id": "86d1bIuSleRZ"
      },
      "source": [
        "Convert object to float"
      ]
    },
    {
      "cell_type": "code",
      "metadata": {
        "colab": {
          "base_uri": "https://localhost:8080/",
          "height": 399
        },
        "id": "H7RXkFCPlhUu",
        "outputId": "837adabd-8427-45d1-d08d-cec434b50a70"
      },
      "source": [
        "data.age = data.age.astype(float)\r\n",
        "data.fare = data.fare.astype(float)\r\n",
        "data"
      ],
      "execution_count": 2175,
      "outputs": [
        {
          "output_type": "execute_result",
          "data": {
            "text/html": [
              "<div>\n",
              "<style scoped>\n",
              "    .dataframe tbody tr th:only-of-type {\n",
              "        vertical-align: middle;\n",
              "    }\n",
              "\n",
              "    .dataframe tbody tr th {\n",
              "        vertical-align: top;\n",
              "    }\n",
              "\n",
              "    .dataframe thead th {\n",
              "        text-align: right;\n",
              "    }\n",
              "</style>\n",
              "<table border=\"1\" class=\"dataframe\">\n",
              "  <thead>\n",
              "    <tr style=\"text-align: right;\">\n",
              "      <th></th>\n",
              "      <th>ID</th>\n",
              "      <th>pclass</th>\n",
              "      <th>survived</th>\n",
              "      <th>sex</th>\n",
              "      <th>age</th>\n",
              "      <th>age_b</th>\n",
              "      <th>fare</th>\n",
              "    </tr>\n",
              "  </thead>\n",
              "  <tbody>\n",
              "    <tr>\n",
              "      <th>0</th>\n",
              "      <td>1</td>\n",
              "      <td>1</td>\n",
              "      <td>1</td>\n",
              "      <td>female</td>\n",
              "      <td>29.0000</td>\n",
              "      <td>Adult</td>\n",
              "      <td>211.34</td>\n",
              "    </tr>\n",
              "    <tr>\n",
              "      <th>1</th>\n",
              "      <td>2</td>\n",
              "      <td>1</td>\n",
              "      <td>1</td>\n",
              "      <td>male</td>\n",
              "      <td>0.9167</td>\n",
              "      <td>Child</td>\n",
              "      <td>151.55</td>\n",
              "    </tr>\n",
              "    <tr>\n",
              "      <th>2</th>\n",
              "      <td>3</td>\n",
              "      <td>1</td>\n",
              "      <td>0</td>\n",
              "      <td>female</td>\n",
              "      <td>2.0000</td>\n",
              "      <td>Child</td>\n",
              "      <td>151.55</td>\n",
              "    </tr>\n",
              "    <tr>\n",
              "      <th>3</th>\n",
              "      <td>4</td>\n",
              "      <td>1</td>\n",
              "      <td>0</td>\n",
              "      <td>male</td>\n",
              "      <td>30.0000</td>\n",
              "      <td>Adult</td>\n",
              "      <td>151.55</td>\n",
              "    </tr>\n",
              "    <tr>\n",
              "      <th>4</th>\n",
              "      <td>5</td>\n",
              "      <td>1</td>\n",
              "      <td>0</td>\n",
              "      <td>female</td>\n",
              "      <td>25.0000</td>\n",
              "      <td>Adult</td>\n",
              "      <td>151.55</td>\n",
              "    </tr>\n",
              "    <tr>\n",
              "      <th>...</th>\n",
              "      <td>...</td>\n",
              "      <td>...</td>\n",
              "      <td>...</td>\n",
              "      <td>...</td>\n",
              "      <td>...</td>\n",
              "      <td>...</td>\n",
              "      <td>...</td>\n",
              "    </tr>\n",
              "    <tr>\n",
              "      <th>1304</th>\n",
              "      <td>1305</td>\n",
              "      <td>3</td>\n",
              "      <td>0</td>\n",
              "      <td>female</td>\n",
              "      <td>14.5000</td>\n",
              "      <td>Child</td>\n",
              "      <td>14.45</td>\n",
              "    </tr>\n",
              "    <tr>\n",
              "      <th>1305</th>\n",
              "      <td>1306</td>\n",
              "      <td>3</td>\n",
              "      <td>0</td>\n",
              "      <td>female</td>\n",
              "      <td>NaN</td>\n",
              "      <td>Adult</td>\n",
              "      <td>14.45</td>\n",
              "    </tr>\n",
              "    <tr>\n",
              "      <th>1306</th>\n",
              "      <td>1307</td>\n",
              "      <td>3</td>\n",
              "      <td>0</td>\n",
              "      <td>male</td>\n",
              "      <td>26.5000</td>\n",
              "      <td>Adult</td>\n",
              "      <td>7.22</td>\n",
              "    </tr>\n",
              "    <tr>\n",
              "      <th>1307</th>\n",
              "      <td>1308</td>\n",
              "      <td>3</td>\n",
              "      <td>0</td>\n",
              "      <td>male</td>\n",
              "      <td>27.0000</td>\n",
              "      <td>Adult</td>\n",
              "      <td>7.22</td>\n",
              "    </tr>\n",
              "    <tr>\n",
              "      <th>1308</th>\n",
              "      <td>1309</td>\n",
              "      <td>3</td>\n",
              "      <td>0</td>\n",
              "      <td>male</td>\n",
              "      <td>29.0000</td>\n",
              "      <td>Adult</td>\n",
              "      <td>7.88</td>\n",
              "    </tr>\n",
              "  </tbody>\n",
              "</table>\n",
              "<p>1309 rows × 7 columns</p>\n",
              "</div>"
            ],
            "text/plain": [
              "        ID  pclass  survived     sex      age  age_b    fare\n",
              "0        1       1         1  female  29.0000  Adult  211.34\n",
              "1        2       1         1    male   0.9167  Child  151.55\n",
              "2        3       1         0  female   2.0000  Child  151.55\n",
              "3        4       1         0    male  30.0000  Adult  151.55\n",
              "4        5       1         0  female  25.0000  Adult  151.55\n",
              "...    ...     ...       ...     ...      ...    ...     ...\n",
              "1304  1305       3         0  female  14.5000  Child   14.45\n",
              "1305  1306       3         0  female      NaN  Adult   14.45\n",
              "1306  1307       3         0    male  26.5000  Adult    7.22\n",
              "1307  1308       3         0    male  27.0000  Adult    7.22\n",
              "1308  1309       3         0    male  29.0000  Adult    7.88\n",
              "\n",
              "[1309 rows x 7 columns]"
            ]
          },
          "metadata": {
            "tags": []
          },
          "execution_count": 2175
        }
      ]
    },
    {
      "cell_type": "markdown",
      "metadata": {
        "id": "jsHsd2BnmUeB"
      },
      "source": [
        "Check for null values"
      ]
    },
    {
      "cell_type": "code",
      "metadata": {
        "colab": {
          "base_uri": "https://localhost:8080/"
        },
        "id": "U0Ox686xmXYy",
        "outputId": "aa6eb25d-f629-4e1b-a99d-453c692ee7ad"
      },
      "source": [
        "data.isnull().sum()"
      ],
      "execution_count": 2176,
      "outputs": [
        {
          "output_type": "execute_result",
          "data": {
            "text/plain": [
              "ID            0\n",
              "pclass        0\n",
              "survived      0\n",
              "sex           0\n",
              "age         263\n",
              "age_b         0\n",
              "fare          1\n",
              "dtype: int64"
            ]
          },
          "metadata": {
            "tags": []
          },
          "execution_count": 2176
        }
      ]
    },
    {
      "cell_type": "markdown",
      "metadata": {
        "id": "LTR4LjNJmkJy"
      },
      "source": [
        "Replace null values with 0"
      ]
    },
    {
      "cell_type": "code",
      "metadata": {
        "colab": {
          "base_uri": "https://localhost:8080/",
          "height": 399
        },
        "id": "9cqJ1YO3mnDJ",
        "outputId": "a1e783f7-0cae-44da-8361-7c63629dbced"
      },
      "source": [
        "data.fillna(0)"
      ],
      "execution_count": 2177,
      "outputs": [
        {
          "output_type": "execute_result",
          "data": {
            "text/html": [
              "<div>\n",
              "<style scoped>\n",
              "    .dataframe tbody tr th:only-of-type {\n",
              "        vertical-align: middle;\n",
              "    }\n",
              "\n",
              "    .dataframe tbody tr th {\n",
              "        vertical-align: top;\n",
              "    }\n",
              "\n",
              "    .dataframe thead th {\n",
              "        text-align: right;\n",
              "    }\n",
              "</style>\n",
              "<table border=\"1\" class=\"dataframe\">\n",
              "  <thead>\n",
              "    <tr style=\"text-align: right;\">\n",
              "      <th></th>\n",
              "      <th>ID</th>\n",
              "      <th>pclass</th>\n",
              "      <th>survived</th>\n",
              "      <th>sex</th>\n",
              "      <th>age</th>\n",
              "      <th>age_b</th>\n",
              "      <th>fare</th>\n",
              "    </tr>\n",
              "  </thead>\n",
              "  <tbody>\n",
              "    <tr>\n",
              "      <th>0</th>\n",
              "      <td>1</td>\n",
              "      <td>1</td>\n",
              "      <td>1</td>\n",
              "      <td>female</td>\n",
              "      <td>29.0000</td>\n",
              "      <td>Adult</td>\n",
              "      <td>211.34</td>\n",
              "    </tr>\n",
              "    <tr>\n",
              "      <th>1</th>\n",
              "      <td>2</td>\n",
              "      <td>1</td>\n",
              "      <td>1</td>\n",
              "      <td>male</td>\n",
              "      <td>0.9167</td>\n",
              "      <td>Child</td>\n",
              "      <td>151.55</td>\n",
              "    </tr>\n",
              "    <tr>\n",
              "      <th>2</th>\n",
              "      <td>3</td>\n",
              "      <td>1</td>\n",
              "      <td>0</td>\n",
              "      <td>female</td>\n",
              "      <td>2.0000</td>\n",
              "      <td>Child</td>\n",
              "      <td>151.55</td>\n",
              "    </tr>\n",
              "    <tr>\n",
              "      <th>3</th>\n",
              "      <td>4</td>\n",
              "      <td>1</td>\n",
              "      <td>0</td>\n",
              "      <td>male</td>\n",
              "      <td>30.0000</td>\n",
              "      <td>Adult</td>\n",
              "      <td>151.55</td>\n",
              "    </tr>\n",
              "    <tr>\n",
              "      <th>4</th>\n",
              "      <td>5</td>\n",
              "      <td>1</td>\n",
              "      <td>0</td>\n",
              "      <td>female</td>\n",
              "      <td>25.0000</td>\n",
              "      <td>Adult</td>\n",
              "      <td>151.55</td>\n",
              "    </tr>\n",
              "    <tr>\n",
              "      <th>...</th>\n",
              "      <td>...</td>\n",
              "      <td>...</td>\n",
              "      <td>...</td>\n",
              "      <td>...</td>\n",
              "      <td>...</td>\n",
              "      <td>...</td>\n",
              "      <td>...</td>\n",
              "    </tr>\n",
              "    <tr>\n",
              "      <th>1304</th>\n",
              "      <td>1305</td>\n",
              "      <td>3</td>\n",
              "      <td>0</td>\n",
              "      <td>female</td>\n",
              "      <td>14.5000</td>\n",
              "      <td>Child</td>\n",
              "      <td>14.45</td>\n",
              "    </tr>\n",
              "    <tr>\n",
              "      <th>1305</th>\n",
              "      <td>1306</td>\n",
              "      <td>3</td>\n",
              "      <td>0</td>\n",
              "      <td>female</td>\n",
              "      <td>0.0000</td>\n",
              "      <td>Adult</td>\n",
              "      <td>14.45</td>\n",
              "    </tr>\n",
              "    <tr>\n",
              "      <th>1306</th>\n",
              "      <td>1307</td>\n",
              "      <td>3</td>\n",
              "      <td>0</td>\n",
              "      <td>male</td>\n",
              "      <td>26.5000</td>\n",
              "      <td>Adult</td>\n",
              "      <td>7.22</td>\n",
              "    </tr>\n",
              "    <tr>\n",
              "      <th>1307</th>\n",
              "      <td>1308</td>\n",
              "      <td>3</td>\n",
              "      <td>0</td>\n",
              "      <td>male</td>\n",
              "      <td>27.0000</td>\n",
              "      <td>Adult</td>\n",
              "      <td>7.22</td>\n",
              "    </tr>\n",
              "    <tr>\n",
              "      <th>1308</th>\n",
              "      <td>1309</td>\n",
              "      <td>3</td>\n",
              "      <td>0</td>\n",
              "      <td>male</td>\n",
              "      <td>29.0000</td>\n",
              "      <td>Adult</td>\n",
              "      <td>7.88</td>\n",
              "    </tr>\n",
              "  </tbody>\n",
              "</table>\n",
              "<p>1309 rows × 7 columns</p>\n",
              "</div>"
            ],
            "text/plain": [
              "        ID  pclass  survived     sex      age  age_b    fare\n",
              "0        1       1         1  female  29.0000  Adult  211.34\n",
              "1        2       1         1    male   0.9167  Child  151.55\n",
              "2        3       1         0  female   2.0000  Child  151.55\n",
              "3        4       1         0    male  30.0000  Adult  151.55\n",
              "4        5       1         0  female  25.0000  Adult  151.55\n",
              "...    ...     ...       ...     ...      ...    ...     ...\n",
              "1304  1305       3         0  female  14.5000  Child   14.45\n",
              "1305  1306       3         0  female   0.0000  Adult   14.45\n",
              "1306  1307       3         0    male  26.5000  Adult    7.22\n",
              "1307  1308       3         0    male  27.0000  Adult    7.22\n",
              "1308  1309       3         0    male  29.0000  Adult    7.88\n",
              "\n",
              "[1309 rows x 7 columns]"
            ]
          },
          "metadata": {
            "tags": []
          },
          "execution_count": 2177
        }
      ]
    },
    {
      "cell_type": "markdown",
      "metadata": {
        "id": "sfjdmEABm00o"
      },
      "source": [
        "Check for null values"
      ]
    },
    {
      "cell_type": "code",
      "metadata": {
        "colab": {
          "base_uri": "https://localhost:8080/"
        },
        "id": "a4jSW_NYm2yo",
        "outputId": "ea1a3b9c-2a10-413c-b118-dbcf891ef2a9"
      },
      "source": [
        "data.isnull().sum()"
      ],
      "execution_count": 2178,
      "outputs": [
        {
          "output_type": "execute_result",
          "data": {
            "text/plain": [
              "ID            0\n",
              "pclass        0\n",
              "survived      0\n",
              "sex           0\n",
              "age         263\n",
              "age_b         0\n",
              "fare          1\n",
              "dtype: int64"
            ]
          },
          "metadata": {
            "tags": []
          },
          "execution_count": 2178
        }
      ]
    },
    {
      "cell_type": "code",
      "metadata": {
        "colab": {
          "base_uri": "https://localhost:8080/"
        },
        "id": "IFanSrVrlU_F",
        "outputId": "d30f8a35-2ff2-4ab1-eee5-5689670470d5"
      },
      "source": [
        "data.info()"
      ],
      "execution_count": 2179,
      "outputs": [
        {
          "output_type": "stream",
          "text": [
            "<class 'pandas.core.frame.DataFrame'>\n",
            "RangeIndex: 1309 entries, 0 to 1308\n",
            "Data columns (total 7 columns):\n",
            " #   Column    Non-Null Count  Dtype  \n",
            "---  ------    --------------  -----  \n",
            " 0   ID        1309 non-null   int64  \n",
            " 1   pclass    1309 non-null   int64  \n",
            " 2   survived  1309 non-null   int64  \n",
            " 3   sex       1309 non-null   object \n",
            " 4   age       1046 non-null   float64\n",
            " 5   age_b     1309 non-null   object \n",
            " 6   fare      1308 non-null   float64\n",
            "dtypes: float64(2), int64(3), object(2)\n",
            "memory usage: 71.7+ KB\n"
          ],
          "name": "stdout"
        }
      ]
    },
    {
      "cell_type": "markdown",
      "metadata": {
        "id": "opg58K3hsctz"
      },
      "source": [
        "Impute"
      ]
    },
    {
      "cell_type": "code",
      "metadata": {
        "colab": {
          "base_uri": "https://localhost:8080/",
          "height": 399
        },
        "id": "-dwdPwR2sf7K",
        "outputId": "78b28227-c9dc-42e7-bae3-44dc89305ee0"
      },
      "source": [
        "mask = (data['age_b'] == 'Adult')\r\n",
        "data.loc[data['age'].isnull() & mask, 'age'] = data.age.median()\r\n",
        "\r\n",
        "mask = (data['age_b'] == 'Child')\r\n",
        "data.loc[data['age'].isnull() & mask, 'age'] = 9\r\n",
        "\r\n",
        "data"
      ],
      "execution_count": 2180,
      "outputs": [
        {
          "output_type": "execute_result",
          "data": {
            "text/html": [
              "<div>\n",
              "<style scoped>\n",
              "    .dataframe tbody tr th:only-of-type {\n",
              "        vertical-align: middle;\n",
              "    }\n",
              "\n",
              "    .dataframe tbody tr th {\n",
              "        vertical-align: top;\n",
              "    }\n",
              "\n",
              "    .dataframe thead th {\n",
              "        text-align: right;\n",
              "    }\n",
              "</style>\n",
              "<table border=\"1\" class=\"dataframe\">\n",
              "  <thead>\n",
              "    <tr style=\"text-align: right;\">\n",
              "      <th></th>\n",
              "      <th>ID</th>\n",
              "      <th>pclass</th>\n",
              "      <th>survived</th>\n",
              "      <th>sex</th>\n",
              "      <th>age</th>\n",
              "      <th>age_b</th>\n",
              "      <th>fare</th>\n",
              "    </tr>\n",
              "  </thead>\n",
              "  <tbody>\n",
              "    <tr>\n",
              "      <th>0</th>\n",
              "      <td>1</td>\n",
              "      <td>1</td>\n",
              "      <td>1</td>\n",
              "      <td>female</td>\n",
              "      <td>29.0000</td>\n",
              "      <td>Adult</td>\n",
              "      <td>211.34</td>\n",
              "    </tr>\n",
              "    <tr>\n",
              "      <th>1</th>\n",
              "      <td>2</td>\n",
              "      <td>1</td>\n",
              "      <td>1</td>\n",
              "      <td>male</td>\n",
              "      <td>0.9167</td>\n",
              "      <td>Child</td>\n",
              "      <td>151.55</td>\n",
              "    </tr>\n",
              "    <tr>\n",
              "      <th>2</th>\n",
              "      <td>3</td>\n",
              "      <td>1</td>\n",
              "      <td>0</td>\n",
              "      <td>female</td>\n",
              "      <td>2.0000</td>\n",
              "      <td>Child</td>\n",
              "      <td>151.55</td>\n",
              "    </tr>\n",
              "    <tr>\n",
              "      <th>3</th>\n",
              "      <td>4</td>\n",
              "      <td>1</td>\n",
              "      <td>0</td>\n",
              "      <td>male</td>\n",
              "      <td>30.0000</td>\n",
              "      <td>Adult</td>\n",
              "      <td>151.55</td>\n",
              "    </tr>\n",
              "    <tr>\n",
              "      <th>4</th>\n",
              "      <td>5</td>\n",
              "      <td>1</td>\n",
              "      <td>0</td>\n",
              "      <td>female</td>\n",
              "      <td>25.0000</td>\n",
              "      <td>Adult</td>\n",
              "      <td>151.55</td>\n",
              "    </tr>\n",
              "    <tr>\n",
              "      <th>...</th>\n",
              "      <td>...</td>\n",
              "      <td>...</td>\n",
              "      <td>...</td>\n",
              "      <td>...</td>\n",
              "      <td>...</td>\n",
              "      <td>...</td>\n",
              "      <td>...</td>\n",
              "    </tr>\n",
              "    <tr>\n",
              "      <th>1304</th>\n",
              "      <td>1305</td>\n",
              "      <td>3</td>\n",
              "      <td>0</td>\n",
              "      <td>female</td>\n",
              "      <td>14.5000</td>\n",
              "      <td>Child</td>\n",
              "      <td>14.45</td>\n",
              "    </tr>\n",
              "    <tr>\n",
              "      <th>1305</th>\n",
              "      <td>1306</td>\n",
              "      <td>3</td>\n",
              "      <td>0</td>\n",
              "      <td>female</td>\n",
              "      <td>28.0000</td>\n",
              "      <td>Adult</td>\n",
              "      <td>14.45</td>\n",
              "    </tr>\n",
              "    <tr>\n",
              "      <th>1306</th>\n",
              "      <td>1307</td>\n",
              "      <td>3</td>\n",
              "      <td>0</td>\n",
              "      <td>male</td>\n",
              "      <td>26.5000</td>\n",
              "      <td>Adult</td>\n",
              "      <td>7.22</td>\n",
              "    </tr>\n",
              "    <tr>\n",
              "      <th>1307</th>\n",
              "      <td>1308</td>\n",
              "      <td>3</td>\n",
              "      <td>0</td>\n",
              "      <td>male</td>\n",
              "      <td>27.0000</td>\n",
              "      <td>Adult</td>\n",
              "      <td>7.22</td>\n",
              "    </tr>\n",
              "    <tr>\n",
              "      <th>1308</th>\n",
              "      <td>1309</td>\n",
              "      <td>3</td>\n",
              "      <td>0</td>\n",
              "      <td>male</td>\n",
              "      <td>29.0000</td>\n",
              "      <td>Adult</td>\n",
              "      <td>7.88</td>\n",
              "    </tr>\n",
              "  </tbody>\n",
              "</table>\n",
              "<p>1309 rows × 7 columns</p>\n",
              "</div>"
            ],
            "text/plain": [
              "        ID  pclass  survived     sex      age  age_b    fare\n",
              "0        1       1         1  female  29.0000  Adult  211.34\n",
              "1        2       1         1    male   0.9167  Child  151.55\n",
              "2        3       1         0  female   2.0000  Child  151.55\n",
              "3        4       1         0    male  30.0000  Adult  151.55\n",
              "4        5       1         0  female  25.0000  Adult  151.55\n",
              "...    ...     ...       ...     ...      ...    ...     ...\n",
              "1304  1305       3         0  female  14.5000  Child   14.45\n",
              "1305  1306       3         0  female  28.0000  Adult   14.45\n",
              "1306  1307       3         0    male  26.5000  Adult    7.22\n",
              "1307  1308       3         0    male  27.0000  Adult    7.22\n",
              "1308  1309       3         0    male  29.0000  Adult    7.88\n",
              "\n",
              "[1309 rows x 7 columns]"
            ]
          },
          "metadata": {
            "tags": []
          },
          "execution_count": 2180
        }
      ]
    },
    {
      "cell_type": "code",
      "metadata": {
        "colab": {
          "base_uri": "https://localhost:8080/"
        },
        "id": "ZUhZqRtItciz",
        "outputId": "a71f2d2d-d33f-4f35-e8e7-c0c139f600bd"
      },
      "source": [
        "data.isnull().sum()"
      ],
      "execution_count": 2181,
      "outputs": [
        {
          "output_type": "execute_result",
          "data": {
            "text/plain": [
              "ID          0\n",
              "pclass      0\n",
              "survived    0\n",
              "sex         0\n",
              "age         0\n",
              "age_b       0\n",
              "fare        1\n",
              "dtype: int64"
            ]
          },
          "metadata": {
            "tags": []
          },
          "execution_count": 2181
        }
      ]
    },
    {
      "cell_type": "code",
      "metadata": {
        "id": "GXwMrp1tFIIF"
      },
      "source": [
        "data['fare'] = data['fare'].fillna(data['fare'].median())"
      ],
      "execution_count": 2182,
      "outputs": []
    },
    {
      "cell_type": "code",
      "metadata": {
        "colab": {
          "base_uri": "https://localhost:8080/"
        },
        "id": "OrJX9y49FQAg",
        "outputId": "88615fdd-9e70-4622-b84f-2f047df8e4d3"
      },
      "source": [
        "data.isnull().sum()"
      ],
      "execution_count": 2183,
      "outputs": [
        {
          "output_type": "stream",
          "text": [
            "/usr/local/lib/python3.6/dist-packages/IPython/core/displayhook.py:260: UserWarning: Output cache limit (currently 1000 entries) hit.\n",
            "Flushing oldest 200 entries.\n",
            "  'Flushing oldest {cull_count} entries.'.format(sz=sz, cull_count=cull_count))\n"
          ],
          "name": "stderr"
        },
        {
          "output_type": "execute_result",
          "data": {
            "text/plain": [
              "ID          0\n",
              "pclass      0\n",
              "survived    0\n",
              "sex         0\n",
              "age         0\n",
              "age_b       0\n",
              "fare        0\n",
              "dtype: int64"
            ]
          },
          "metadata": {
            "tags": []
          },
          "execution_count": 2183
        }
      ]
    },
    {
      "cell_type": "markdown",
      "metadata": {
        "id": "mRySfNmLnzz4"
      },
      "source": [
        "Perform analysis"
      ]
    },
    {
      "cell_type": "markdown",
      "metadata": {
        "id": "-7K4g0P_n40h"
      },
      "source": [
        "Passengers"
      ]
    },
    {
      "cell_type": "code",
      "metadata": {
        "colab": {
          "base_uri": "https://localhost:8080/"
        },
        "id": "2u5eh6qPpX0S",
        "outputId": "4c0c6051-9267-4d06-a2ab-4d2715352403"
      },
      "source": [
        "survived = data.groupby('survived').survived.count()\r\n",
        "survived"
      ],
      "execution_count": 2184,
      "outputs": [
        {
          "output_type": "execute_result",
          "data": {
            "text/plain": [
              "survived\n",
              "0    809\n",
              "1    500\n",
              "Name: survived, dtype: int64"
            ]
          },
          "metadata": {
            "tags": []
          },
          "execution_count": 2184
        }
      ]
    },
    {
      "cell_type": "code",
      "metadata": {
        "colab": {
          "base_uri": "https://localhost:8080/"
        },
        "id": "7fUlXlk1g7WF",
        "outputId": "3cfb5518-292a-4a93-fad6-f54ab542b5c9"
      },
      "source": [
        "percent_survived = (survived / len(data)) * 100\r\n",
        "percent_survived"
      ],
      "execution_count": 2185,
      "outputs": [
        {
          "output_type": "execute_result",
          "data": {
            "text/plain": [
              "survived\n",
              "0    61.802903\n",
              "1    38.197097\n",
              "Name: survived, dtype: float64"
            ]
          },
          "metadata": {
            "tags": []
          },
          "execution_count": 2185
        }
      ]
    },
    {
      "cell_type": "code",
      "metadata": {
        "colab": {
          "base_uri": "https://localhost:8080/",
          "height": 276
        },
        "id": "dyVN5QG7n6bC",
        "outputId": "17bb427a-f16b-4109-fdad-580a0f1e2d3f"
      },
      "source": [
        "data.groupby('survived').survived.count().plot.bar(ylim=0)\r\n",
        "plt.show()"
      ],
      "execution_count": 2186,
      "outputs": [
        {
          "output_type": "display_data",
          "data": {
            "image/png": "[encoded data removed]",
            "text/plain": [
              "<Figure size 432x288 with 1 Axes>"
            ]
          },
          "metadata": {
            "tags": [],
            "needs_background": "light"
          }
        }
      ]
    },
    {
      "cell_type": "markdown",
      "metadata": {
        "id": "jJga0JinpyE7"
      },
      "source": [
        "Sex"
      ]
    },
    {
      "cell_type": "code",
      "metadata": {
        "colab": {
          "base_uri": "https://localhost:8080/"
        },
        "id": "ybvOPoDrn16D",
        "outputId": "42fdb4f6-73db-46a7-990c-09ff3baa77b8"
      },
      "source": [
        "sex = data.groupby('sex').survived.count()\r\n",
        "sex"
      ],
      "execution_count": 2187,
      "outputs": [
        {
          "output_type": "execute_result",
          "data": {
            "text/plain": [
              "sex\n",
              "female    466\n",
              "male      843\n",
              "Name: survived, dtype: int64"
            ]
          },
          "metadata": {
            "tags": []
          },
          "execution_count": 2187
        }
      ]
    },
    {
      "cell_type": "code",
      "metadata": {
        "colab": {
          "base_uri": "https://localhost:8080/"
        },
        "id": "s7gCkEIzhiUN",
        "outputId": "a69405aa-6770-4731-ad73-b1cfa5485f41"
      },
      "source": [
        "percent_sex = (sex / len(data)) * 100\r\n",
        "percent_sex"
      ],
      "execution_count": 2188,
      "outputs": [
        {
          "output_type": "execute_result",
          "data": {
            "text/plain": [
              "sex\n",
              "female    35.599694\n",
              "male      64.400306\n",
              "Name: survived, dtype: float64"
            ]
          },
          "metadata": {
            "tags": []
          },
          "execution_count": 2188
        }
      ]
    },
    {
      "cell_type": "code",
      "metadata": {
        "colab": {
          "base_uri": "https://localhost:8080/",
          "height": 304
        },
        "id": "u5HD5HEup_i0",
        "outputId": "8a1e7900-7b95-49f8-b2f7-aa319cc53d84"
      },
      "source": [
        "data.groupby('sex').survived.count().plot.bar(ylim=0)\r\n",
        "plt.show()"
      ],
      "execution_count": 2189,
      "outputs": [
        {
          "output_type": "display_data",
          "data": {
            "image/png": "[encoded data removed]",
            "text/plain": [
              "<Figure size 432x288 with 1 Axes>"
            ]
          },
          "metadata": {
            "tags": [],
            "needs_background": "light"
          }
        }
      ]
    },
    {
      "cell_type": "markdown",
      "metadata": {
        "id": "KGxRDUBhXGe-"
      },
      "source": [
        "Passenger class"
      ]
    },
    {
      "cell_type": "code",
      "metadata": {
        "colab": {
          "base_uri": "https://localhost:8080/"
        },
        "id": "MKB6t1-4Xu8K",
        "outputId": "696069c6-ddf6-499e-c1e6-9e771b047242"
      },
      "source": [
        "pclass = data.groupby('pclass').survived.count()\r\n",
        "pclass"
      ],
      "execution_count": 2190,
      "outputs": [
        {
          "output_type": "execute_result",
          "data": {
            "text/plain": [
              "pclass\n",
              "1    323\n",
              "2    277\n",
              "3    709\n",
              "Name: survived, dtype: int64"
            ]
          },
          "metadata": {
            "tags": []
          },
          "execution_count": 2190
        }
      ]
    },
    {
      "cell_type": "code",
      "metadata": {
        "colab": {
          "base_uri": "https://localhost:8080/"
        },
        "id": "iTBaSowTh1uc",
        "outputId": "e623b3d2-74ac-4669-e099-a86b70c4bad7"
      },
      "source": [
        "percent_class = (pclass / len(data)) * 100\r\n",
        "percent_class"
      ],
      "execution_count": 2191,
      "outputs": [
        {
          "output_type": "execute_result",
          "data": {
            "text/plain": [
              "pclass\n",
              "1    24.675325\n",
              "2    21.161192\n",
              "3    54.163484\n",
              "Name: survived, dtype: float64"
            ]
          },
          "metadata": {
            "tags": []
          },
          "execution_count": 2191
        }
      ]
    },
    {
      "cell_type": "code",
      "metadata": {
        "colab": {
          "base_uri": "https://localhost:8080/",
          "height": 276
        },
        "id": "d4nVQohnXI2F",
        "outputId": "c3691889-9f55-4ce0-a09e-3f5e68165f0a"
      },
      "source": [
        "data.groupby('pclass').survived.count().plot.bar(ylim=0)\r\n",
        "plt.show()"
      ],
      "execution_count": 2192,
      "outputs": [
        {
          "output_type": "display_data",
          "data": {
            "image/png": "[encoded data removed]",
            "text/plain": [
              "<Figure size 432x288 with 1 Axes>"
            ]
          },
          "metadata": {
            "tags": [],
            "needs_background": "light"
          }
        }
      ]
    },
    {
      "cell_type": "markdown",
      "metadata": {
        "id": "EmspAitoYAqM"
      },
      "source": [
        "Adult or child"
      ]
    },
    {
      "cell_type": "code",
      "metadata": {
        "colab": {
          "base_uri": "https://localhost:8080/"
        },
        "id": "zY0XxP6wYHfw",
        "outputId": "8fcb5f5d-3715-4ea1-9583-44e67b12e1ef"
      },
      "source": [
        "age_b = data.groupby('age_b').survived.count()\r\n",
        "age_b"
      ],
      "execution_count": 2193,
      "outputs": [
        {
          "output_type": "execute_result",
          "data": {
            "text/plain": [
              "age_b\n",
              "Adult    1200\n",
              "Child     109\n",
              "Name: survived, dtype: int64"
            ]
          },
          "metadata": {
            "tags": []
          },
          "execution_count": 2193
        }
      ]
    },
    {
      "cell_type": "code",
      "metadata": {
        "colab": {
          "base_uri": "https://localhost:8080/"
        },
        "id": "b40NgipliOh-",
        "outputId": "2e3eeb5f-5981-493d-ef6d-4616c2ed2ee6"
      },
      "source": [
        "percent_age = (age_b / len(data)) * 100\r\n",
        "percent_age"
      ],
      "execution_count": 2194,
      "outputs": [
        {
          "output_type": "execute_result",
          "data": {
            "text/plain": [
              "age_b\n",
              "Adult    91.673033\n",
              "Child     8.326967\n",
              "Name: survived, dtype: float64"
            ]
          },
          "metadata": {
            "tags": []
          },
          "execution_count": 2194
        }
      ]
    },
    {
      "cell_type": "code",
      "metadata": {
        "colab": {
          "base_uri": "https://localhost:8080/",
          "height": 296
        },
        "id": "tLZAtItXYXTK",
        "outputId": "1fa741d0-61c5-44cd-e1d5-689c697abef1"
      },
      "source": [
        "data.groupby('age_b').survived.count().plot.bar(ylim=0)\r\n",
        "plt.show()"
      ],
      "execution_count": 2195,
      "outputs": [
        {
          "output_type": "display_data",
          "data": {
            "image/png": "[encoded data removed]",
            "text/plain": [
              "<Figure size 432x288 with 1 Axes>"
            ]
          },
          "metadata": {
            "tags": [],
            "needs_background": "light"
          }
        }
      ]
    },
    {
      "cell_type": "markdown",
      "metadata": {
        "id": "sH_Fyk5Ka-yU"
      },
      "source": [
        "Age"
      ]
    },
    {
      "cell_type": "code",
      "metadata": {
        "colab": {
          "base_uri": "https://localhost:8080/",
          "height": 377
        },
        "id": "cxwX5hgtbASu",
        "outputId": "50fc3633-63ae-4ea4-d55e-d65a2df5720b"
      },
      "source": [
        "plt.figure(figsize=(10,6))\r\n",
        "plt.title(\"Ages Frequency\")\r\n",
        "sns.axes_style(\"dark\")\r\n",
        "sns.violinplot(y=data[\"age\"])\r\n",
        "plt.show()"
      ],
      "execution_count": 2196,
      "outputs": [
        {
          "output_type": "display_data",
          "data": {
            "image/png": "[encoded data removed]",
            "text/plain": [
              "<Figure size 720x432 with 1 Axes>"
            ]
          },
          "metadata": {
            "tags": [],
            "needs_background": "light"
          }
        }
      ]
    },
    {
      "cell_type": "code",
      "metadata": {
        "colab": {
          "base_uri": "https://localhost:8080/"
        },
        "id": "xrnVXhVBbb5b",
        "outputId": "51999624-2f56-4046-8619-96838b774c92"
      },
      "source": [
        "max_age = data.age.max()\r\n",
        "max_age"
      ],
      "execution_count": 2197,
      "outputs": [
        {
          "output_type": "execute_result",
          "data": {
            "text/plain": [
              "80.0"
            ]
          },
          "metadata": {
            "tags": []
          },
          "execution_count": 2197
        }
      ]
    },
    {
      "cell_type": "code",
      "metadata": {
        "colab": {
          "base_uri": "https://localhost:8080/"
        },
        "id": "kmdJsUBObnAk",
        "outputId": "d736dbe5-63c9-433b-c078-8b5e6624c9fd"
      },
      "source": [
        "min_age = data.age.min()\r\n",
        "min_age"
      ],
      "execution_count": 2198,
      "outputs": [
        {
          "output_type": "execute_result",
          "data": {
            "text/plain": [
              "0.1667"
            ]
          },
          "metadata": {
            "tags": []
          },
          "execution_count": 2198
        }
      ]
    },
    {
      "cell_type": "code",
      "metadata": {
        "colab": {
          "base_uri": "https://localhost:8080/"
        },
        "id": "9AxYayTmbvM3",
        "outputId": "0b8dbae0-f3e9-45fa-fd3c-550aa2157d02"
      },
      "source": [
        "median_age = data.age.median()\r\n",
        "median_age"
      ],
      "execution_count": 2199,
      "outputs": [
        {
          "output_type": "execute_result",
          "data": {
            "text/plain": [
              "28.0"
            ]
          },
          "metadata": {
            "tags": []
          },
          "execution_count": 2199
        }
      ]
    },
    {
      "cell_type": "code",
      "metadata": {
        "colab": {
          "base_uri": "https://localhost:8080/"
        },
        "id": "PtbtGH9Vb8NZ",
        "outputId": "1defc46b-0821-4607-87c4-dfb630d02cbb"
      },
      "source": [
        "most_age = data.age.mode()\r\n",
        "most_age"
      ],
      "execution_count": 2200,
      "outputs": [
        {
          "output_type": "execute_result",
          "data": {
            "text/plain": [
              "0    28.0\n",
              "dtype: float64"
            ]
          },
          "metadata": {
            "tags": []
          },
          "execution_count": 2200
        }
      ]
    },
    {
      "cell_type": "markdown",
      "metadata": {
        "id": "p6INhIjZbLFw"
      },
      "source": [
        "Fare"
      ]
    },
    {
      "cell_type": "code",
      "metadata": {
        "colab": {
          "base_uri": "https://localhost:8080/",
          "height": 377
        },
        "id": "RNnHmVPrbMfd",
        "outputId": "8abcd071-57dc-4a22-c922-b0d1ba8b3905"
      },
      "source": [
        "plt.figure(figsize=(10,6))\r\n",
        "plt.title(\"Fare Frequency\")\r\n",
        "sns.axes_style(\"dark\")\r\n",
        "sns.violinplot(y=data[\"fare\"])\r\n",
        "plt.show()"
      ],
      "execution_count": 2201,
      "outputs": [
        {
          "output_type": "display_data",
          "data": {
            "image/png": "[encoded data removed]",
            "text/plain": [
              "<Figure size 720x432 with 1 Axes>"
            ]
          },
          "metadata": {
            "tags": [],
            "needs_background": "light"
          }
        }
      ]
    },
    {
      "cell_type": "code",
      "metadata": {
        "colab": {
          "base_uri": "https://localhost:8080/"
        },
        "id": "1ktLMkKVc0D7",
        "outputId": "ebf59308-8136-40ab-c2af-a4c35cc11006"
      },
      "source": [
        "max_fare = data.fare.max()\r\n",
        "max_fare"
      ],
      "execution_count": 2202,
      "outputs": [
        {
          "output_type": "execute_result",
          "data": {
            "text/plain": [
              "512.33"
            ]
          },
          "metadata": {
            "tags": []
          },
          "execution_count": 2202
        }
      ]
    },
    {
      "cell_type": "code",
      "metadata": {
        "colab": {
          "base_uri": "https://localhost:8080/"
        },
        "id": "cVuBTbpVdY6h",
        "outputId": "3edec3bf-a0f4-496f-b71a-2b70cfa32a1f"
      },
      "source": [
        "min_fare = data.fare.min()\r\n",
        "min_fare"
      ],
      "execution_count": 2203,
      "outputs": [
        {
          "output_type": "execute_result",
          "data": {
            "text/plain": [
              "0.0"
            ]
          },
          "metadata": {
            "tags": []
          },
          "execution_count": 2203
        }
      ]
    },
    {
      "cell_type": "code",
      "metadata": {
        "colab": {
          "base_uri": "https://localhost:8080/"
        },
        "id": "1XypURlXdwNW",
        "outputId": "1698c319-5618-48ce-9692-dd42239272d3"
      },
      "source": [
        "median_fare = data.fare.median()\r\n",
        "median_fare"
      ],
      "execution_count": 2204,
      "outputs": [
        {
          "output_type": "execute_result",
          "data": {
            "text/plain": [
              "14.45"
            ]
          },
          "metadata": {
            "tags": []
          },
          "execution_count": 2204
        }
      ]
    },
    {
      "cell_type": "code",
      "metadata": {
        "colab": {
          "base_uri": "https://localhost:8080/"
        },
        "id": "IBtXcAQMd93_",
        "outputId": "4ddc507f-9e5f-461a-ee46-cbcb5d39efe6"
      },
      "source": [
        "most_fare = data.fare.mode()\r\n",
        "most_fare"
      ],
      "execution_count": 2205,
      "outputs": [
        {
          "output_type": "execute_result",
          "data": {
            "text/plain": [
              "0    8.05\n",
              "dtype: float64"
            ]
          },
          "metadata": {
            "tags": []
          },
          "execution_count": 2205
        }
      ]
    },
    {
      "cell_type": "code",
      "metadata": {
        "colab": {
          "base_uri": "https://localhost:8080/",
          "height": 428
        },
        "id": "vTNEcJlFZm5D",
        "outputId": "29259591-869b-4fc2-9762-12f8161f205d"
      },
      "source": [
        "plt.figure(figsize=(25, 7))\r\n",
        "ax = plt.subplot()\r\n",
        "ax.scatter(data[data['survived'] == 1]['age'], data[data['survived'] == 1]['fare'], c='green', s=data[data['survived'] == 1]['fare'])\r\n",
        "ax.scatter(data[data['survived'] == 0]['age'], data[data['survived'] == 0]['fare'], c='red', s=data[data['survived'] == 0]['fare']);"
      ],
      "execution_count": 2206,
      "outputs": [
        {
          "output_type": "display_data",
          "data": {
            "image/png": "[encoded data removed]",
            "text/plain": [
              "<Figure size 1800x504 with 1 Axes>"
            ]
          },
          "metadata": {
            "tags": [],
            "needs_background": "light"
          }
        }
      ]
    },
    {
      "cell_type": "markdown",
      "metadata": {
        "id": "53hCdlM1i2Hs"
      },
      "source": [
        "Filter survivors"
      ]
    },
    {
      "cell_type": "code",
      "metadata": {
        "colab": {
          "base_uri": "https://localhost:8080/",
          "height": 399
        },
        "id": "qCReiEx0kAzs",
        "outputId": "e3c7e802-0630-4f82-ba87-cb6e8e27b986"
      },
      "source": [
        "include = data[data['survived'].values == 1]\r\n",
        "exclude = data[data['survived'].values != 1]\r\n",
        "survived = include\r\n",
        "survived"
      ],
      "execution_count": 2207,
      "outputs": [
        {
          "output_type": "execute_result",
          "data": {
            "text/html": [
              "<div>\n",
              "<style scoped>\n",
              "    .dataframe tbody tr th:only-of-type {\n",
              "        vertical-align: middle;\n",
              "    }\n",
              "\n",
              "    .dataframe tbody tr th {\n",
              "        vertical-align: top;\n",
              "    }\n",
              "\n",
              "    .dataframe thead th {\n",
              "        text-align: right;\n",
              "    }\n",
              "</style>\n",
              "<table border=\"1\" class=\"dataframe\">\n",
              "  <thead>\n",
              "    <tr style=\"text-align: right;\">\n",
              "      <th></th>\n",
              "      <th>ID</th>\n",
              "      <th>pclass</th>\n",
              "      <th>survived</th>\n",
              "      <th>sex</th>\n",
              "      <th>age</th>\n",
              "      <th>age_b</th>\n",
              "      <th>fare</th>\n",
              "    </tr>\n",
              "  </thead>\n",
              "  <tbody>\n",
              "    <tr>\n",
              "      <th>0</th>\n",
              "      <td>1</td>\n",
              "      <td>1</td>\n",
              "      <td>1</td>\n",
              "      <td>female</td>\n",
              "      <td>29.0000</td>\n",
              "      <td>Adult</td>\n",
              "      <td>211.34</td>\n",
              "    </tr>\n",
              "    <tr>\n",
              "      <th>1</th>\n",
              "      <td>2</td>\n",
              "      <td>1</td>\n",
              "      <td>1</td>\n",
              "      <td>male</td>\n",
              "      <td>0.9167</td>\n",
              "      <td>Child</td>\n",
              "      <td>151.55</td>\n",
              "    </tr>\n",
              "    <tr>\n",
              "      <th>5</th>\n",
              "      <td>6</td>\n",
              "      <td>1</td>\n",
              "      <td>1</td>\n",
              "      <td>male</td>\n",
              "      <td>48.0000</td>\n",
              "      <td>Adult</td>\n",
              "      <td>26.55</td>\n",
              "    </tr>\n",
              "    <tr>\n",
              "      <th>6</th>\n",
              "      <td>7</td>\n",
              "      <td>1</td>\n",
              "      <td>1</td>\n",
              "      <td>female</td>\n",
              "      <td>63.0000</td>\n",
              "      <td>Adult</td>\n",
              "      <td>77.96</td>\n",
              "    </tr>\n",
              "    <tr>\n",
              "      <th>8</th>\n",
              "      <td>9</td>\n",
              "      <td>1</td>\n",
              "      <td>1</td>\n",
              "      <td>female</td>\n",
              "      <td>53.0000</td>\n",
              "      <td>Adult</td>\n",
              "      <td>51.48</td>\n",
              "    </tr>\n",
              "    <tr>\n",
              "      <th>...</th>\n",
              "      <td>...</td>\n",
              "      <td>...</td>\n",
              "      <td>...</td>\n",
              "      <td>...</td>\n",
              "      <td>...</td>\n",
              "      <td>...</td>\n",
              "      <td>...</td>\n",
              "    </tr>\n",
              "    <tr>\n",
              "      <th>1261</th>\n",
              "      <td>1262</td>\n",
              "      <td>3</td>\n",
              "      <td>1</td>\n",
              "      <td>female</td>\n",
              "      <td>63.0000</td>\n",
              "      <td>Adult</td>\n",
              "      <td>9.59</td>\n",
              "    </tr>\n",
              "    <tr>\n",
              "      <th>1277</th>\n",
              "      <td>1278</td>\n",
              "      <td>3</td>\n",
              "      <td>1</td>\n",
              "      <td>male</td>\n",
              "      <td>22.0000</td>\n",
              "      <td>Adult</td>\n",
              "      <td>7.22</td>\n",
              "    </tr>\n",
              "    <tr>\n",
              "      <th>1286</th>\n",
              "      <td>1287</td>\n",
              "      <td>3</td>\n",
              "      <td>1</td>\n",
              "      <td>female</td>\n",
              "      <td>38.0000</td>\n",
              "      <td>Adult</td>\n",
              "      <td>7.23</td>\n",
              "    </tr>\n",
              "    <tr>\n",
              "      <th>1290</th>\n",
              "      <td>1291</td>\n",
              "      <td>3</td>\n",
              "      <td>1</td>\n",
              "      <td>female</td>\n",
              "      <td>47.0000</td>\n",
              "      <td>Adult</td>\n",
              "      <td>7.00</td>\n",
              "    </tr>\n",
              "    <tr>\n",
              "      <th>1300</th>\n",
              "      <td>1301</td>\n",
              "      <td>3</td>\n",
              "      <td>1</td>\n",
              "      <td>female</td>\n",
              "      <td>15.0000</td>\n",
              "      <td>Adult</td>\n",
              "      <td>14.45</td>\n",
              "    </tr>\n",
              "  </tbody>\n",
              "</table>\n",
              "<p>500 rows × 7 columns</p>\n",
              "</div>"
            ],
            "text/plain": [
              "        ID  pclass  survived     sex      age  age_b    fare\n",
              "0        1       1         1  female  29.0000  Adult  211.34\n",
              "1        2       1         1    male   0.9167  Child  151.55\n",
              "5        6       1         1    male  48.0000  Adult   26.55\n",
              "6        7       1         1  female  63.0000  Adult   77.96\n",
              "8        9       1         1  female  53.0000  Adult   51.48\n",
              "...    ...     ...       ...     ...      ...    ...     ...\n",
              "1261  1262       3         1  female  63.0000  Adult    9.59\n",
              "1277  1278       3         1    male  22.0000  Adult    7.22\n",
              "1286  1287       3         1  female  38.0000  Adult    7.23\n",
              "1290  1291       3         1  female  47.0000  Adult    7.00\n",
              "1300  1301       3         1  female  15.0000  Adult   14.45\n",
              "\n",
              "[500 rows x 7 columns]"
            ]
          },
          "metadata": {
            "tags": []
          },
          "execution_count": 2207
        }
      ]
    },
    {
      "cell_type": "markdown",
      "metadata": {
        "id": "19Iv_b2JmdwC"
      },
      "source": [
        "Survived sex"
      ]
    },
    {
      "cell_type": "code",
      "metadata": {
        "colab": {
          "base_uri": "https://localhost:8080/"
        },
        "id": "dV3dgxW2m6ri",
        "outputId": "22e7e01a-f150-4a06-e255-216dd52cf9e4"
      },
      "source": [
        "survived_sex = survived.groupby('sex').survived.count()\r\n",
        "survived_sex"
      ],
      "execution_count": 2208,
      "outputs": [
        {
          "output_type": "execute_result",
          "data": {
            "text/plain": [
              "sex\n",
              "female    339\n",
              "male      161\n",
              "Name: survived, dtype: int64"
            ]
          },
          "metadata": {
            "tags": []
          },
          "execution_count": 2208
        }
      ]
    },
    {
      "cell_type": "code",
      "metadata": {
        "colab": {
          "base_uri": "https://localhost:8080/"
        },
        "id": "mKLDu_aunrnh",
        "outputId": "ccea2ff9-f918-4d1f-e05d-247428022a13"
      },
      "source": [
        "percent_survived_sex = (survived_sex / len(survived)) * 100\r\n",
        "percent_survived_sex"
      ],
      "execution_count": 2209,
      "outputs": [
        {
          "output_type": "execute_result",
          "data": {
            "text/plain": [
              "sex\n",
              "female    67.8\n",
              "male      32.2\n",
              "Name: survived, dtype: float64"
            ]
          },
          "metadata": {
            "tags": []
          },
          "execution_count": 2209
        }
      ]
    },
    {
      "cell_type": "code",
      "metadata": {
        "colab": {
          "base_uri": "https://localhost:8080/",
          "height": 304
        },
        "id": "E668fofioPBf",
        "outputId": "6d181e7f-b196-4cd4-ddd6-874f3f6d5e3f"
      },
      "source": [
        "survived.groupby('sex').survived.count().plot.bar(ylim=0)\r\n",
        "plt.show()"
      ],
      "execution_count": 2210,
      "outputs": [
        {
          "output_type": "display_data",
          "data": {
            "image/png": "[encoded data removed]",
            "text/plain": [
              "<Figure size 432x288 with 1 Axes>"
            ]
          },
          "metadata": {
            "tags": [],
            "needs_background": "light"
          }
        }
      ]
    },
    {
      "cell_type": "markdown",
      "metadata": {
        "id": "MSvbfMfcorK6"
      },
      "source": [
        "Survived Passenger class"
      ]
    },
    {
      "cell_type": "code",
      "metadata": {
        "colab": {
          "base_uri": "https://localhost:8080/"
        },
        "id": "PDg0TwWtoqAZ",
        "outputId": "c99a44b6-86cf-4235-ca60-5f7e2da986d7"
      },
      "source": [
        "survived_pclass = survived.groupby('pclass').survived.count()\r\n",
        "survived_pclass"
      ],
      "execution_count": 2211,
      "outputs": [
        {
          "output_type": "execute_result",
          "data": {
            "text/plain": [
              "pclass\n",
              "1    200\n",
              "2    119\n",
              "3    181\n",
              "Name: survived, dtype: int64"
            ]
          },
          "metadata": {
            "tags": []
          },
          "execution_count": 2211
        }
      ]
    },
    {
      "cell_type": "code",
      "metadata": {
        "colab": {
          "base_uri": "https://localhost:8080/"
        },
        "id": "5TC11esUpDVL",
        "outputId": "4133c6dc-24d3-42c0-bd67-dd2c1ff473b5"
      },
      "source": [
        "percent_survived_class = (survived_pclass / len(survived)) * 100\r\n",
        "percent_survived_class"
      ],
      "execution_count": 2212,
      "outputs": [
        {
          "output_type": "execute_result",
          "data": {
            "text/plain": [
              "pclass\n",
              "1    40.0\n",
              "2    23.8\n",
              "3    36.2\n",
              "Name: survived, dtype: float64"
            ]
          },
          "metadata": {
            "tags": []
          },
          "execution_count": 2212
        }
      ]
    },
    {
      "cell_type": "code",
      "metadata": {
        "colab": {
          "base_uri": "https://localhost:8080/",
          "height": 276
        },
        "id": "0IgQYlQLpeMd",
        "outputId": "44529462-2050-4c02-9c30-62d18922701c"
      },
      "source": [
        "survived.groupby('pclass').survived.count().plot.bar(ylim=0)\r\n",
        "plt.show()"
      ],
      "execution_count": 2213,
      "outputs": [
        {
          "output_type": "display_data",
          "data": {
            "image/png": "[encoded data removed]",
            "text/plain": [
              "<Figure size 432x288 with 1 Axes>"
            ]
          },
          "metadata": {
            "tags": [],
            "needs_background": "light"
          }
        }
      ]
    },
    {
      "cell_type": "markdown",
      "metadata": {
        "id": "BrJwzqO1qSjo"
      },
      "source": [
        "Survived adult or child"
      ]
    },
    {
      "cell_type": "code",
      "metadata": {
        "colab": {
          "base_uri": "https://localhost:8080/"
        },
        "id": "7xXoOwpRqWAZ",
        "outputId": "bad5b8c7-e4b2-4e20-a74b-eeee747bbda1"
      },
      "source": [
        "survived_age_b = survived.groupby('age_b').survived.count()\r\n",
        "survived_age_b"
      ],
      "execution_count": 2214,
      "outputs": [
        {
          "output_type": "execute_result",
          "data": {
            "text/plain": [
              "age_b\n",
              "Adult    439\n",
              "Child     61\n",
              "Name: survived, dtype: int64"
            ]
          },
          "metadata": {
            "tags": []
          },
          "execution_count": 2214
        }
      ]
    },
    {
      "cell_type": "code",
      "metadata": {
        "colab": {
          "base_uri": "https://localhost:8080/"
        },
        "id": "wpFxEKePrPSA",
        "outputId": "6cedd9c2-0707-4b05-f28d-da6237e18739"
      },
      "source": [
        "survived_percent_age = (age_b / len(survived)) * 100\r\n",
        "survived_percent_age"
      ],
      "execution_count": 2215,
      "outputs": [
        {
          "output_type": "execute_result",
          "data": {
            "text/plain": [
              "age_b\n",
              "Adult    240.0\n",
              "Child     21.8\n",
              "Name: survived, dtype: float64"
            ]
          },
          "metadata": {
            "tags": []
          },
          "execution_count": 2215
        }
      ]
    },
    {
      "cell_type": "code",
      "metadata": {
        "colab": {
          "base_uri": "https://localhost:8080/",
          "height": 296
        },
        "id": "D3gNXW68rj8C",
        "outputId": "41ad5c28-1922-4227-a88c-c8c6f1bf61d3"
      },
      "source": [
        "survived.groupby('age_b').survived.count().plot.bar(ylim=0)\r\n",
        "plt.show()"
      ],
      "execution_count": 2216,
      "outputs": [
        {
          "output_type": "display_data",
          "data": {
            "image/png": "[encoded data removed]",
            "text/plain": [
              "<Figure size 432x288 with 1 Axes>"
            ]
          },
          "metadata": {
            "tags": [],
            "needs_background": "light"
          }
        }
      ]
    },
    {
      "cell_type": "markdown",
      "metadata": {
        "id": "33dhtdfvr2Ip"
      },
      "source": [
        "Survived Age"
      ]
    },
    {
      "cell_type": "code",
      "metadata": {
        "colab": {
          "base_uri": "https://localhost:8080/",
          "height": 377
        },
        "id": "zwkR8YWzr48L",
        "outputId": "39575973-a00f-40f5-9422-46549c9eec1f"
      },
      "source": [
        "plt.figure(figsize=(10,6))\r\n",
        "plt.title(\"Ages Frequency\")\r\n",
        "sns.axes_style(\"dark\")\r\n",
        "sns.violinplot(y=survived[\"age\"])\r\n",
        "plt.show()"
      ],
      "execution_count": 2217,
      "outputs": [
        {
          "output_type": "display_data",
          "data": {
            "image/png": "[encoded data removed]",
            "text/plain": [
              "<Figure size 720x432 with 1 Axes>"
            ]
          },
          "metadata": {
            "tags": [],
            "needs_background": "light"
          }
        }
      ]
    },
    {
      "cell_type": "code",
      "metadata": {
        "colab": {
          "base_uri": "https://localhost:8080/"
        },
        "id": "Vxv57s9lsG_M",
        "outputId": "6b7edc5c-0b5b-4184-b6f1-8f14cc6b7b40"
      },
      "source": [
        "survived_max_age = survived.age.max()\r\n",
        "survived_max_age"
      ],
      "execution_count": 2218,
      "outputs": [
        {
          "output_type": "execute_result",
          "data": {
            "text/plain": [
              "80.0"
            ]
          },
          "metadata": {
            "tags": []
          },
          "execution_count": 2218
        }
      ]
    },
    {
      "cell_type": "code",
      "metadata": {
        "colab": {
          "base_uri": "https://localhost:8080/"
        },
        "id": "ZXozmQ1ssQc2",
        "outputId": "459973ce-ea4d-4193-e82d-062c7a29aa3a"
      },
      "source": [
        "survived_min_age = survived.age.min()\r\n",
        "survived_min_age"
      ],
      "execution_count": 2219,
      "outputs": [
        {
          "output_type": "execute_result",
          "data": {
            "text/plain": [
              "0.1667"
            ]
          },
          "metadata": {
            "tags": []
          },
          "execution_count": 2219
        }
      ]
    },
    {
      "cell_type": "code",
      "metadata": {
        "colab": {
          "base_uri": "https://localhost:8080/"
        },
        "id": "v3QzqGrysYle",
        "outputId": "537a3220-fe60-4a8a-d175-f8031d365354"
      },
      "source": [
        "survived_median_age = survived.age.median()\r\n",
        "survived_median_age"
      ],
      "execution_count": 2220,
      "outputs": [
        {
          "output_type": "execute_result",
          "data": {
            "text/plain": [
              "28.0"
            ]
          },
          "metadata": {
            "tags": []
          },
          "execution_count": 2220
        }
      ]
    },
    {
      "cell_type": "code",
      "metadata": {
        "colab": {
          "base_uri": "https://localhost:8080/"
        },
        "id": "aRIBQWJzshsu",
        "outputId": "804d7a15-d188-4b25-afcf-23ac2dcb8508"
      },
      "source": [
        "survived_most_age = survived.age.mode()\r\n",
        "survived_most_age"
      ],
      "execution_count": 2221,
      "outputs": [
        {
          "output_type": "execute_result",
          "data": {
            "text/plain": [
              "0    28.0\n",
              "dtype: float64"
            ]
          },
          "metadata": {
            "tags": []
          },
          "execution_count": 2221
        }
      ]
    },
    {
      "cell_type": "markdown",
      "metadata": {
        "id": "PiI0deX5s8-B"
      },
      "source": [
        "Survived Fare"
      ]
    },
    {
      "cell_type": "code",
      "metadata": {
        "colab": {
          "base_uri": "https://localhost:8080/",
          "height": 377
        },
        "id": "hxsgY3l8s-dw",
        "outputId": "091682a3-f167-4b27-9c13-bc413eb3cbed"
      },
      "source": [
        "plt.figure(figsize=(10,6))\r\n",
        "plt.title(\"Fare Frequency\")\r\n",
        "sns.axes_style(\"dark\")\r\n",
        "sns.violinplot(y=survived[\"fare\"])\r\n",
        "plt.show()"
      ],
      "execution_count": 2222,
      "outputs": [
        {
          "output_type": "display_data",
          "data": {
            "image/png": "[encoded data removed]",
            "text/plain": [
              "<Figure size 720x432 with 1 Axes>"
            ]
          },
          "metadata": {
            "tags": [],
            "needs_background": "light"
          }
        }
      ]
    },
    {
      "cell_type": "code",
      "metadata": {
        "colab": {
          "base_uri": "https://localhost:8080/"
        },
        "id": "RLVRG4iTtMGR",
        "outputId": "b081b863-cf0d-4095-ba69-1ba753276bc0"
      },
      "source": [
        "survived_max_fare = survived.fare.max()\r\n",
        "survived_max_fare"
      ],
      "execution_count": 2223,
      "outputs": [
        {
          "output_type": "execute_result",
          "data": {
            "text/plain": [
              "512.33"
            ]
          },
          "metadata": {
            "tags": []
          },
          "execution_count": 2223
        }
      ]
    },
    {
      "cell_type": "code",
      "metadata": {
        "colab": {
          "base_uri": "https://localhost:8080/"
        },
        "id": "5Ctr7_TjtX01",
        "outputId": "828e885f-ed71-45bb-96b8-1a51331801f0"
      },
      "source": [
        "survived_min_fare = survived.fare.min()\r\n",
        "survived_min_fare"
      ],
      "execution_count": 2224,
      "outputs": [
        {
          "output_type": "execute_result",
          "data": {
            "text/plain": [
              "0.0"
            ]
          },
          "metadata": {
            "tags": []
          },
          "execution_count": 2224
        }
      ]
    },
    {
      "cell_type": "code",
      "metadata": {
        "colab": {
          "base_uri": "https://localhost:8080/"
        },
        "id": "BW-EAGJstfVo",
        "outputId": "e7cbe9be-5549-47b0-9140-8d6998fb801f"
      },
      "source": [
        "survived_median_fare = survived.fare.median()\r\n",
        "survived_median_fare"
      ],
      "execution_count": 2225,
      "outputs": [
        {
          "output_type": "execute_result",
          "data": {
            "text/plain": [
              "26.0"
            ]
          },
          "metadata": {
            "tags": []
          },
          "execution_count": 2225
        }
      ]
    },
    {
      "cell_type": "code",
      "metadata": {
        "colab": {
          "base_uri": "https://localhost:8080/"
        },
        "id": "3iEKj75Buf54",
        "outputId": "345ee081-a26d-420f-c89a-2548527927fd"
      },
      "source": [
        "survived_mode_fare = survived.fare.mode()\r\n",
        "survived_mode_fare"
      ],
      "execution_count": 2226,
      "outputs": [
        {
          "output_type": "execute_result",
          "data": {
            "text/plain": [
              "0    26.0\n",
              "dtype: float64"
            ]
          },
          "metadata": {
            "tags": []
          },
          "execution_count": 2226
        }
      ]
    },
    {
      "cell_type": "markdown",
      "metadata": {
        "id": "KxLzT6-7JGYz"
      },
      "source": [
        "Ordinal encode categorical columns"
      ]
    },
    {
      "cell_type": "code",
      "metadata": {
        "id": "zDkFqJAWJWad"
      },
      "source": [
        "sex1={'male':1, 'female':2}\r\n",
        "data.sex=data.sex.map(sex1)"
      ],
      "execution_count": 2227,
      "outputs": []
    },
    {
      "cell_type": "code",
      "metadata": {
        "id": "PzBus8oKvsZQ"
      },
      "source": [
        "age1={'Adult':1, 'Child':2}\r\n",
        "data.age_b=data.age_b.map(age1)"
      ],
      "execution_count": 2228,
      "outputs": []
    },
    {
      "cell_type": "markdown",
      "metadata": {
        "id": "6dMjh_gTLPd3"
      },
      "source": [
        "Convert age and fare to integar"
      ]
    },
    {
      "cell_type": "code",
      "metadata": {
        "id": "bGhSysUALZ8o"
      },
      "source": [
        "data.age = data.age.astype(int)\r\n",
        "data.fare = data.fare.astype(int)"
      ],
      "execution_count": 2229,
      "outputs": []
    },
    {
      "cell_type": "code",
      "metadata": {
        "colab": {
          "base_uri": "https://localhost:8080/",
          "height": 399
        },
        "id": "i8ZDm9aqvXTL",
        "outputId": "9a3cbde4-a5dc-4ec0-c2f0-b6de6bd6fa41"
      },
      "source": [
        "data"
      ],
      "execution_count": 2230,
      "outputs": [
        {
          "output_type": "execute_result",
          "data": {
            "text/html": [
              "<div>\n",
              "<style scoped>\n",
              "    .dataframe tbody tr th:only-of-type {\n",
              "        vertical-align: middle;\n",
              "    }\n",
              "\n",
              "    .dataframe tbody tr th {\n",
              "        vertical-align: top;\n",
              "    }\n",
              "\n",
              "    .dataframe thead th {\n",
              "        text-align: right;\n",
              "    }\n",
              "</style>\n",
              "<table border=\"1\" class=\"dataframe\">\n",
              "  <thead>\n",
              "    <tr style=\"text-align: right;\">\n",
              "      <th></th>\n",
              "      <th>ID</th>\n",
              "      <th>pclass</th>\n",
              "      <th>survived</th>\n",
              "      <th>sex</th>\n",
              "      <th>age</th>\n",
              "      <th>age_b</th>\n",
              "      <th>fare</th>\n",
              "    </tr>\n",
              "  </thead>\n",
              "  <tbody>\n",
              "    <tr>\n",
              "      <th>0</th>\n",
              "      <td>1</td>\n",
              "      <td>1</td>\n",
              "      <td>1</td>\n",
              "      <td>2</td>\n",
              "      <td>29</td>\n",
              "      <td>1</td>\n",
              "      <td>211</td>\n",
              "    </tr>\n",
              "    <tr>\n",
              "      <th>1</th>\n",
              "      <td>2</td>\n",
              "      <td>1</td>\n",
              "      <td>1</td>\n",
              "      <td>1</td>\n",
              "      <td>0</td>\n",
              "      <td>2</td>\n",
              "      <td>151</td>\n",
              "    </tr>\n",
              "    <tr>\n",
              "      <th>2</th>\n",
              "      <td>3</td>\n",
              "      <td>1</td>\n",
              "      <td>0</td>\n",
              "      <td>2</td>\n",
              "      <td>2</td>\n",
              "      <td>2</td>\n",
              "      <td>151</td>\n",
              "    </tr>\n",
              "    <tr>\n",
              "      <th>3</th>\n",
              "      <td>4</td>\n",
              "      <td>1</td>\n",
              "      <td>0</td>\n",
              "      <td>1</td>\n",
              "      <td>30</td>\n",
              "      <td>1</td>\n",
              "      <td>151</td>\n",
              "    </tr>\n",
              "    <tr>\n",
              "      <th>4</th>\n",
              "      <td>5</td>\n",
              "      <td>1</td>\n",
              "      <td>0</td>\n",
              "      <td>2</td>\n",
              "      <td>25</td>\n",
              "      <td>1</td>\n",
              "      <td>151</td>\n",
              "    </tr>\n",
              "    <tr>\n",
              "      <th>...</th>\n",
              "      <td>...</td>\n",
              "      <td>...</td>\n",
              "      <td>...</td>\n",
              "      <td>...</td>\n",
              "      <td>...</td>\n",
              "      <td>...</td>\n",
              "      <td>...</td>\n",
              "    </tr>\n",
              "    <tr>\n",
              "      <th>1304</th>\n",
              "      <td>1305</td>\n",
              "      <td>3</td>\n",
              "      <td>0</td>\n",
              "      <td>2</td>\n",
              "      <td>14</td>\n",
              "      <td>2</td>\n",
              "      <td>14</td>\n",
              "    </tr>\n",
              "    <tr>\n",
              "      <th>1305</th>\n",
              "      <td>1306</td>\n",
              "      <td>3</td>\n",
              "      <td>0</td>\n",
              "      <td>2</td>\n",
              "      <td>28</td>\n",
              "      <td>1</td>\n",
              "      <td>14</td>\n",
              "    </tr>\n",
              "    <tr>\n",
              "      <th>1306</th>\n",
              "      <td>1307</td>\n",
              "      <td>3</td>\n",
              "      <td>0</td>\n",
              "      <td>1</td>\n",
              "      <td>26</td>\n",
              "      <td>1</td>\n",
              "      <td>7</td>\n",
              "    </tr>\n",
              "    <tr>\n",
              "      <th>1307</th>\n",
              "      <td>1308</td>\n",
              "      <td>3</td>\n",
              "      <td>0</td>\n",
              "      <td>1</td>\n",
              "      <td>27</td>\n",
              "      <td>1</td>\n",
              "      <td>7</td>\n",
              "    </tr>\n",
              "    <tr>\n",
              "      <th>1308</th>\n",
              "      <td>1309</td>\n",
              "      <td>3</td>\n",
              "      <td>0</td>\n",
              "      <td>1</td>\n",
              "      <td>29</td>\n",
              "      <td>1</td>\n",
              "      <td>7</td>\n",
              "    </tr>\n",
              "  </tbody>\n",
              "</table>\n",
              "<p>1309 rows × 7 columns</p>\n",
              "</div>"
            ],
            "text/plain": [
              "        ID  pclass  survived  sex  age  age_b  fare\n",
              "0        1       1         1    2   29      1   211\n",
              "1        2       1         1    1    0      2   151\n",
              "2        3       1         0    2    2      2   151\n",
              "3        4       1         0    1   30      1   151\n",
              "4        5       1         0    2   25      1   151\n",
              "...    ...     ...       ...  ...  ...    ...   ...\n",
              "1304  1305       3         0    2   14      2    14\n",
              "1305  1306       3         0    2   28      1    14\n",
              "1306  1307       3         0    1   26      1     7\n",
              "1307  1308       3         0    1   27      1     7\n",
              "1308  1309       3         0    1   29      1     7\n",
              "\n",
              "[1309 rows x 7 columns]"
            ]
          },
          "metadata": {
            "tags": []
          },
          "execution_count": 2230
        }
      ]
    },
    {
      "cell_type": "markdown",
      "metadata": {
        "id": "SewctyPbeHRN"
      },
      "source": [
        "Set up X and y values"
      ]
    },
    {
      "cell_type": "code",
      "metadata": {
        "id": "xYAenwy4Eppo"
      },
      "source": [
        "y = data[\"survived\"]\n",
        "features = [\"pclass\", \"sex\", \"age\", \"age_b\", \"fare\"]\n",
        "X = data[features]"
      ],
      "execution_count": 2231,
      "outputs": []
    },
    {
      "cell_type": "markdown",
      "metadata": {
        "id": "g4sNU12vRQfg"
      },
      "source": [
        "2D graph"
      ]
    },
    {
      "cell_type": "code",
      "metadata": {
        "colab": {
          "base_uri": "https://localhost:8080/"
        },
        "id": "dhoGGPUERTL8",
        "outputId": "2cbd729f-94d2-48d1-936d-b0fdb6442779"
      },
      "source": [
        "from sklearn.preprocessing import StandardScaler\r\n",
        "\r\n",
        "X = StandardScaler().fit_transform(X) # normalizing the features\r\n",
        "X.shape"
      ],
      "execution_count": 2232,
      "outputs": [
        {
          "output_type": "execute_result",
          "data": {
            "text/plain": [
              "(1309, 5)"
            ]
          },
          "metadata": {
            "tags": []
          },
          "execution_count": 2232
        }
      ]
    },
    {
      "cell_type": "code",
      "metadata": {
        "colab": {
          "base_uri": "https://localhost:8080/"
        },
        "id": "ntIYM8zLZZAp",
        "outputId": "434a29d3-6aef-4fee-831a-8b4ec18337be"
      },
      "source": [
        "np.mean(X),np.std(X)"
      ],
      "execution_count": 2233,
      "outputs": [
        {
          "output_type": "execute_result",
          "data": {
            "text/plain": [
              "(-1.0422017209009873e-16, 1.0)"
            ]
          },
          "metadata": {
            "tags": []
          },
          "execution_count": 2233
        }
      ]
    },
    {
      "cell_type": "code",
      "metadata": {
        "colab": {
          "base_uri": "https://localhost:8080/"
        },
        "id": "_jfRZrGdZkWC",
        "outputId": "9c28c70f-6c27-4ddd-e9ce-4444d210190e"
      },
      "source": [
        "feat_cols = ['feature'+str(i) for i in range(X.shape[1])]\r\n",
        "feat_cols"
      ],
      "execution_count": 2234,
      "outputs": [
        {
          "output_type": "execute_result",
          "data": {
            "text/plain": [
              "['feature0', 'feature1', 'feature2', 'feature3', 'feature4']"
            ]
          },
          "metadata": {
            "tags": []
          },
          "execution_count": 2234
        }
      ]
    },
    {
      "cell_type": "code",
      "metadata": {
        "colab": {
          "base_uri": "https://localhost:8080/",
          "height": 399
        },
        "id": "h1hJPd2dZo-Y",
        "outputId": "381098be-0fdd-433c-d132-bfa2d401e832"
      },
      "source": [
        "normalised = pd.DataFrame(X,columns=feat_cols)\r\n",
        "normalised"
      ],
      "execution_count": 2235,
      "outputs": [
        {
          "output_type": "execute_result",
          "data": {
            "text/html": [
              "<div>\n",
              "<style scoped>\n",
              "    .dataframe tbody tr th:only-of-type {\n",
              "        vertical-align: middle;\n",
              "    }\n",
              "\n",
              "    .dataframe tbody tr th {\n",
              "        vertical-align: top;\n",
              "    }\n",
              "\n",
              "    .dataframe thead th {\n",
              "        text-align: right;\n",
              "    }\n",
              "</style>\n",
              "<table border=\"1\" class=\"dataframe\">\n",
              "  <thead>\n",
              "    <tr style=\"text-align: right;\">\n",
              "      <th></th>\n",
              "      <th>feature0</th>\n",
              "      <th>feature1</th>\n",
              "      <th>feature2</th>\n",
              "      <th>feature3</th>\n",
              "      <th>feature4</th>\n",
              "    </tr>\n",
              "  </thead>\n",
              "  <tbody>\n",
              "    <tr>\n",
              "      <th>0</th>\n",
              "      <td>-1.546098</td>\n",
              "      <td>1.344995</td>\n",
              "      <td>-0.037511</td>\n",
              "      <td>-0.301386</td>\n",
              "      <td>3.443743</td>\n",
              "    </tr>\n",
              "    <tr>\n",
              "      <th>1</th>\n",
              "      <td>-1.546098</td>\n",
              "      <td>-0.743497</td>\n",
              "      <td>-2.283521</td>\n",
              "      <td>3.318008</td>\n",
              "      <td>2.283876</td>\n",
              "    </tr>\n",
              "    <tr>\n",
              "      <th>2</th>\n",
              "      <td>-1.546098</td>\n",
              "      <td>1.344995</td>\n",
              "      <td>-2.128624</td>\n",
              "      <td>3.318008</td>\n",
              "      <td>2.283876</td>\n",
              "    </tr>\n",
              "    <tr>\n",
              "      <th>3</th>\n",
              "      <td>-1.546098</td>\n",
              "      <td>-0.743497</td>\n",
              "      <td>0.039937</td>\n",
              "      <td>-0.301386</td>\n",
              "      <td>2.283876</td>\n",
              "    </tr>\n",
              "    <tr>\n",
              "      <th>4</th>\n",
              "      <td>-1.546098</td>\n",
              "      <td>1.344995</td>\n",
              "      <td>-0.347306</td>\n",
              "      <td>-0.301386</td>\n",
              "      <td>2.283876</td>\n",
              "    </tr>\n",
              "    <tr>\n",
              "      <th>...</th>\n",
              "      <td>...</td>\n",
              "      <td>...</td>\n",
              "      <td>...</td>\n",
              "      <td>...</td>\n",
              "      <td>...</td>\n",
              "    </tr>\n",
              "    <tr>\n",
              "      <th>1304</th>\n",
              "      <td>0.841916</td>\n",
              "      <td>1.344995</td>\n",
              "      <td>-1.199241</td>\n",
              "      <td>3.318008</td>\n",
              "      <td>-0.364485</td>\n",
              "    </tr>\n",
              "    <tr>\n",
              "      <th>1305</th>\n",
              "      <td>0.841916</td>\n",
              "      <td>1.344995</td>\n",
              "      <td>-0.114960</td>\n",
              "      <td>-0.301386</td>\n",
              "      <td>-0.364485</td>\n",
              "    </tr>\n",
              "    <tr>\n",
              "      <th>1306</th>\n",
              "      <td>0.841916</td>\n",
              "      <td>-0.743497</td>\n",
              "      <td>-0.269857</td>\n",
              "      <td>-0.301386</td>\n",
              "      <td>-0.499803</td>\n",
              "    </tr>\n",
              "    <tr>\n",
              "      <th>1307</th>\n",
              "      <td>0.841916</td>\n",
              "      <td>-0.743497</td>\n",
              "      <td>-0.192409</td>\n",
              "      <td>-0.301386</td>\n",
              "      <td>-0.499803</td>\n",
              "    </tr>\n",
              "    <tr>\n",
              "      <th>1308</th>\n",
              "      <td>0.841916</td>\n",
              "      <td>-0.743497</td>\n",
              "      <td>-0.037511</td>\n",
              "      <td>-0.301386</td>\n",
              "      <td>-0.499803</td>\n",
              "    </tr>\n",
              "  </tbody>\n",
              "</table>\n",
              "<p>1309 rows × 5 columns</p>\n",
              "</div>"
            ],
            "text/plain": [
              "      feature0  feature1  feature2  feature3  feature4\n",
              "0    -1.546098  1.344995 -0.037511 -0.301386  3.443743\n",
              "1    -1.546098 -0.743497 -2.283521  3.318008  2.283876\n",
              "2    -1.546098  1.344995 -2.128624  3.318008  2.283876\n",
              "3    -1.546098 -0.743497  0.039937 -0.301386  2.283876\n",
              "4    -1.546098  1.344995 -0.347306 -0.301386  2.283876\n",
              "...        ...       ...       ...       ...       ...\n",
              "1304  0.841916  1.344995 -1.199241  3.318008 -0.364485\n",
              "1305  0.841916  1.344995 -0.114960 -0.301386 -0.364485\n",
              "1306  0.841916 -0.743497 -0.269857 -0.301386 -0.499803\n",
              "1307  0.841916 -0.743497 -0.192409 -0.301386 -0.499803\n",
              "1308  0.841916 -0.743497 -0.037511 -0.301386 -0.499803\n",
              "\n",
              "[1309 rows x 5 columns]"
            ]
          },
          "metadata": {
            "tags": []
          },
          "execution_count": 2235
        }
      ]
    },
    {
      "cell_type": "code",
      "metadata": {
        "id": "UH2gnnOsZuqP"
      },
      "source": [
        "from sklearn.decomposition import PCA\r\n",
        "\r\n",
        "pca_insurance = PCA(n_components=2)\r\n",
        "principalComponents_insurance = pca_insurance.fit_transform(X)"
      ],
      "execution_count": 2236,
      "outputs": []
    },
    {
      "cell_type": "code",
      "metadata": {
        "colab": {
          "base_uri": "https://localhost:8080/",
          "height": 500
        },
        "id": "ObPMcSF4ZyT5",
        "outputId": "b1096310-8cc8-466a-d89f-5b1e5a2b45d2"
      },
      "source": [
        "plt.figure(figsize=(12,8))\r\n",
        "plt.scatter(principalComponents_insurance[:, 0], principalComponents_insurance[:, 1], c = y, alpha = 1)"
      ],
      "execution_count": 2237,
      "outputs": [
        {
          "output_type": "execute_result",
          "data": {
            "text/plain": [
              "<matplotlib.collections.PathCollection at 0x7feaae929ac8>"
            ]
          },
          "metadata": {
            "tags": []
          },
          "execution_count": 2237
        },
        {
          "output_type": "display_data",
          "data": {
            "image/png": "[encoded data removed]",
            "text/plain": [
              "<Figure size 864x576 with 1 Axes>"
            ]
          },
          "metadata": {
            "tags": [],
            "needs_background": "light"
          }
        }
      ]
    },
    {
      "cell_type": "markdown",
      "metadata": {
        "id": "dUst2nUxeNNd"
      },
      "source": [
        "Split the training file for training and testing"
      ]
    },
    {
      "cell_type": "code",
      "metadata": {
        "colab": {
          "base_uri": "https://localhost:8080/"
        },
        "id": "57xNPOcpNhwj",
        "outputId": "36eaf500-67fd-4617-817b-730448354b1d"
      },
      "source": [
        "from sklearn.model_selection import train_test_split\r\n",
        "\r\n",
        "X_train, X_val, y_train, y_val = train_test_split( X, y, test_size=0.1, shuffle=True, random_state=1, stratify=y)\r\n",
        "X_train.shape, y_train.shape, X_val.shape, y_val.shape"
      ],
      "execution_count": 2238,
      "outputs": [
        {
          "output_type": "execute_result",
          "data": {
            "text/plain": [
              "((1178, 5), (1178,), (131, 5), (131,))"
            ]
          },
          "metadata": {
            "tags": []
          },
          "execution_count": 2238
        }
      ]
    },
    {
      "cell_type": "markdown",
      "metadata": {
        "id": "hTOWfAIW4f1L"
      },
      "source": [
        "Select model"
      ]
    },
    {
      "cell_type": "markdown",
      "metadata": {
        "id": "PgGyrkE2OvOn"
      },
      "source": [
        "MLPClassifier"
      ]
    },
    {
      "cell_type": "code",
      "metadata": {
        "colab": {
          "base_uri": "https://localhost:8080/"
        },
        "id": "gyUaBSpAOxoA",
        "outputId": "6ba5e941-5741-4c05-9df8-19b0ed5e0fcf"
      },
      "source": [
        "from sklearn.neural_network import MLPClassifier\r\n",
        "\r\n",
        "model = MLPClassifier(hidden_layer_sizes=(50,), activation='logistic', solver='adam', random_state=1, max_iter=500, verbose=True).fit(X_train, y_train)\r\n",
        "print(model.score(X_train,y_train))"
      ],
      "execution_count": 2239,
      "outputs": [
        {
          "output_type": "stream",
          "text": [
            "Iteration 1, loss = 0.73285182\n",
            "Iteration 2, loss = 0.70590194\n",
            "Iteration 3, loss = 0.68636479\n",
            "Iteration 4, loss = 0.67251322\n",
            "Iteration 5, loss = 0.66479849\n",
            "Iteration 6, loss = 0.65859569\n",
            "Iteration 7, loss = 0.65434254\n",
            "Iteration 8, loss = 0.65031870\n",
            "Iteration 9, loss = 0.64634344\n",
            "Iteration 10, loss = 0.64241577\n",
            "Iteration 11, loss = 0.63789051\n",
            "Iteration 12, loss = 0.63400252\n",
            "Iteration 13, loss = 0.62986693\n",
            "Iteration 14, loss = 0.62590525\n",
            "Iteration 15, loss = 0.62192168\n",
            "Iteration 16, loss = 0.61785254\n",
            "Iteration 17, loss = 0.61378554\n",
            "Iteration 18, loss = 0.60969427\n",
            "Iteration 19, loss = 0.60566369\n",
            "Iteration 20, loss = 0.60164233\n",
            "Iteration 21, loss = 0.59755273\n",
            "Iteration 22, loss = 0.59360431\n",
            "Iteration 23, loss = 0.58945741\n",
            "Iteration 24, loss = 0.58542426\n",
            "Iteration 25, loss = 0.58114645\n",
            "Iteration 26, loss = 0.57737646\n",
            "Iteration 27, loss = 0.57331496\n",
            "Iteration 28, loss = 0.56939465\n",
            "Iteration 29, loss = 0.56554446\n",
            "Iteration 30, loss = 0.56167432\n",
            "Iteration 31, loss = 0.55810507\n",
            "Iteration 32, loss = 0.55433376\n",
            "Iteration 33, loss = 0.55085088\n",
            "Iteration 34, loss = 0.54736939\n",
            "Iteration 35, loss = 0.54391276\n",
            "Iteration 36, loss = 0.54065716\n",
            "Iteration 37, loss = 0.53758555\n",
            "Iteration 38, loss = 0.53442969\n",
            "Iteration 39, loss = 0.53143958\n",
            "Iteration 40, loss = 0.52867107\n",
            "Iteration 41, loss = 0.52592558\n",
            "Iteration 42, loss = 0.52319624\n",
            "Iteration 43, loss = 0.52079844\n",
            "Iteration 44, loss = 0.51816306\n",
            "Iteration 45, loss = 0.51576252\n",
            "Iteration 46, loss = 0.51352033\n",
            "Iteration 47, loss = 0.51130414\n",
            "Iteration 48, loss = 0.50926691\n",
            "Iteration 49, loss = 0.50719204\n",
            "Iteration 50, loss = 0.50531992\n",
            "Iteration 51, loss = 0.50333708\n",
            "Iteration 52, loss = 0.50154126\n",
            "Iteration 53, loss = 0.49982171\n",
            "Iteration 54, loss = 0.49823517\n",
            "Iteration 55, loss = 0.49671588\n",
            "Iteration 56, loss = 0.49526112\n",
            "Iteration 57, loss = 0.49370173\n",
            "Iteration 58, loss = 0.49238186\n",
            "Iteration 59, loss = 0.49103123\n",
            "Iteration 60, loss = 0.48981456\n",
            "Iteration 61, loss = 0.48872632\n",
            "Iteration 62, loss = 0.48763538\n",
            "Iteration 63, loss = 0.48645564\n",
            "Iteration 64, loss = 0.48536490\n",
            "Iteration 65, loss = 0.48445055\n",
            "Iteration 66, loss = 0.48355497\n",
            "Iteration 67, loss = 0.48277053\n",
            "Iteration 68, loss = 0.48192747\n",
            "Iteration 69, loss = 0.48113714\n",
            "Iteration 70, loss = 0.48054133\n",
            "Iteration 71, loss = 0.47981045\n",
            "Iteration 72, loss = 0.47909456\n",
            "Iteration 73, loss = 0.47852882\n",
            "Iteration 74, loss = 0.47805584\n",
            "Iteration 75, loss = 0.47755095\n",
            "Iteration 76, loss = 0.47705231\n",
            "Iteration 77, loss = 0.47652412\n",
            "Iteration 78, loss = 0.47624265\n",
            "Iteration 79, loss = 0.47581174\n",
            "Iteration 80, loss = 0.47540093\n",
            "Iteration 81, loss = 0.47526676\n",
            "Iteration 82, loss = 0.47481393\n",
            "Iteration 83, loss = 0.47451726\n",
            "Iteration 84, loss = 0.47421082\n",
            "Iteration 85, loss = 0.47407088\n",
            "Iteration 86, loss = 0.47385537\n",
            "Iteration 87, loss = 0.47355107\n",
            "Iteration 88, loss = 0.47328985\n",
            "Iteration 89, loss = 0.47315910\n",
            "Iteration 90, loss = 0.47295348\n",
            "Iteration 91, loss = 0.47289393\n",
            "Iteration 92, loss = 0.47266696\n",
            "Iteration 93, loss = 0.47258722\n",
            "Iteration 94, loss = 0.47237924\n",
            "Iteration 95, loss = 0.47238410\n",
            "Iteration 96, loss = 0.47221511\n",
            "Iteration 97, loss = 0.47207597\n",
            "Iteration 98, loss = 0.47197641\n",
            "Iteration 99, loss = 0.47205600\n",
            "Iteration 100, loss = 0.47200960\n",
            "Iteration 101, loss = 0.47174565\n",
            "Iteration 102, loss = 0.47167220\n",
            "Iteration 103, loss = 0.47156186\n",
            "Iteration 104, loss = 0.47150600\n",
            "Iteration 105, loss = 0.47156320\n",
            "Iteration 106, loss = 0.47142274\n",
            "Iteration 107, loss = 0.47138006\n",
            "Iteration 108, loss = 0.47126550\n",
            "Iteration 109, loss = 0.47123774\n",
            "Iteration 110, loss = 0.47125788\n",
            "Iteration 111, loss = 0.47108856\n",
            "Iteration 112, loss = 0.47108104\n",
            "Iteration 113, loss = 0.47120326\n",
            "Iteration 114, loss = 0.47099181\n",
            "Iteration 115, loss = 0.47107316\n",
            "Iteration 116, loss = 0.47090480\n",
            "Iteration 117, loss = 0.47089313\n",
            "Iteration 118, loss = 0.47093612\n",
            "Iteration 119, loss = 0.47084354\n",
            "Iteration 120, loss = 0.47079815\n",
            "Iteration 121, loss = 0.47073089\n",
            "Iteration 122, loss = 0.47067147\n",
            "Training loss did not improve more than tol=0.000100 for 10 consecutive epochs. Stopping.\n",
            "0.7903225806451613\n"
          ],
          "name": "stdout"
        }
      ]
    },
    {
      "cell_type": "code",
      "metadata": {
        "id": "uxH5iNEaeI-7",
        "colab": {
          "base_uri": "https://localhost:8080/"
        },
        "outputId": "7535c673-4676-48c9-954c-b270f994ced6"
      },
      "source": [
        "y_pred = model.predict(X_val)\r\n",
        "print(model.score(X_val, y_val))"
      ],
      "execution_count": 2240,
      "outputs": [
        {
          "output_type": "stream",
          "text": [
            "0.816793893129771\n"
          ],
          "name": "stdout"
        }
      ]
    },
    {
      "cell_type": "markdown",
      "metadata": {
        "id": "L2102UFUVDq1"
      },
      "source": [
        "Confusion matrix"
      ]
    },
    {
      "cell_type": "code",
      "metadata": {
        "colab": {
          "base_uri": "https://localhost:8080/"
        },
        "id": "CPCtA-cfVGeF",
        "outputId": "37a3da36-85f0-47cf-f0aa-76419b3e17ef"
      },
      "source": [
        "#Create a confusion matrix\r\n",
        "from sklearn.metrics import confusion_matrix\r\n",
        "\r\n",
        "confusion_matrix(y_val, y_pred)"
      ],
      "execution_count": 2241,
      "outputs": [
        {
          "output_type": "execute_result",
          "data": {
            "text/plain": [
              "array([[69, 12],\n",
              "       [12, 38]])"
            ]
          },
          "metadata": {
            "tags": []
          },
          "execution_count": 2241
        }
      ]
    },
    {
      "cell_type": "code",
      "metadata": {
        "id": "a_QGAKkgc5JN",
        "colab": {
          "base_uri": "https://localhost:8080/",
          "height": 399
        },
        "outputId": "8a2e86fe-832a-4b0d-f790-eb5b758dcabb"
      },
      "source": [
        "df=pd.DataFrame({'Actual': y_val, 'Predicted':y_pred})\n",
        "df"
      ],
      "execution_count": 2242,
      "outputs": [
        {
          "output_type": "execute_result",
          "data": {
            "text/html": [
              "<div>\n",
              "<style scoped>\n",
              "    .dataframe tbody tr th:only-of-type {\n",
              "        vertical-align: middle;\n",
              "    }\n",
              "\n",
              "    .dataframe tbody tr th {\n",
              "        vertical-align: top;\n",
              "    }\n",
              "\n",
              "    .dataframe thead th {\n",
              "        text-align: right;\n",
              "    }\n",
              "</style>\n",
              "<table border=\"1\" class=\"dataframe\">\n",
              "  <thead>\n",
              "    <tr style=\"text-align: right;\">\n",
              "      <th></th>\n",
              "      <th>Actual</th>\n",
              "      <th>Predicted</th>\n",
              "    </tr>\n",
              "  </thead>\n",
              "  <tbody>\n",
              "    <tr>\n",
              "      <th>141</th>\n",
              "      <td>1</td>\n",
              "      <td>1</td>\n",
              "    </tr>\n",
              "    <tr>\n",
              "      <th>934</th>\n",
              "      <td>1</td>\n",
              "      <td>1</td>\n",
              "    </tr>\n",
              "    <tr>\n",
              "      <th>603</th>\n",
              "      <td>1</td>\n",
              "      <td>1</td>\n",
              "    </tr>\n",
              "    <tr>\n",
              "      <th>906</th>\n",
              "      <td>0</td>\n",
              "      <td>0</td>\n",
              "    </tr>\n",
              "    <tr>\n",
              "      <th>1117</th>\n",
              "      <td>0</td>\n",
              "      <td>0</td>\n",
              "    </tr>\n",
              "    <tr>\n",
              "      <th>...</th>\n",
              "      <td>...</td>\n",
              "      <td>...</td>\n",
              "    </tr>\n",
              "    <tr>\n",
              "      <th>595</th>\n",
              "      <td>0</td>\n",
              "      <td>0</td>\n",
              "    </tr>\n",
              "    <tr>\n",
              "      <th>539</th>\n",
              "      <td>0</td>\n",
              "      <td>0</td>\n",
              "    </tr>\n",
              "    <tr>\n",
              "      <th>137</th>\n",
              "      <td>1</td>\n",
              "      <td>1</td>\n",
              "    </tr>\n",
              "    <tr>\n",
              "      <th>1134</th>\n",
              "      <td>0</td>\n",
              "      <td>0</td>\n",
              "    </tr>\n",
              "    <tr>\n",
              "      <th>831</th>\n",
              "      <td>0</td>\n",
              "      <td>0</td>\n",
              "    </tr>\n",
              "  </tbody>\n",
              "</table>\n",
              "<p>131 rows × 2 columns</p>\n",
              "</div>"
            ],
            "text/plain": [
              "      Actual  Predicted\n",
              "141        1          1\n",
              "934        1          1\n",
              "603        1          1\n",
              "906        0          0\n",
              "1117       0          0\n",
              "...      ...        ...\n",
              "595        0          0\n",
              "539        0          0\n",
              "137        1          1\n",
              "1134       0          0\n",
              "831        0          0\n",
              "\n",
              "[131 rows x 2 columns]"
            ]
          },
          "metadata": {
            "tags": []
          },
          "execution_count": 2242
        }
      ]
    },
    {
      "cell_type": "markdown",
      "metadata": {
        "id": "VMEwJaj2bRUP"
      },
      "source": [
        "Plot errors"
      ]
    },
    {
      "cell_type": "code",
      "metadata": {
        "id": "nj74M_dmbTbc"
      },
      "source": [
        "pca_val = PCA(n_components=2)\r\n",
        "principalComponents_val = pca_val.fit_transform(X_val)"
      ],
      "execution_count": 2243,
      "outputs": []
    },
    {
      "cell_type": "code",
      "metadata": {
        "colab": {
          "base_uri": "https://localhost:8080/",
          "height": 500
        },
        "id": "julFCUoTbX1G",
        "outputId": "cc21554e-b53b-43a6-f2d3-e671bf216786"
      },
      "source": [
        "plt.figure(figsize = (12, 8))\r\n",
        "plt.scatter(principalComponents_val[:, 0], principalComponents_val[:,1], c = y_pred == y_val - 1, alpha = .8, s = 50)"
      ],
      "execution_count": 2244,
      "outputs": [
        {
          "output_type": "execute_result",
          "data": {
            "text/plain": [
              "<matplotlib.collections.PathCollection at 0x7feaae7c3a90>"
            ]
          },
          "metadata": {
            "tags": []
          },
          "execution_count": 2244
        },
        {
          "output_type": "display_data",
          "data": {
            "image/png": "[encoded data removed]",
            "text/plain": [
              "<Figure size 864x576 with 1 Axes>"
            ]
          },
          "metadata": {
            "tags": [],
            "needs_background": "light"
          }
        }
      ]
    }
  ]
}