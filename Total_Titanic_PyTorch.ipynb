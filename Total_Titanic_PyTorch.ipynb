{
  "nbformat": 4,
  "nbformat_minor": 0,
  "metadata": {
    "colab": {
      "name": "Total Titanic - PyTorch.ipynb",
      "provenance": []
    },
    "kernelspec": {
      "name": "python3",
      "display_name": "Python 3"
    }
  },
  "cells": [
    {
      "cell_type": "markdown",
      "metadata": {
        "id": "Q1qRsYY4KMPa"
      },
      "source": [
        "Problem Statement\n",
        "\n",
        "The sinking of the Titanic is one of the most infamous shipwrecks in history.\n",
        "\n",
        "On April 15, 1912, during her maiden voyage, the widely considered “unsinkable” RMS Titanic sank after colliding with an iceberg. Unfortunately, there weren’t enough lifeboats for everyone onboard, resulting in the death of 1502 out of 2224 passengers and crew.\n",
        "\n",
        "While there was some element of luck involved in surviving, it seems some groups of people were more likely to survive than others.\n",
        "\n",
        "In this challenge, we ask you to build a predictive model that answers the question: “what sorts of people were more likely to survive?” using passenger data (ie name, age, gender, socio-economic class, etc)."
      ]
    },
    {
      "cell_type": "markdown",
      "metadata": {
        "id": "I97dFlbQdUiC"
      },
      "source": [
        "Load Libraries\n"
      ]
    },
    {
      "cell_type": "code",
      "metadata": {
        "id": "dGyV-I3POvsQ"
      },
      "source": [
        "#import libraries\n",
        "import pandas as pd\n",
        "import numpy as np\n",
        "import matplotlib.pyplot as plt\n",
        "%matplotlib inline\n",
        "import seaborn as sns"
      ],
      "execution_count": 1347,
      "outputs": []
    },
    {
      "cell_type": "markdown",
      "metadata": {
        "id": "SbbpR-izddMs"
      },
      "source": [
        "Loads and read files"
      ]
    },
    {
      "cell_type": "code",
      "metadata": {
        "id": "sjC9ZeqZRHeg"
      },
      "source": [
        "#read files\n",
        "#Reading train file:\n",
        "data = pd.read_csv('https://raw.githubusercontent.com/qlik-oss/sse-r-plugin/master/sense_apps/R_DecisionTree/Titanic_data.csv')\n"
      ],
      "execution_count": 1348,
      "outputs": []
    },
    {
      "cell_type": "code",
      "metadata": {
        "id": "QwpKW--rTrYh",
        "colab": {
          "base_uri": "https://localhost:8080/",
          "height": 399
        },
        "outputId": "f23c9636-f322-42ea-c16c-a0db63de8693"
      },
      "source": [
        "data"
      ],
      "execution_count": 1349,
      "outputs": [
        {
          "output_type": "execute_result",
          "data": {
            "text/html": [
              "<div>\n",
              "<style scoped>\n",
              "    .dataframe tbody tr th:only-of-type {\n",
              "        vertical-align: middle;\n",
              "    }\n",
              "\n",
              "    .dataframe tbody tr th {\n",
              "        vertical-align: top;\n",
              "    }\n",
              "\n",
              "    .dataframe thead th {\n",
              "        text-align: right;\n",
              "    }\n",
              "</style>\n",
              "<table border=\"1\" class=\"dataframe\">\n",
              "  <thead>\n",
              "    <tr style=\"text-align: right;\">\n",
              "      <th></th>\n",
              "      <th>ID</th>\n",
              "      <th>pclass</th>\n",
              "      <th>survived</th>\n",
              "      <th>sex</th>\n",
              "      <th>age</th>\n",
              "      <th>age_b</th>\n",
              "      <th>fare</th>\n",
              "    </tr>\n",
              "  </thead>\n",
              "  <tbody>\n",
              "    <tr>\n",
              "      <th>0</th>\n",
              "      <td>1</td>\n",
              "      <td>1</td>\n",
              "      <td>1</td>\n",
              "      <td>female</td>\n",
              "      <td>29</td>\n",
              "      <td>Adult</td>\n",
              "      <td>211,34</td>\n",
              "    </tr>\n",
              "    <tr>\n",
              "      <th>1</th>\n",
              "      <td>2</td>\n",
              "      <td>1</td>\n",
              "      <td>1</td>\n",
              "      <td>male</td>\n",
              "      <td>0,9167</td>\n",
              "      <td>Child</td>\n",
              "      <td>151,55</td>\n",
              "    </tr>\n",
              "    <tr>\n",
              "      <th>2</th>\n",
              "      <td>3</td>\n",
              "      <td>1</td>\n",
              "      <td>0</td>\n",
              "      <td>female</td>\n",
              "      <td>2</td>\n",
              "      <td>Child</td>\n",
              "      <td>151,55</td>\n",
              "    </tr>\n",
              "    <tr>\n",
              "      <th>3</th>\n",
              "      <td>4</td>\n",
              "      <td>1</td>\n",
              "      <td>0</td>\n",
              "      <td>male</td>\n",
              "      <td>30</td>\n",
              "      <td>Adult</td>\n",
              "      <td>151,55</td>\n",
              "    </tr>\n",
              "    <tr>\n",
              "      <th>4</th>\n",
              "      <td>5</td>\n",
              "      <td>1</td>\n",
              "      <td>0</td>\n",
              "      <td>female</td>\n",
              "      <td>25</td>\n",
              "      <td>Adult</td>\n",
              "      <td>151,55</td>\n",
              "    </tr>\n",
              "    <tr>\n",
              "      <th>...</th>\n",
              "      <td>...</td>\n",
              "      <td>...</td>\n",
              "      <td>...</td>\n",
              "      <td>...</td>\n",
              "      <td>...</td>\n",
              "      <td>...</td>\n",
              "      <td>...</td>\n",
              "    </tr>\n",
              "    <tr>\n",
              "      <th>1304</th>\n",
              "      <td>1305</td>\n",
              "      <td>3</td>\n",
              "      <td>0</td>\n",
              "      <td>female</td>\n",
              "      <td>14,5</td>\n",
              "      <td>Child</td>\n",
              "      <td>14,45</td>\n",
              "    </tr>\n",
              "    <tr>\n",
              "      <th>1305</th>\n",
              "      <td>1306</td>\n",
              "      <td>3</td>\n",
              "      <td>0</td>\n",
              "      <td>female</td>\n",
              "      <td>NaN</td>\n",
              "      <td>Adult</td>\n",
              "      <td>14,45</td>\n",
              "    </tr>\n",
              "    <tr>\n",
              "      <th>1306</th>\n",
              "      <td>1307</td>\n",
              "      <td>3</td>\n",
              "      <td>0</td>\n",
              "      <td>male</td>\n",
              "      <td>26,5</td>\n",
              "      <td>Adult</td>\n",
              "      <td>7,22</td>\n",
              "    </tr>\n",
              "    <tr>\n",
              "      <th>1307</th>\n",
              "      <td>1308</td>\n",
              "      <td>3</td>\n",
              "      <td>0</td>\n",
              "      <td>male</td>\n",
              "      <td>27</td>\n",
              "      <td>Adult</td>\n",
              "      <td>7,22</td>\n",
              "    </tr>\n",
              "    <tr>\n",
              "      <th>1308</th>\n",
              "      <td>1309</td>\n",
              "      <td>3</td>\n",
              "      <td>0</td>\n",
              "      <td>male</td>\n",
              "      <td>29</td>\n",
              "      <td>Adult</td>\n",
              "      <td>7,88</td>\n",
              "    </tr>\n",
              "  </tbody>\n",
              "</table>\n",
              "<p>1309 rows × 7 columns</p>\n",
              "</div>"
            ],
            "text/plain": [
              "        ID  pclass  survived     sex     age  age_b    fare\n",
              "0        1       1         1  female      29  Adult  211,34\n",
              "1        2       1         1    male  0,9167  Child  151,55\n",
              "2        3       1         0  female       2  Child  151,55\n",
              "3        4       1         0    male      30  Adult  151,55\n",
              "4        5       1         0  female      25  Adult  151,55\n",
              "...    ...     ...       ...     ...     ...    ...     ...\n",
              "1304  1305       3         0  female    14,5  Child   14,45\n",
              "1305  1306       3         0  female     NaN  Adult   14,45\n",
              "1306  1307       3         0    male    26,5  Adult    7,22\n",
              "1307  1308       3         0    male      27  Adult    7,22\n",
              "1308  1309       3         0    male      29  Adult    7,88\n",
              "\n",
              "[1309 rows x 7 columns]"
            ]
          },
          "metadata": {
            "tags": []
          },
          "execution_count": 1349
        }
      ]
    },
    {
      "cell_type": "code",
      "metadata": {
        "id": "XzUOL1zmUFf0",
        "colab": {
          "base_uri": "https://localhost:8080/",
          "height": 282
        },
        "outputId": "1ba98509-4d4f-4f86-aff4-eb5833fac496"
      },
      "source": [
        "data.describe()"
      ],
      "execution_count": 1350,
      "outputs": [
        {
          "output_type": "execute_result",
          "data": {
            "text/html": [
              "<div>\n",
              "<style scoped>\n",
              "    .dataframe tbody tr th:only-of-type {\n",
              "        vertical-align: middle;\n",
              "    }\n",
              "\n",
              "    .dataframe tbody tr th {\n",
              "        vertical-align: top;\n",
              "    }\n",
              "\n",
              "    .dataframe thead th {\n",
              "        text-align: right;\n",
              "    }\n",
              "</style>\n",
              "<table border=\"1\" class=\"dataframe\">\n",
              "  <thead>\n",
              "    <tr style=\"text-align: right;\">\n",
              "      <th></th>\n",
              "      <th>ID</th>\n",
              "      <th>pclass</th>\n",
              "      <th>survived</th>\n",
              "    </tr>\n",
              "  </thead>\n",
              "  <tbody>\n",
              "    <tr>\n",
              "      <th>count</th>\n",
              "      <td>1309.000000</td>\n",
              "      <td>1309.000000</td>\n",
              "      <td>1309.000000</td>\n",
              "    </tr>\n",
              "    <tr>\n",
              "      <th>mean</th>\n",
              "      <td>655.000000</td>\n",
              "      <td>2.294882</td>\n",
              "      <td>0.381971</td>\n",
              "    </tr>\n",
              "    <tr>\n",
              "      <th>std</th>\n",
              "      <td>378.020061</td>\n",
              "      <td>0.837836</td>\n",
              "      <td>0.486055</td>\n",
              "    </tr>\n",
              "    <tr>\n",
              "      <th>min</th>\n",
              "      <td>1.000000</td>\n",
              "      <td>1.000000</td>\n",
              "      <td>0.000000</td>\n",
              "    </tr>\n",
              "    <tr>\n",
              "      <th>25%</th>\n",
              "      <td>328.000000</td>\n",
              "      <td>2.000000</td>\n",
              "      <td>0.000000</td>\n",
              "    </tr>\n",
              "    <tr>\n",
              "      <th>50%</th>\n",
              "      <td>655.000000</td>\n",
              "      <td>3.000000</td>\n",
              "      <td>0.000000</td>\n",
              "    </tr>\n",
              "    <tr>\n",
              "      <th>75%</th>\n",
              "      <td>982.000000</td>\n",
              "      <td>3.000000</td>\n",
              "      <td>1.000000</td>\n",
              "    </tr>\n",
              "    <tr>\n",
              "      <th>max</th>\n",
              "      <td>1309.000000</td>\n",
              "      <td>3.000000</td>\n",
              "      <td>1.000000</td>\n",
              "    </tr>\n",
              "  </tbody>\n",
              "</table>\n",
              "</div>"
            ],
            "text/plain": [
              "                ID       pclass     survived\n",
              "count  1309.000000  1309.000000  1309.000000\n",
              "mean    655.000000     2.294882     0.381971\n",
              "std     378.020061     0.837836     0.486055\n",
              "min       1.000000     1.000000     0.000000\n",
              "25%     328.000000     2.000000     0.000000\n",
              "50%     655.000000     3.000000     0.000000\n",
              "75%     982.000000     3.000000     1.000000\n",
              "max    1309.000000     3.000000     1.000000"
            ]
          },
          "metadata": {
            "tags": []
          },
          "execution_count": 1350
        }
      ]
    },
    {
      "cell_type": "code",
      "metadata": {
        "colab": {
          "base_uri": "https://localhost:8080/"
        },
        "id": "bksOup2si-oE",
        "outputId": "78270f07-4ed6-42c2-e558-903dd8f2e90e"
      },
      "source": [
        "data.info()"
      ],
      "execution_count": 1351,
      "outputs": [
        {
          "output_type": "stream",
          "text": [
            "<class 'pandas.core.frame.DataFrame'>\n",
            "RangeIndex: 1309 entries, 0 to 1308\n",
            "Data columns (total 7 columns):\n",
            " #   Column    Non-Null Count  Dtype \n",
            "---  ------    --------------  ----- \n",
            " 0   ID        1309 non-null   int64 \n",
            " 1   pclass    1309 non-null   int64 \n",
            " 2   survived  1309 non-null   int64 \n",
            " 3   sex       1309 non-null   object\n",
            " 4   age       1046 non-null   object\n",
            " 5   age_b     1309 non-null   object\n",
            " 6   fare      1308 non-null   object\n",
            "dtypes: int64(3), object(4)\n",
            "memory usage: 71.7+ KB\n"
          ],
          "name": "stdout"
        }
      ]
    },
    {
      "cell_type": "markdown",
      "metadata": {
        "id": "bCHsFgMtj2ga"
      },
      "source": [
        "Replace comma with full stop"
      ]
    },
    {
      "cell_type": "code",
      "metadata": {
        "colab": {
          "base_uri": "https://localhost:8080/",
          "height": 399
        },
        "id": "y4hhkhr1k8EE",
        "outputId": "fff4e83f-8784-41a1-f1fc-7c90d45a78f4"
      },
      "source": [
        "data.age = data.age.str.replace(',','.')\n",
        "data.fare = data.fare.str.replace(',','.')\n",
        "data"
      ],
      "execution_count": 1352,
      "outputs": [
        {
          "output_type": "execute_result",
          "data": {
            "text/html": [
              "<div>\n",
              "<style scoped>\n",
              "    .dataframe tbody tr th:only-of-type {\n",
              "        vertical-align: middle;\n",
              "    }\n",
              "\n",
              "    .dataframe tbody tr th {\n",
              "        vertical-align: top;\n",
              "    }\n",
              "\n",
              "    .dataframe thead th {\n",
              "        text-align: right;\n",
              "    }\n",
              "</style>\n",
              "<table border=\"1\" class=\"dataframe\">\n",
              "  <thead>\n",
              "    <tr style=\"text-align: right;\">\n",
              "      <th></th>\n",
              "      <th>ID</th>\n",
              "      <th>pclass</th>\n",
              "      <th>survived</th>\n",
              "      <th>sex</th>\n",
              "      <th>age</th>\n",
              "      <th>age_b</th>\n",
              "      <th>fare</th>\n",
              "    </tr>\n",
              "  </thead>\n",
              "  <tbody>\n",
              "    <tr>\n",
              "      <th>0</th>\n",
              "      <td>1</td>\n",
              "      <td>1</td>\n",
              "      <td>1</td>\n",
              "      <td>female</td>\n",
              "      <td>29</td>\n",
              "      <td>Adult</td>\n",
              "      <td>211.34</td>\n",
              "    </tr>\n",
              "    <tr>\n",
              "      <th>1</th>\n",
              "      <td>2</td>\n",
              "      <td>1</td>\n",
              "      <td>1</td>\n",
              "      <td>male</td>\n",
              "      <td>0.9167</td>\n",
              "      <td>Child</td>\n",
              "      <td>151.55</td>\n",
              "    </tr>\n",
              "    <tr>\n",
              "      <th>2</th>\n",
              "      <td>3</td>\n",
              "      <td>1</td>\n",
              "      <td>0</td>\n",
              "      <td>female</td>\n",
              "      <td>2</td>\n",
              "      <td>Child</td>\n",
              "      <td>151.55</td>\n",
              "    </tr>\n",
              "    <tr>\n",
              "      <th>3</th>\n",
              "      <td>4</td>\n",
              "      <td>1</td>\n",
              "      <td>0</td>\n",
              "      <td>male</td>\n",
              "      <td>30</td>\n",
              "      <td>Adult</td>\n",
              "      <td>151.55</td>\n",
              "    </tr>\n",
              "    <tr>\n",
              "      <th>4</th>\n",
              "      <td>5</td>\n",
              "      <td>1</td>\n",
              "      <td>0</td>\n",
              "      <td>female</td>\n",
              "      <td>25</td>\n",
              "      <td>Adult</td>\n",
              "      <td>151.55</td>\n",
              "    </tr>\n",
              "    <tr>\n",
              "      <th>...</th>\n",
              "      <td>...</td>\n",
              "      <td>...</td>\n",
              "      <td>...</td>\n",
              "      <td>...</td>\n",
              "      <td>...</td>\n",
              "      <td>...</td>\n",
              "      <td>...</td>\n",
              "    </tr>\n",
              "    <tr>\n",
              "      <th>1304</th>\n",
              "      <td>1305</td>\n",
              "      <td>3</td>\n",
              "      <td>0</td>\n",
              "      <td>female</td>\n",
              "      <td>14.5</td>\n",
              "      <td>Child</td>\n",
              "      <td>14.45</td>\n",
              "    </tr>\n",
              "    <tr>\n",
              "      <th>1305</th>\n",
              "      <td>1306</td>\n",
              "      <td>3</td>\n",
              "      <td>0</td>\n",
              "      <td>female</td>\n",
              "      <td>NaN</td>\n",
              "      <td>Adult</td>\n",
              "      <td>14.45</td>\n",
              "    </tr>\n",
              "    <tr>\n",
              "      <th>1306</th>\n",
              "      <td>1307</td>\n",
              "      <td>3</td>\n",
              "      <td>0</td>\n",
              "      <td>male</td>\n",
              "      <td>26.5</td>\n",
              "      <td>Adult</td>\n",
              "      <td>7.22</td>\n",
              "    </tr>\n",
              "    <tr>\n",
              "      <th>1307</th>\n",
              "      <td>1308</td>\n",
              "      <td>3</td>\n",
              "      <td>0</td>\n",
              "      <td>male</td>\n",
              "      <td>27</td>\n",
              "      <td>Adult</td>\n",
              "      <td>7.22</td>\n",
              "    </tr>\n",
              "    <tr>\n",
              "      <th>1308</th>\n",
              "      <td>1309</td>\n",
              "      <td>3</td>\n",
              "      <td>0</td>\n",
              "      <td>male</td>\n",
              "      <td>29</td>\n",
              "      <td>Adult</td>\n",
              "      <td>7.88</td>\n",
              "    </tr>\n",
              "  </tbody>\n",
              "</table>\n",
              "<p>1309 rows × 7 columns</p>\n",
              "</div>"
            ],
            "text/plain": [
              "        ID  pclass  survived     sex     age  age_b    fare\n",
              "0        1       1         1  female      29  Adult  211.34\n",
              "1        2       1         1    male  0.9167  Child  151.55\n",
              "2        3       1         0  female       2  Child  151.55\n",
              "3        4       1         0    male      30  Adult  151.55\n",
              "4        5       1         0  female      25  Adult  151.55\n",
              "...    ...     ...       ...     ...     ...    ...     ...\n",
              "1304  1305       3         0  female    14.5  Child   14.45\n",
              "1305  1306       3         0  female     NaN  Adult   14.45\n",
              "1306  1307       3         0    male    26.5  Adult    7.22\n",
              "1307  1308       3         0    male      27  Adult    7.22\n",
              "1308  1309       3         0    male      29  Adult    7.88\n",
              "\n",
              "[1309 rows x 7 columns]"
            ]
          },
          "metadata": {
            "tags": []
          },
          "execution_count": 1352
        }
      ]
    },
    {
      "cell_type": "markdown",
      "metadata": {
        "id": "86d1bIuSleRZ"
      },
      "source": [
        "Convert object to float"
      ]
    },
    {
      "cell_type": "code",
      "metadata": {
        "colab": {
          "base_uri": "https://localhost:8080/",
          "height": 399
        },
        "id": "H7RXkFCPlhUu",
        "outputId": "6f76a30e-7faf-48e9-8022-924b11d828ca"
      },
      "source": [
        "data.age = data.age.astype(float)\n",
        "data.fare = data.fare.astype(float)\n",
        "data"
      ],
      "execution_count": 1353,
      "outputs": [
        {
          "output_type": "execute_result",
          "data": {
            "text/html": [
              "<div>\n",
              "<style scoped>\n",
              "    .dataframe tbody tr th:only-of-type {\n",
              "        vertical-align: middle;\n",
              "    }\n",
              "\n",
              "    .dataframe tbody tr th {\n",
              "        vertical-align: top;\n",
              "    }\n",
              "\n",
              "    .dataframe thead th {\n",
              "        text-align: right;\n",
              "    }\n",
              "</style>\n",
              "<table border=\"1\" class=\"dataframe\">\n",
              "  <thead>\n",
              "    <tr style=\"text-align: right;\">\n",
              "      <th></th>\n",
              "      <th>ID</th>\n",
              "      <th>pclass</th>\n",
              "      <th>survived</th>\n",
              "      <th>sex</th>\n",
              "      <th>age</th>\n",
              "      <th>age_b</th>\n",
              "      <th>fare</th>\n",
              "    </tr>\n",
              "  </thead>\n",
              "  <tbody>\n",
              "    <tr>\n",
              "      <th>0</th>\n",
              "      <td>1</td>\n",
              "      <td>1</td>\n",
              "      <td>1</td>\n",
              "      <td>female</td>\n",
              "      <td>29.0000</td>\n",
              "      <td>Adult</td>\n",
              "      <td>211.34</td>\n",
              "    </tr>\n",
              "    <tr>\n",
              "      <th>1</th>\n",
              "      <td>2</td>\n",
              "      <td>1</td>\n",
              "      <td>1</td>\n",
              "      <td>male</td>\n",
              "      <td>0.9167</td>\n",
              "      <td>Child</td>\n",
              "      <td>151.55</td>\n",
              "    </tr>\n",
              "    <tr>\n",
              "      <th>2</th>\n",
              "      <td>3</td>\n",
              "      <td>1</td>\n",
              "      <td>0</td>\n",
              "      <td>female</td>\n",
              "      <td>2.0000</td>\n",
              "      <td>Child</td>\n",
              "      <td>151.55</td>\n",
              "    </tr>\n",
              "    <tr>\n",
              "      <th>3</th>\n",
              "      <td>4</td>\n",
              "      <td>1</td>\n",
              "      <td>0</td>\n",
              "      <td>male</td>\n",
              "      <td>30.0000</td>\n",
              "      <td>Adult</td>\n",
              "      <td>151.55</td>\n",
              "    </tr>\n",
              "    <tr>\n",
              "      <th>4</th>\n",
              "      <td>5</td>\n",
              "      <td>1</td>\n",
              "      <td>0</td>\n",
              "      <td>female</td>\n",
              "      <td>25.0000</td>\n",
              "      <td>Adult</td>\n",
              "      <td>151.55</td>\n",
              "    </tr>\n",
              "    <tr>\n",
              "      <th>...</th>\n",
              "      <td>...</td>\n",
              "      <td>...</td>\n",
              "      <td>...</td>\n",
              "      <td>...</td>\n",
              "      <td>...</td>\n",
              "      <td>...</td>\n",
              "      <td>...</td>\n",
              "    </tr>\n",
              "    <tr>\n",
              "      <th>1304</th>\n",
              "      <td>1305</td>\n",
              "      <td>3</td>\n",
              "      <td>0</td>\n",
              "      <td>female</td>\n",
              "      <td>14.5000</td>\n",
              "      <td>Child</td>\n",
              "      <td>14.45</td>\n",
              "    </tr>\n",
              "    <tr>\n",
              "      <th>1305</th>\n",
              "      <td>1306</td>\n",
              "      <td>3</td>\n",
              "      <td>0</td>\n",
              "      <td>female</td>\n",
              "      <td>NaN</td>\n",
              "      <td>Adult</td>\n",
              "      <td>14.45</td>\n",
              "    </tr>\n",
              "    <tr>\n",
              "      <th>1306</th>\n",
              "      <td>1307</td>\n",
              "      <td>3</td>\n",
              "      <td>0</td>\n",
              "      <td>male</td>\n",
              "      <td>26.5000</td>\n",
              "      <td>Adult</td>\n",
              "      <td>7.22</td>\n",
              "    </tr>\n",
              "    <tr>\n",
              "      <th>1307</th>\n",
              "      <td>1308</td>\n",
              "      <td>3</td>\n",
              "      <td>0</td>\n",
              "      <td>male</td>\n",
              "      <td>27.0000</td>\n",
              "      <td>Adult</td>\n",
              "      <td>7.22</td>\n",
              "    </tr>\n",
              "    <tr>\n",
              "      <th>1308</th>\n",
              "      <td>1309</td>\n",
              "      <td>3</td>\n",
              "      <td>0</td>\n",
              "      <td>male</td>\n",
              "      <td>29.0000</td>\n",
              "      <td>Adult</td>\n",
              "      <td>7.88</td>\n",
              "    </tr>\n",
              "  </tbody>\n",
              "</table>\n",
              "<p>1309 rows × 7 columns</p>\n",
              "</div>"
            ],
            "text/plain": [
              "        ID  pclass  survived     sex      age  age_b    fare\n",
              "0        1       1         1  female  29.0000  Adult  211.34\n",
              "1        2       1         1    male   0.9167  Child  151.55\n",
              "2        3       1         0  female   2.0000  Child  151.55\n",
              "3        4       1         0    male  30.0000  Adult  151.55\n",
              "4        5       1         0  female  25.0000  Adult  151.55\n",
              "...    ...     ...       ...     ...      ...    ...     ...\n",
              "1304  1305       3         0  female  14.5000  Child   14.45\n",
              "1305  1306       3         0  female      NaN  Adult   14.45\n",
              "1306  1307       3         0    male  26.5000  Adult    7.22\n",
              "1307  1308       3         0    male  27.0000  Adult    7.22\n",
              "1308  1309       3         0    male  29.0000  Adult    7.88\n",
              "\n",
              "[1309 rows x 7 columns]"
            ]
          },
          "metadata": {
            "tags": []
          },
          "execution_count": 1353
        }
      ]
    },
    {
      "cell_type": "markdown",
      "metadata": {
        "id": "jsHsd2BnmUeB"
      },
      "source": [
        "Check for null values"
      ]
    },
    {
      "cell_type": "code",
      "metadata": {
        "colab": {
          "base_uri": "https://localhost:8080/"
        },
        "id": "U0Ox686xmXYy",
        "outputId": "451c2d89-f5ec-4e0b-9dce-eacf74450f88"
      },
      "source": [
        "data.isnull().sum()"
      ],
      "execution_count": 1354,
      "outputs": [
        {
          "output_type": "execute_result",
          "data": {
            "text/plain": [
              "ID            0\n",
              "pclass        0\n",
              "survived      0\n",
              "sex           0\n",
              "age         263\n",
              "age_b         0\n",
              "fare          1\n",
              "dtype: int64"
            ]
          },
          "metadata": {
            "tags": []
          },
          "execution_count": 1354
        }
      ]
    },
    {
      "cell_type": "markdown",
      "metadata": {
        "id": "LTR4LjNJmkJy"
      },
      "source": [
        "Replace null values with 0"
      ]
    },
    {
      "cell_type": "code",
      "metadata": {
        "colab": {
          "base_uri": "https://localhost:8080/",
          "height": 399
        },
        "id": "9cqJ1YO3mnDJ",
        "outputId": "2dbd373b-4e4e-4815-9bcd-c7a85acf2d50"
      },
      "source": [
        "data.fillna(0)"
      ],
      "execution_count": 1355,
      "outputs": [
        {
          "output_type": "execute_result",
          "data": {
            "text/html": [
              "<div>\n",
              "<style scoped>\n",
              "    .dataframe tbody tr th:only-of-type {\n",
              "        vertical-align: middle;\n",
              "    }\n",
              "\n",
              "    .dataframe tbody tr th {\n",
              "        vertical-align: top;\n",
              "    }\n",
              "\n",
              "    .dataframe thead th {\n",
              "        text-align: right;\n",
              "    }\n",
              "</style>\n",
              "<table border=\"1\" class=\"dataframe\">\n",
              "  <thead>\n",
              "    <tr style=\"text-align: right;\">\n",
              "      <th></th>\n",
              "      <th>ID</th>\n",
              "      <th>pclass</th>\n",
              "      <th>survived</th>\n",
              "      <th>sex</th>\n",
              "      <th>age</th>\n",
              "      <th>age_b</th>\n",
              "      <th>fare</th>\n",
              "    </tr>\n",
              "  </thead>\n",
              "  <tbody>\n",
              "    <tr>\n",
              "      <th>0</th>\n",
              "      <td>1</td>\n",
              "      <td>1</td>\n",
              "      <td>1</td>\n",
              "      <td>female</td>\n",
              "      <td>29.0000</td>\n",
              "      <td>Adult</td>\n",
              "      <td>211.34</td>\n",
              "    </tr>\n",
              "    <tr>\n",
              "      <th>1</th>\n",
              "      <td>2</td>\n",
              "      <td>1</td>\n",
              "      <td>1</td>\n",
              "      <td>male</td>\n",
              "      <td>0.9167</td>\n",
              "      <td>Child</td>\n",
              "      <td>151.55</td>\n",
              "    </tr>\n",
              "    <tr>\n",
              "      <th>2</th>\n",
              "      <td>3</td>\n",
              "      <td>1</td>\n",
              "      <td>0</td>\n",
              "      <td>female</td>\n",
              "      <td>2.0000</td>\n",
              "      <td>Child</td>\n",
              "      <td>151.55</td>\n",
              "    </tr>\n",
              "    <tr>\n",
              "      <th>3</th>\n",
              "      <td>4</td>\n",
              "      <td>1</td>\n",
              "      <td>0</td>\n",
              "      <td>male</td>\n",
              "      <td>30.0000</td>\n",
              "      <td>Adult</td>\n",
              "      <td>151.55</td>\n",
              "    </tr>\n",
              "    <tr>\n",
              "      <th>4</th>\n",
              "      <td>5</td>\n",
              "      <td>1</td>\n",
              "      <td>0</td>\n",
              "      <td>female</td>\n",
              "      <td>25.0000</td>\n",
              "      <td>Adult</td>\n",
              "      <td>151.55</td>\n",
              "    </tr>\n",
              "    <tr>\n",
              "      <th>...</th>\n",
              "      <td>...</td>\n",
              "      <td>...</td>\n",
              "      <td>...</td>\n",
              "      <td>...</td>\n",
              "      <td>...</td>\n",
              "      <td>...</td>\n",
              "      <td>...</td>\n",
              "    </tr>\n",
              "    <tr>\n",
              "      <th>1304</th>\n",
              "      <td>1305</td>\n",
              "      <td>3</td>\n",
              "      <td>0</td>\n",
              "      <td>female</td>\n",
              "      <td>14.5000</td>\n",
              "      <td>Child</td>\n",
              "      <td>14.45</td>\n",
              "    </tr>\n",
              "    <tr>\n",
              "      <th>1305</th>\n",
              "      <td>1306</td>\n",
              "      <td>3</td>\n",
              "      <td>0</td>\n",
              "      <td>female</td>\n",
              "      <td>0.0000</td>\n",
              "      <td>Adult</td>\n",
              "      <td>14.45</td>\n",
              "    </tr>\n",
              "    <tr>\n",
              "      <th>1306</th>\n",
              "      <td>1307</td>\n",
              "      <td>3</td>\n",
              "      <td>0</td>\n",
              "      <td>male</td>\n",
              "      <td>26.5000</td>\n",
              "      <td>Adult</td>\n",
              "      <td>7.22</td>\n",
              "    </tr>\n",
              "    <tr>\n",
              "      <th>1307</th>\n",
              "      <td>1308</td>\n",
              "      <td>3</td>\n",
              "      <td>0</td>\n",
              "      <td>male</td>\n",
              "      <td>27.0000</td>\n",
              "      <td>Adult</td>\n",
              "      <td>7.22</td>\n",
              "    </tr>\n",
              "    <tr>\n",
              "      <th>1308</th>\n",
              "      <td>1309</td>\n",
              "      <td>3</td>\n",
              "      <td>0</td>\n",
              "      <td>male</td>\n",
              "      <td>29.0000</td>\n",
              "      <td>Adult</td>\n",
              "      <td>7.88</td>\n",
              "    </tr>\n",
              "  </tbody>\n",
              "</table>\n",
              "<p>1309 rows × 7 columns</p>\n",
              "</div>"
            ],
            "text/plain": [
              "        ID  pclass  survived     sex      age  age_b    fare\n",
              "0        1       1         1  female  29.0000  Adult  211.34\n",
              "1        2       1         1    male   0.9167  Child  151.55\n",
              "2        3       1         0  female   2.0000  Child  151.55\n",
              "3        4       1         0    male  30.0000  Adult  151.55\n",
              "4        5       1         0  female  25.0000  Adult  151.55\n",
              "...    ...     ...       ...     ...      ...    ...     ...\n",
              "1304  1305       3         0  female  14.5000  Child   14.45\n",
              "1305  1306       3         0  female   0.0000  Adult   14.45\n",
              "1306  1307       3         0    male  26.5000  Adult    7.22\n",
              "1307  1308       3         0    male  27.0000  Adult    7.22\n",
              "1308  1309       3         0    male  29.0000  Adult    7.88\n",
              "\n",
              "[1309 rows x 7 columns]"
            ]
          },
          "metadata": {
            "tags": []
          },
          "execution_count": 1355
        }
      ]
    },
    {
      "cell_type": "markdown",
      "metadata": {
        "id": "sfjdmEABm00o"
      },
      "source": [
        "Check for null values"
      ]
    },
    {
      "cell_type": "code",
      "metadata": {
        "colab": {
          "base_uri": "https://localhost:8080/"
        },
        "id": "a4jSW_NYm2yo",
        "outputId": "6b80d495-908a-4ce0-8375-1bb7ed1f1284"
      },
      "source": [
        "data.isnull().sum()"
      ],
      "execution_count": 1356,
      "outputs": [
        {
          "output_type": "execute_result",
          "data": {
            "text/plain": [
              "ID            0\n",
              "pclass        0\n",
              "survived      0\n",
              "sex           0\n",
              "age         263\n",
              "age_b         0\n",
              "fare          1\n",
              "dtype: int64"
            ]
          },
          "metadata": {
            "tags": []
          },
          "execution_count": 1356
        }
      ]
    },
    {
      "cell_type": "code",
      "metadata": {
        "colab": {
          "base_uri": "https://localhost:8080/"
        },
        "id": "IFanSrVrlU_F",
        "outputId": "829e77a3-7ad3-4baf-feed-364c31f27d49"
      },
      "source": [
        "data.info()"
      ],
      "execution_count": 1357,
      "outputs": [
        {
          "output_type": "stream",
          "text": [
            "<class 'pandas.core.frame.DataFrame'>\n",
            "RangeIndex: 1309 entries, 0 to 1308\n",
            "Data columns (total 7 columns):\n",
            " #   Column    Non-Null Count  Dtype  \n",
            "---  ------    --------------  -----  \n",
            " 0   ID        1309 non-null   int64  \n",
            " 1   pclass    1309 non-null   int64  \n",
            " 2   survived  1309 non-null   int64  \n",
            " 3   sex       1309 non-null   object \n",
            " 4   age       1046 non-null   float64\n",
            " 5   age_b     1309 non-null   object \n",
            " 6   fare      1308 non-null   float64\n",
            "dtypes: float64(2), int64(3), object(2)\n",
            "memory usage: 71.7+ KB\n"
          ],
          "name": "stdout"
        }
      ]
    },
    {
      "cell_type": "markdown",
      "metadata": {
        "id": "opg58K3hsctz"
      },
      "source": [
        "Impute"
      ]
    },
    {
      "cell_type": "code",
      "metadata": {
        "colab": {
          "base_uri": "https://localhost:8080/",
          "height": 399
        },
        "id": "-dwdPwR2sf7K",
        "outputId": "741bc210-a1f0-47ea-f164-468ecb3cbd23"
      },
      "source": [
        "mask = (data['age_b'] == 'Adult')\n",
        "data.loc[data['age'].isnull() & mask, 'age'] = data.age.median()\n",
        "\n",
        "mask = (data['age_b'] == 'Child')\n",
        "data.loc[data['age'].isnull() & mask, 'age'] = 9\n",
        "\n",
        "data"
      ],
      "execution_count": 1358,
      "outputs": [
        {
          "output_type": "execute_result",
          "data": {
            "text/html": [
              "<div>\n",
              "<style scoped>\n",
              "    .dataframe tbody tr th:only-of-type {\n",
              "        vertical-align: middle;\n",
              "    }\n",
              "\n",
              "    .dataframe tbody tr th {\n",
              "        vertical-align: top;\n",
              "    }\n",
              "\n",
              "    .dataframe thead th {\n",
              "        text-align: right;\n",
              "    }\n",
              "</style>\n",
              "<table border=\"1\" class=\"dataframe\">\n",
              "  <thead>\n",
              "    <tr style=\"text-align: right;\">\n",
              "      <th></th>\n",
              "      <th>ID</th>\n",
              "      <th>pclass</th>\n",
              "      <th>survived</th>\n",
              "      <th>sex</th>\n",
              "      <th>age</th>\n",
              "      <th>age_b</th>\n",
              "      <th>fare</th>\n",
              "    </tr>\n",
              "  </thead>\n",
              "  <tbody>\n",
              "    <tr>\n",
              "      <th>0</th>\n",
              "      <td>1</td>\n",
              "      <td>1</td>\n",
              "      <td>1</td>\n",
              "      <td>female</td>\n",
              "      <td>29.0000</td>\n",
              "      <td>Adult</td>\n",
              "      <td>211.34</td>\n",
              "    </tr>\n",
              "    <tr>\n",
              "      <th>1</th>\n",
              "      <td>2</td>\n",
              "      <td>1</td>\n",
              "      <td>1</td>\n",
              "      <td>male</td>\n",
              "      <td>0.9167</td>\n",
              "      <td>Child</td>\n",
              "      <td>151.55</td>\n",
              "    </tr>\n",
              "    <tr>\n",
              "      <th>2</th>\n",
              "      <td>3</td>\n",
              "      <td>1</td>\n",
              "      <td>0</td>\n",
              "      <td>female</td>\n",
              "      <td>2.0000</td>\n",
              "      <td>Child</td>\n",
              "      <td>151.55</td>\n",
              "    </tr>\n",
              "    <tr>\n",
              "      <th>3</th>\n",
              "      <td>4</td>\n",
              "      <td>1</td>\n",
              "      <td>0</td>\n",
              "      <td>male</td>\n",
              "      <td>30.0000</td>\n",
              "      <td>Adult</td>\n",
              "      <td>151.55</td>\n",
              "    </tr>\n",
              "    <tr>\n",
              "      <th>4</th>\n",
              "      <td>5</td>\n",
              "      <td>1</td>\n",
              "      <td>0</td>\n",
              "      <td>female</td>\n",
              "      <td>25.0000</td>\n",
              "      <td>Adult</td>\n",
              "      <td>151.55</td>\n",
              "    </tr>\n",
              "    <tr>\n",
              "      <th>...</th>\n",
              "      <td>...</td>\n",
              "      <td>...</td>\n",
              "      <td>...</td>\n",
              "      <td>...</td>\n",
              "      <td>...</td>\n",
              "      <td>...</td>\n",
              "      <td>...</td>\n",
              "    </tr>\n",
              "    <tr>\n",
              "      <th>1304</th>\n",
              "      <td>1305</td>\n",
              "      <td>3</td>\n",
              "      <td>0</td>\n",
              "      <td>female</td>\n",
              "      <td>14.5000</td>\n",
              "      <td>Child</td>\n",
              "      <td>14.45</td>\n",
              "    </tr>\n",
              "    <tr>\n",
              "      <th>1305</th>\n",
              "      <td>1306</td>\n",
              "      <td>3</td>\n",
              "      <td>0</td>\n",
              "      <td>female</td>\n",
              "      <td>28.0000</td>\n",
              "      <td>Adult</td>\n",
              "      <td>14.45</td>\n",
              "    </tr>\n",
              "    <tr>\n",
              "      <th>1306</th>\n",
              "      <td>1307</td>\n",
              "      <td>3</td>\n",
              "      <td>0</td>\n",
              "      <td>male</td>\n",
              "      <td>26.5000</td>\n",
              "      <td>Adult</td>\n",
              "      <td>7.22</td>\n",
              "    </tr>\n",
              "    <tr>\n",
              "      <th>1307</th>\n",
              "      <td>1308</td>\n",
              "      <td>3</td>\n",
              "      <td>0</td>\n",
              "      <td>male</td>\n",
              "      <td>27.0000</td>\n",
              "      <td>Adult</td>\n",
              "      <td>7.22</td>\n",
              "    </tr>\n",
              "    <tr>\n",
              "      <th>1308</th>\n",
              "      <td>1309</td>\n",
              "      <td>3</td>\n",
              "      <td>0</td>\n",
              "      <td>male</td>\n",
              "      <td>29.0000</td>\n",
              "      <td>Adult</td>\n",
              "      <td>7.88</td>\n",
              "    </tr>\n",
              "  </tbody>\n",
              "</table>\n",
              "<p>1309 rows × 7 columns</p>\n",
              "</div>"
            ],
            "text/plain": [
              "        ID  pclass  survived     sex      age  age_b    fare\n",
              "0        1       1         1  female  29.0000  Adult  211.34\n",
              "1        2       1         1    male   0.9167  Child  151.55\n",
              "2        3       1         0  female   2.0000  Child  151.55\n",
              "3        4       1         0    male  30.0000  Adult  151.55\n",
              "4        5       1         0  female  25.0000  Adult  151.55\n",
              "...    ...     ...       ...     ...      ...    ...     ...\n",
              "1304  1305       3         0  female  14.5000  Child   14.45\n",
              "1305  1306       3         0  female  28.0000  Adult   14.45\n",
              "1306  1307       3         0    male  26.5000  Adult    7.22\n",
              "1307  1308       3         0    male  27.0000  Adult    7.22\n",
              "1308  1309       3         0    male  29.0000  Adult    7.88\n",
              "\n",
              "[1309 rows x 7 columns]"
            ]
          },
          "metadata": {
            "tags": []
          },
          "execution_count": 1358
        }
      ]
    },
    {
      "cell_type": "code",
      "metadata": {
        "colab": {
          "base_uri": "https://localhost:8080/"
        },
        "id": "ZUhZqRtItciz",
        "outputId": "84b3280a-91d2-405e-eed3-9993cdbe9f3f"
      },
      "source": [
        "data.isnull().sum()"
      ],
      "execution_count": 1359,
      "outputs": [
        {
          "output_type": "execute_result",
          "data": {
            "text/plain": [
              "ID          0\n",
              "pclass      0\n",
              "survived    0\n",
              "sex         0\n",
              "age         0\n",
              "age_b       0\n",
              "fare        1\n",
              "dtype: int64"
            ]
          },
          "metadata": {
            "tags": []
          },
          "execution_count": 1359
        }
      ]
    },
    {
      "cell_type": "code",
      "metadata": {
        "id": "GXwMrp1tFIIF"
      },
      "source": [
        "data['fare'] = data['fare'].fillna(data['fare'].median())"
      ],
      "execution_count": 1360,
      "outputs": []
    },
    {
      "cell_type": "code",
      "metadata": {
        "colab": {
          "base_uri": "https://localhost:8080/"
        },
        "id": "OrJX9y49FQAg",
        "outputId": "a695cb1c-3f19-438d-87af-7ee8402e1e3c"
      },
      "source": [
        "data.isnull().sum()"
      ],
      "execution_count": 1361,
      "outputs": [
        {
          "output_type": "execute_result",
          "data": {
            "text/plain": [
              "ID          0\n",
              "pclass      0\n",
              "survived    0\n",
              "sex         0\n",
              "age         0\n",
              "age_b       0\n",
              "fare        0\n",
              "dtype: int64"
            ]
          },
          "metadata": {
            "tags": []
          },
          "execution_count": 1361
        }
      ]
    },
    {
      "cell_type": "markdown",
      "metadata": {
        "id": "mRySfNmLnzz4"
      },
      "source": [
        "Perform analysis"
      ]
    },
    {
      "cell_type": "markdown",
      "metadata": {
        "id": "-7K4g0P_n40h"
      },
      "source": [
        "Passengers"
      ]
    },
    {
      "cell_type": "code",
      "metadata": {
        "colab": {
          "base_uri": "https://localhost:8080/"
        },
        "id": "2u5eh6qPpX0S",
        "outputId": "75c6ca73-b8d8-4024-f053-6e120211eaf5"
      },
      "source": [
        "survived = data.groupby('survived').survived.count()\n",
        "survived"
      ],
      "execution_count": 1362,
      "outputs": [
        {
          "output_type": "execute_result",
          "data": {
            "text/plain": [
              "survived\n",
              "0    809\n",
              "1    500\n",
              "Name: survived, dtype: int64"
            ]
          },
          "metadata": {
            "tags": []
          },
          "execution_count": 1362
        }
      ]
    },
    {
      "cell_type": "code",
      "metadata": {
        "colab": {
          "base_uri": "https://localhost:8080/"
        },
        "id": "7fUlXlk1g7WF",
        "outputId": "4e67337e-52b8-4155-ac8b-3e79ec01890c"
      },
      "source": [
        "percent_survived = (survived / len(data)) * 100\n",
        "percent_survived"
      ],
      "execution_count": 1363,
      "outputs": [
        {
          "output_type": "execute_result",
          "data": {
            "text/plain": [
              "survived\n",
              "0    61.802903\n",
              "1    38.197097\n",
              "Name: survived, dtype: float64"
            ]
          },
          "metadata": {
            "tags": []
          },
          "execution_count": 1363
        }
      ]
    },
    {
      "cell_type": "code",
      "metadata": {
        "colab": {
          "base_uri": "https://localhost:8080/",
          "height": 276
        },
        "id": "dyVN5QG7n6bC",
        "outputId": "6c9aaab8-23d2-4ec2-a8f0-392f19dc8d47"
      },
      "source": [
        "data.groupby('survived').survived.count().plot.bar(ylim=0)\n",
        "plt.show()"
      ],
      "execution_count": 1364,
      "outputs": [
        {
          "output_type": "display_data",
          "data": {
            "image/png": "[encoded data removed]",
            "text/plain": [
              "<Figure size 432x288 with 1 Axes>"
            ]
          },
          "metadata": {
            "tags": [],
            "needs_background": "light"
          }
        }
      ]
    },
    {
      "cell_type": "markdown",
      "metadata": {
        "id": "jJga0JinpyE7"
      },
      "source": [
        "Sex"
      ]
    },
    {
      "cell_type": "code",
      "metadata": {
        "colab": {
          "base_uri": "https://localhost:8080/"
        },
        "id": "ybvOPoDrn16D",
        "outputId": "5b1875ca-f533-4868-bd94-d36d9b2ced78"
      },
      "source": [
        "sex = data.groupby('sex').survived.count()\n",
        "sex"
      ],
      "execution_count": 1365,
      "outputs": [
        {
          "output_type": "execute_result",
          "data": {
            "text/plain": [
              "sex\n",
              "female    466\n",
              "male      843\n",
              "Name: survived, dtype: int64"
            ]
          },
          "metadata": {
            "tags": []
          },
          "execution_count": 1365
        }
      ]
    },
    {
      "cell_type": "code",
      "metadata": {
        "colab": {
          "base_uri": "https://localhost:8080/"
        },
        "id": "s7gCkEIzhiUN",
        "outputId": "dd1f91f2-c999-4cc7-b28e-1496d9b8473e"
      },
      "source": [
        "percent_sex = (sex / len(data)) * 100\n",
        "percent_sex"
      ],
      "execution_count": 1366,
      "outputs": [
        {
          "output_type": "execute_result",
          "data": {
            "text/plain": [
              "sex\n",
              "female    35.599694\n",
              "male      64.400306\n",
              "Name: survived, dtype: float64"
            ]
          },
          "metadata": {
            "tags": []
          },
          "execution_count": 1366
        }
      ]
    },
    {
      "cell_type": "code",
      "metadata": {
        "colab": {
          "base_uri": "https://localhost:8080/",
          "height": 304
        },
        "id": "u5HD5HEup_i0",
        "outputId": "b0924a3a-c0a7-42bb-e53b-15efb9923483"
      },
      "source": [
        "data.groupby('sex').survived.count().plot.bar(ylim=0)\n",
        "plt.show()"
      ],
      "execution_count": 1367,
      "outputs": [
        {
          "output_type": "display_data",
          "data": {
            "image/png": "[encoded data removed]",
            "text/plain": [
              "<Figure size 432x288 with 1 Axes>"
            ]
          },
          "metadata": {
            "tags": [],
            "needs_background": "light"
          }
        }
      ]
    },
    {
      "cell_type": "markdown",
      "metadata": {
        "id": "KGxRDUBhXGe-"
      },
      "source": [
        "Passenger class"
      ]
    },
    {
      "cell_type": "code",
      "metadata": {
        "colab": {
          "base_uri": "https://localhost:8080/"
        },
        "id": "MKB6t1-4Xu8K",
        "outputId": "807aeb59-b3fb-40ad-ef03-1d2c71577e3c"
      },
      "source": [
        "pclass = data.groupby('pclass').survived.count()\n",
        "pclass"
      ],
      "execution_count": 1368,
      "outputs": [
        {
          "output_type": "execute_result",
          "data": {
            "text/plain": [
              "pclass\n",
              "1    323\n",
              "2    277\n",
              "3    709\n",
              "Name: survived, dtype: int64"
            ]
          },
          "metadata": {
            "tags": []
          },
          "execution_count": 1368
        }
      ]
    },
    {
      "cell_type": "code",
      "metadata": {
        "colab": {
          "base_uri": "https://localhost:8080/"
        },
        "id": "iTBaSowTh1uc",
        "outputId": "5a0024ae-5f88-4b65-9fb9-393626ab618e"
      },
      "source": [
        "percent_class = (pclass / len(data)) * 100\n",
        "percent_class"
      ],
      "execution_count": 1369,
      "outputs": [
        {
          "output_type": "execute_result",
          "data": {
            "text/plain": [
              "pclass\n",
              "1    24.675325\n",
              "2    21.161192\n",
              "3    54.163484\n",
              "Name: survived, dtype: float64"
            ]
          },
          "metadata": {
            "tags": []
          },
          "execution_count": 1369
        }
      ]
    },
    {
      "cell_type": "code",
      "metadata": {
        "colab": {
          "base_uri": "https://localhost:8080/",
          "height": 276
        },
        "id": "d4nVQohnXI2F",
        "outputId": "db7b9319-b8d4-463b-f660-8040b305ad2e"
      },
      "source": [
        "data.groupby('pclass').survived.count().plot.bar(ylim=0)\n",
        "plt.show()"
      ],
      "execution_count": 1370,
      "outputs": [
        {
          "output_type": "display_data",
          "data": {
            "image/png": "[encoded data removed]",
            "text/plain": [
              "<Figure size 432x288 with 1 Axes>"
            ]
          },
          "metadata": {
            "tags": [],
            "needs_background": "light"
          }
        }
      ]
    },
    {
      "cell_type": "markdown",
      "metadata": {
        "id": "EmspAitoYAqM"
      },
      "source": [
        "Adult or child"
      ]
    },
    {
      "cell_type": "code",
      "metadata": {
        "colab": {
          "base_uri": "https://localhost:8080/"
        },
        "id": "zY0XxP6wYHfw",
        "outputId": "3aa3cb49-bf33-45c9-c98c-34bc7b14e2ca"
      },
      "source": [
        "age_b = data.groupby('age_b').survived.count()\n",
        "age_b"
      ],
      "execution_count": 1371,
      "outputs": [
        {
          "output_type": "execute_result",
          "data": {
            "text/plain": [
              "age_b\n",
              "Adult    1200\n",
              "Child     109\n",
              "Name: survived, dtype: int64"
            ]
          },
          "metadata": {
            "tags": []
          },
          "execution_count": 1371
        }
      ]
    },
    {
      "cell_type": "code",
      "metadata": {
        "colab": {
          "base_uri": "https://localhost:8080/"
        },
        "id": "b40NgipliOh-",
        "outputId": "1ab59b51-02d5-47ed-f02b-a6f54c4da8c1"
      },
      "source": [
        "percent_age = (age_b / len(data)) * 100\n",
        "percent_age"
      ],
      "execution_count": 1372,
      "outputs": [
        {
          "output_type": "execute_result",
          "data": {
            "text/plain": [
              "age_b\n",
              "Adult    91.673033\n",
              "Child     8.326967\n",
              "Name: survived, dtype: float64"
            ]
          },
          "metadata": {
            "tags": []
          },
          "execution_count": 1372
        }
      ]
    },
    {
      "cell_type": "code",
      "metadata": {
        "colab": {
          "base_uri": "https://localhost:8080/",
          "height": 296
        },
        "id": "tLZAtItXYXTK",
        "outputId": "1f1dccf2-9286-427b-9da1-247e9c5795bc"
      },
      "source": [
        "data.groupby('age_b').survived.count().plot.bar(ylim=0)\n",
        "plt.show()"
      ],
      "execution_count": 1373,
      "outputs": [
        {
          "output_type": "display_data",
          "data": {
            "image/png": "[encoded data removed]",
            "text/plain": [
              "<Figure size 432x288 with 1 Axes>"
            ]
          },
          "metadata": {
            "tags": [],
            "needs_background": "light"
          }
        }
      ]
    },
    {
      "cell_type": "markdown",
      "metadata": {
        "id": "sH_Fyk5Ka-yU"
      },
      "source": [
        "Age"
      ]
    },
    {
      "cell_type": "code",
      "metadata": {
        "colab": {
          "base_uri": "https://localhost:8080/",
          "height": 377
        },
        "id": "cxwX5hgtbASu",
        "outputId": "7454344b-5a0c-4536-fc68-39f2eb6e5327"
      },
      "source": [
        "plt.figure(figsize=(10,6))\n",
        "plt.title(\"Ages Frequency\")\n",
        "sns.axes_style(\"dark\")\n",
        "sns.violinplot(y=data[\"age\"])\n",
        "plt.show()"
      ],
      "execution_count": 1374,
      "outputs": [
        {
          "output_type": "display_data",
          "data": {
            "image/png": "[encoded data removed]",
            "text/plain": [
              "<Figure size 720x432 with 1 Axes>"
            ]
          },
          "metadata": {
            "tags": [],
            "needs_background": "light"
          }
        }
      ]
    },
    {
      "cell_type": "code",
      "metadata": {
        "colab": {
          "base_uri": "https://localhost:8080/"
        },
        "id": "xrnVXhVBbb5b",
        "outputId": "2363d678-fe4b-46e8-e854-c1c776e2aa39"
      },
      "source": [
        "max_age = data.age.max()\n",
        "max_age"
      ],
      "execution_count": 1375,
      "outputs": [
        {
          "output_type": "execute_result",
          "data": {
            "text/plain": [
              "80.0"
            ]
          },
          "metadata": {
            "tags": []
          },
          "execution_count": 1375
        }
      ]
    },
    {
      "cell_type": "code",
      "metadata": {
        "colab": {
          "base_uri": "https://localhost:8080/"
        },
        "id": "kmdJsUBObnAk",
        "outputId": "e2e30cf1-d858-4c41-dadd-9cc728264cb8"
      },
      "source": [
        "min_age = data.age.min()\n",
        "min_age"
      ],
      "execution_count": 1376,
      "outputs": [
        {
          "output_type": "execute_result",
          "data": {
            "text/plain": [
              "0.1667"
            ]
          },
          "metadata": {
            "tags": []
          },
          "execution_count": 1376
        }
      ]
    },
    {
      "cell_type": "code",
      "metadata": {
        "colab": {
          "base_uri": "https://localhost:8080/"
        },
        "id": "9AxYayTmbvM3",
        "outputId": "71761d46-9e89-4800-e1dd-ea13e7a1ca75"
      },
      "source": [
        "median_age = data.age.median()\n",
        "median_age"
      ],
      "execution_count": 1377,
      "outputs": [
        {
          "output_type": "execute_result",
          "data": {
            "text/plain": [
              "28.0"
            ]
          },
          "metadata": {
            "tags": []
          },
          "execution_count": 1377
        }
      ]
    },
    {
      "cell_type": "code",
      "metadata": {
        "colab": {
          "base_uri": "https://localhost:8080/"
        },
        "id": "PtbtGH9Vb8NZ",
        "outputId": "9da381d8-f41e-40e6-9c4d-7752d727a68c"
      },
      "source": [
        "most_age = data.age.mode()\n",
        "most_age"
      ],
      "execution_count": 1378,
      "outputs": [
        {
          "output_type": "execute_result",
          "data": {
            "text/plain": [
              "0    28.0\n",
              "dtype: float64"
            ]
          },
          "metadata": {
            "tags": []
          },
          "execution_count": 1378
        }
      ]
    },
    {
      "cell_type": "markdown",
      "metadata": {
        "id": "p6INhIjZbLFw"
      },
      "source": [
        "Fare"
      ]
    },
    {
      "cell_type": "code",
      "metadata": {
        "colab": {
          "base_uri": "https://localhost:8080/",
          "height": 377
        },
        "id": "RNnHmVPrbMfd",
        "outputId": "38d53ff1-757b-4297-cbfb-6d863f977a5f"
      },
      "source": [
        "plt.figure(figsize=(10,6))\n",
        "plt.title(\"Fare Frequency\")\n",
        "sns.axes_style(\"dark\")\n",
        "sns.violinplot(y=data[\"fare\"])\n",
        "plt.show()"
      ],
      "execution_count": 1379,
      "outputs": [
        {
          "output_type": "display_data",
          "data": {
            "image/png": "[encoded data removed]",
            "text/plain": [
              "<Figure size 720x432 with 1 Axes>"
            ]
          },
          "metadata": {
            "tags": [],
            "needs_background": "light"
          }
        }
      ]
    },
    {
      "cell_type": "code",
      "metadata": {
        "colab": {
          "base_uri": "https://localhost:8080/"
        },
        "id": "1ktLMkKVc0D7",
        "outputId": "e505daa8-643e-4f35-dcb7-c88e3d84410e"
      },
      "source": [
        "max_fare = data.fare.max()\n",
        "max_fare"
      ],
      "execution_count": 1380,
      "outputs": [
        {
          "output_type": "execute_result",
          "data": {
            "text/plain": [
              "512.33"
            ]
          },
          "metadata": {
            "tags": []
          },
          "execution_count": 1380
        }
      ]
    },
    {
      "cell_type": "code",
      "metadata": {
        "colab": {
          "base_uri": "https://localhost:8080/"
        },
        "id": "cVuBTbpVdY6h",
        "outputId": "9a448516-cb61-410c-e842-65b3564bae5f"
      },
      "source": [
        "min_fare = data.fare.min()\n",
        "min_fare"
      ],
      "execution_count": 1381,
      "outputs": [
        {
          "output_type": "execute_result",
          "data": {
            "text/plain": [
              "0.0"
            ]
          },
          "metadata": {
            "tags": []
          },
          "execution_count": 1381
        }
      ]
    },
    {
      "cell_type": "code",
      "metadata": {
        "colab": {
          "base_uri": "https://localhost:8080/"
        },
        "id": "1XypURlXdwNW",
        "outputId": "beb160da-e798-4f31-e169-c2c0696b4526"
      },
      "source": [
        "median_fare = data.fare.median()\n",
        "median_fare"
      ],
      "execution_count": 1382,
      "outputs": [
        {
          "output_type": "execute_result",
          "data": {
            "text/plain": [
              "14.45"
            ]
          },
          "metadata": {
            "tags": []
          },
          "execution_count": 1382
        }
      ]
    },
    {
      "cell_type": "code",
      "metadata": {
        "colab": {
          "base_uri": "https://localhost:8080/"
        },
        "id": "IBtXcAQMd93_",
        "outputId": "a8a682b2-79ae-46f8-deec-85387ea9dd6b"
      },
      "source": [
        "most_fare = data.fare.mode()\n",
        "most_fare"
      ],
      "execution_count": 1383,
      "outputs": [
        {
          "output_type": "execute_result",
          "data": {
            "text/plain": [
              "0    8.05\n",
              "dtype: float64"
            ]
          },
          "metadata": {
            "tags": []
          },
          "execution_count": 1383
        }
      ]
    },
    {
      "cell_type": "code",
      "metadata": {
        "colab": {
          "base_uri": "https://localhost:8080/",
          "height": 428
        },
        "id": "vTNEcJlFZm5D",
        "outputId": "b7d109da-ec8e-42d4-9bec-5911abdfab96"
      },
      "source": [
        "plt.figure(figsize=(25, 7))\n",
        "ax = plt.subplot()\n",
        "ax.scatter(data[data['survived'] == 1]['age'], data[data['survived'] == 1]['fare'], c='green', s=data[data['survived'] == 1]['fare'])\n",
        "ax.scatter(data[data['survived'] == 0]['age'], data[data['survived'] == 0]['fare'], c='red', s=data[data['survived'] == 0]['fare']);"
      ],
      "execution_count": 1384,
      "outputs": [
        {
          "output_type": "display_data",
          "data": {
            "image/png": "[encoded data removed]",
            "text/plain": [
              "<Figure size 1800x504 with 1 Axes>"
            ]
          },
          "metadata": {
            "tags": [],
            "needs_background": "light"
          }
        }
      ]
    },
    {
      "cell_type": "markdown",
      "metadata": {
        "id": "53hCdlM1i2Hs"
      },
      "source": [
        "Filter survivors"
      ]
    },
    {
      "cell_type": "code",
      "metadata": {
        "colab": {
          "base_uri": "https://localhost:8080/",
          "height": 399
        },
        "id": "qCReiEx0kAzs",
        "outputId": "b79ee197-3941-4e14-a93c-c72cad766bf6"
      },
      "source": [
        "include = data[data['survived'].values == 1]\n",
        "exclude = data[data['survived'].values != 1]\n",
        "survived = include\n",
        "survived"
      ],
      "execution_count": 1385,
      "outputs": [
        {
          "output_type": "execute_result",
          "data": {
            "text/html": [
              "<div>\n",
              "<style scoped>\n",
              "    .dataframe tbody tr th:only-of-type {\n",
              "        vertical-align: middle;\n",
              "    }\n",
              "\n",
              "    .dataframe tbody tr th {\n",
              "        vertical-align: top;\n",
              "    }\n",
              "\n",
              "    .dataframe thead th {\n",
              "        text-align: right;\n",
              "    }\n",
              "</style>\n",
              "<table border=\"1\" class=\"dataframe\">\n",
              "  <thead>\n",
              "    <tr style=\"text-align: right;\">\n",
              "      <th></th>\n",
              "      <th>ID</th>\n",
              "      <th>pclass</th>\n",
              "      <th>survived</th>\n",
              "      <th>sex</th>\n",
              "      <th>age</th>\n",
              "      <th>age_b</th>\n",
              "      <th>fare</th>\n",
              "    </tr>\n",
              "  </thead>\n",
              "  <tbody>\n",
              "    <tr>\n",
              "      <th>0</th>\n",
              "      <td>1</td>\n",
              "      <td>1</td>\n",
              "      <td>1</td>\n",
              "      <td>female</td>\n",
              "      <td>29.0000</td>\n",
              "      <td>Adult</td>\n",
              "      <td>211.34</td>\n",
              "    </tr>\n",
              "    <tr>\n",
              "      <th>1</th>\n",
              "      <td>2</td>\n",
              "      <td>1</td>\n",
              "      <td>1</td>\n",
              "      <td>male</td>\n",
              "      <td>0.9167</td>\n",
              "      <td>Child</td>\n",
              "      <td>151.55</td>\n",
              "    </tr>\n",
              "    <tr>\n",
              "      <th>5</th>\n",
              "      <td>6</td>\n",
              "      <td>1</td>\n",
              "      <td>1</td>\n",
              "      <td>male</td>\n",
              "      <td>48.0000</td>\n",
              "      <td>Adult</td>\n",
              "      <td>26.55</td>\n",
              "    </tr>\n",
              "    <tr>\n",
              "      <th>6</th>\n",
              "      <td>7</td>\n",
              "      <td>1</td>\n",
              "      <td>1</td>\n",
              "      <td>female</td>\n",
              "      <td>63.0000</td>\n",
              "      <td>Adult</td>\n",
              "      <td>77.96</td>\n",
              "    </tr>\n",
              "    <tr>\n",
              "      <th>8</th>\n",
              "      <td>9</td>\n",
              "      <td>1</td>\n",
              "      <td>1</td>\n",
              "      <td>female</td>\n",
              "      <td>53.0000</td>\n",
              "      <td>Adult</td>\n",
              "      <td>51.48</td>\n",
              "    </tr>\n",
              "    <tr>\n",
              "      <th>...</th>\n",
              "      <td>...</td>\n",
              "      <td>...</td>\n",
              "      <td>...</td>\n",
              "      <td>...</td>\n",
              "      <td>...</td>\n",
              "      <td>...</td>\n",
              "      <td>...</td>\n",
              "    </tr>\n",
              "    <tr>\n",
              "      <th>1261</th>\n",
              "      <td>1262</td>\n",
              "      <td>3</td>\n",
              "      <td>1</td>\n",
              "      <td>female</td>\n",
              "      <td>63.0000</td>\n",
              "      <td>Adult</td>\n",
              "      <td>9.59</td>\n",
              "    </tr>\n",
              "    <tr>\n",
              "      <th>1277</th>\n",
              "      <td>1278</td>\n",
              "      <td>3</td>\n",
              "      <td>1</td>\n",
              "      <td>male</td>\n",
              "      <td>22.0000</td>\n",
              "      <td>Adult</td>\n",
              "      <td>7.22</td>\n",
              "    </tr>\n",
              "    <tr>\n",
              "      <th>1286</th>\n",
              "      <td>1287</td>\n",
              "      <td>3</td>\n",
              "      <td>1</td>\n",
              "      <td>female</td>\n",
              "      <td>38.0000</td>\n",
              "      <td>Adult</td>\n",
              "      <td>7.23</td>\n",
              "    </tr>\n",
              "    <tr>\n",
              "      <th>1290</th>\n",
              "      <td>1291</td>\n",
              "      <td>3</td>\n",
              "      <td>1</td>\n",
              "      <td>female</td>\n",
              "      <td>47.0000</td>\n",
              "      <td>Adult</td>\n",
              "      <td>7.00</td>\n",
              "    </tr>\n",
              "    <tr>\n",
              "      <th>1300</th>\n",
              "      <td>1301</td>\n",
              "      <td>3</td>\n",
              "      <td>1</td>\n",
              "      <td>female</td>\n",
              "      <td>15.0000</td>\n",
              "      <td>Adult</td>\n",
              "      <td>14.45</td>\n",
              "    </tr>\n",
              "  </tbody>\n",
              "</table>\n",
              "<p>500 rows × 7 columns</p>\n",
              "</div>"
            ],
            "text/plain": [
              "        ID  pclass  survived     sex      age  age_b    fare\n",
              "0        1       1         1  female  29.0000  Adult  211.34\n",
              "1        2       1         1    male   0.9167  Child  151.55\n",
              "5        6       1         1    male  48.0000  Adult   26.55\n",
              "6        7       1         1  female  63.0000  Adult   77.96\n",
              "8        9       1         1  female  53.0000  Adult   51.48\n",
              "...    ...     ...       ...     ...      ...    ...     ...\n",
              "1261  1262       3         1  female  63.0000  Adult    9.59\n",
              "1277  1278       3         1    male  22.0000  Adult    7.22\n",
              "1286  1287       3         1  female  38.0000  Adult    7.23\n",
              "1290  1291       3         1  female  47.0000  Adult    7.00\n",
              "1300  1301       3         1  female  15.0000  Adult   14.45\n",
              "\n",
              "[500 rows x 7 columns]"
            ]
          },
          "metadata": {
            "tags": []
          },
          "execution_count": 1385
        }
      ]
    },
    {
      "cell_type": "markdown",
      "metadata": {
        "id": "19Iv_b2JmdwC"
      },
      "source": [
        "Survived sex"
      ]
    },
    {
      "cell_type": "code",
      "metadata": {
        "colab": {
          "base_uri": "https://localhost:8080/"
        },
        "id": "dV3dgxW2m6ri",
        "outputId": "0c9325ec-b87f-4c2f-96d6-720b047caace"
      },
      "source": [
        "survived_sex = survived.groupby('sex').survived.count()\n",
        "survived_sex"
      ],
      "execution_count": 1386,
      "outputs": [
        {
          "output_type": "execute_result",
          "data": {
            "text/plain": [
              "sex\n",
              "female    339\n",
              "male      161\n",
              "Name: survived, dtype: int64"
            ]
          },
          "metadata": {
            "tags": []
          },
          "execution_count": 1386
        }
      ]
    },
    {
      "cell_type": "code",
      "metadata": {
        "colab": {
          "base_uri": "https://localhost:8080/"
        },
        "id": "mKLDu_aunrnh",
        "outputId": "12d4dd8c-0550-4bff-9819-400c848f1502"
      },
      "source": [
        "percent_survived_sex = (survived_sex / len(survived)) * 100\n",
        "percent_survived_sex"
      ],
      "execution_count": 1387,
      "outputs": [
        {
          "output_type": "execute_result",
          "data": {
            "text/plain": [
              "sex\n",
              "female    67.8\n",
              "male      32.2\n",
              "Name: survived, dtype: float64"
            ]
          },
          "metadata": {
            "tags": []
          },
          "execution_count": 1387
        }
      ]
    },
    {
      "cell_type": "code",
      "metadata": {
        "colab": {
          "base_uri": "https://localhost:8080/",
          "height": 304
        },
        "id": "E668fofioPBf",
        "outputId": "fff9f1d7-99fe-4601-a40b-06e2852da39a"
      },
      "source": [
        "survived.groupby('sex').survived.count().plot.bar(ylim=0)\n",
        "plt.show()"
      ],
      "execution_count": 1388,
      "outputs": [
        {
          "output_type": "display_data",
          "data": {
            "image/png": "[encoded data removed]",
            "text/plain": [
              "<Figure size 432x288 with 1 Axes>"
            ]
          },
          "metadata": {
            "tags": [],
            "needs_background": "light"
          }
        }
      ]
    },
    {
      "cell_type": "markdown",
      "metadata": {
        "id": "MSvbfMfcorK6"
      },
      "source": [
        "Survived Passenger class"
      ]
    },
    {
      "cell_type": "code",
      "metadata": {
        "colab": {
          "base_uri": "https://localhost:8080/"
        },
        "id": "PDg0TwWtoqAZ",
        "outputId": "bb26f7be-c3cf-43c2-ad86-bf83c6015409"
      },
      "source": [
        "survived_pclass = survived.groupby('pclass').survived.count()\n",
        "survived_pclass"
      ],
      "execution_count": 1389,
      "outputs": [
        {
          "output_type": "execute_result",
          "data": {
            "text/plain": [
              "pclass\n",
              "1    200\n",
              "2    119\n",
              "3    181\n",
              "Name: survived, dtype: int64"
            ]
          },
          "metadata": {
            "tags": []
          },
          "execution_count": 1389
        }
      ]
    },
    {
      "cell_type": "code",
      "metadata": {
        "colab": {
          "base_uri": "https://localhost:8080/"
        },
        "id": "5TC11esUpDVL",
        "outputId": "44cecf8c-fb87-4553-d4eb-610ae42a8903"
      },
      "source": [
        "percent_survived_class = (survived_pclass / len(survived)) * 100\n",
        "percent_survived_class"
      ],
      "execution_count": 1390,
      "outputs": [
        {
          "output_type": "execute_result",
          "data": {
            "text/plain": [
              "pclass\n",
              "1    40.0\n",
              "2    23.8\n",
              "3    36.2\n",
              "Name: survived, dtype: float64"
            ]
          },
          "metadata": {
            "tags": []
          },
          "execution_count": 1390
        }
      ]
    },
    {
      "cell_type": "code",
      "metadata": {
        "colab": {
          "base_uri": "https://localhost:8080/",
          "height": 276
        },
        "id": "0IgQYlQLpeMd",
        "outputId": "0607e50e-96c5-4abb-db01-fe7e71c5610e"
      },
      "source": [
        "survived.groupby('pclass').survived.count().plot.bar(ylim=0)\n",
        "plt.show()"
      ],
      "execution_count": 1391,
      "outputs": [
        {
          "output_type": "display_data",
          "data": {
            "image/png": "[encoded data removed]",
            "text/plain": [
              "<Figure size 432x288 with 1 Axes>"
            ]
          },
          "metadata": {
            "tags": [],
            "needs_background": "light"
          }
        }
      ]
    },
    {
      "cell_type": "markdown",
      "metadata": {
        "id": "BrJwzqO1qSjo"
      },
      "source": [
        "Survived adult or child"
      ]
    },
    {
      "cell_type": "code",
      "metadata": {
        "colab": {
          "base_uri": "https://localhost:8080/"
        },
        "id": "7xXoOwpRqWAZ",
        "outputId": "4a450ae3-668e-452f-ce96-ed208a7899a0"
      },
      "source": [
        "survived_age_b = survived.groupby('age_b').survived.count()\n",
        "survived_age_b"
      ],
      "execution_count": 1392,
      "outputs": [
        {
          "output_type": "execute_result",
          "data": {
            "text/plain": [
              "age_b\n",
              "Adult    439\n",
              "Child     61\n",
              "Name: survived, dtype: int64"
            ]
          },
          "metadata": {
            "tags": []
          },
          "execution_count": 1392
        }
      ]
    },
    {
      "cell_type": "code",
      "metadata": {
        "colab": {
          "base_uri": "https://localhost:8080/"
        },
        "id": "wpFxEKePrPSA",
        "outputId": "bab52292-5be4-48be-abbd-51b221e21209"
      },
      "source": [
        "survived_percent_age = (survived_age_b / len(survived)) * 100\n",
        "survived_percent_age"
      ],
      "execution_count": 1393,
      "outputs": [
        {
          "output_type": "execute_result",
          "data": {
            "text/plain": [
              "age_b\n",
              "Adult    87.8\n",
              "Child    12.2\n",
              "Name: survived, dtype: float64"
            ]
          },
          "metadata": {
            "tags": []
          },
          "execution_count": 1393
        }
      ]
    },
    {
      "cell_type": "code",
      "metadata": {
        "colab": {
          "base_uri": "https://localhost:8080/",
          "height": 296
        },
        "id": "D3gNXW68rj8C",
        "outputId": "1f372197-cb95-4d18-9f49-fcc1c1c7e90a"
      },
      "source": [
        "survived.groupby('age_b').survived.count().plot.bar(ylim=0)\n",
        "plt.show()"
      ],
      "execution_count": 1394,
      "outputs": [
        {
          "output_type": "display_data",
          "data": {
            "image/png": "[encoded data removed]",
            "text/plain": [
              "<Figure size 432x288 with 1 Axes>"
            ]
          },
          "metadata": {
            "tags": [],
            "needs_background": "light"
          }
        }
      ]
    },
    {
      "cell_type": "markdown",
      "metadata": {
        "id": "33dhtdfvr2Ip"
      },
      "source": [
        "Survived Age"
      ]
    },
    {
      "cell_type": "code",
      "metadata": {
        "colab": {
          "base_uri": "https://localhost:8080/",
          "height": 377
        },
        "id": "zwkR8YWzr48L",
        "outputId": "bcb332b9-a77f-480e-9fc1-5db3cba7628a"
      },
      "source": [
        "plt.figure(figsize=(10,6))\n",
        "plt.title(\"Ages Frequency\")\n",
        "sns.axes_style(\"dark\")\n",
        "sns.violinplot(y=survived[\"age\"])\n",
        "plt.show()"
      ],
      "execution_count": 1395,
      "outputs": [
        {
          "output_type": "display_data",
          "data": {
            "image/png": "[encoded data removed]",
            "text/plain": [
              "<Figure size 720x432 with 1 Axes>"
            ]
          },
          "metadata": {
            "tags": [],
            "needs_background": "light"
          }
        }
      ]
    },
    {
      "cell_type": "code",
      "metadata": {
        "colab": {
          "base_uri": "https://localhost:8080/"
        },
        "id": "Vxv57s9lsG_M",
        "outputId": "d96a4519-37f2-432e-d10a-5d5b49fb197a"
      },
      "source": [
        "survived_max_age = survived.age.max()\n",
        "survived_max_age"
      ],
      "execution_count": 1396,
      "outputs": [
        {
          "output_type": "execute_result",
          "data": {
            "text/plain": [
              "80.0"
            ]
          },
          "metadata": {
            "tags": []
          },
          "execution_count": 1396
        }
      ]
    },
    {
      "cell_type": "code",
      "metadata": {
        "colab": {
          "base_uri": "https://localhost:8080/"
        },
        "id": "ZXozmQ1ssQc2",
        "outputId": "8c2635d3-f1c7-413c-9524-b8caab949370"
      },
      "source": [
        "survived_min_age = survived.age.min()\n",
        "survived_min_age"
      ],
      "execution_count": 1397,
      "outputs": [
        {
          "output_type": "execute_result",
          "data": {
            "text/plain": [
              "0.1667"
            ]
          },
          "metadata": {
            "tags": []
          },
          "execution_count": 1397
        }
      ]
    },
    {
      "cell_type": "code",
      "metadata": {
        "colab": {
          "base_uri": "https://localhost:8080/"
        },
        "id": "v3QzqGrysYle",
        "outputId": "279bd690-53d3-4d0d-98b7-90794b623996"
      },
      "source": [
        "survived_median_age = survived.age.median()\n",
        "survived_median_age"
      ],
      "execution_count": 1398,
      "outputs": [
        {
          "output_type": "execute_result",
          "data": {
            "text/plain": [
              "28.0"
            ]
          },
          "metadata": {
            "tags": []
          },
          "execution_count": 1398
        }
      ]
    },
    {
      "cell_type": "code",
      "metadata": {
        "colab": {
          "base_uri": "https://localhost:8080/"
        },
        "id": "aRIBQWJzshsu",
        "outputId": "f9312180-9456-406d-ec1f-c362f53adc16"
      },
      "source": [
        "survived_most_age = survived.age.mode()\n",
        "survived_most_age"
      ],
      "execution_count": 1399,
      "outputs": [
        {
          "output_type": "execute_result",
          "data": {
            "text/plain": [
              "0    28.0\n",
              "dtype: float64"
            ]
          },
          "metadata": {
            "tags": []
          },
          "execution_count": 1399
        }
      ]
    },
    {
      "cell_type": "markdown",
      "metadata": {
        "id": "PiI0deX5s8-B"
      },
      "source": [
        "Survived Fare"
      ]
    },
    {
      "cell_type": "code",
      "metadata": {
        "colab": {
          "base_uri": "https://localhost:8080/",
          "height": 377
        },
        "id": "hxsgY3l8s-dw",
        "outputId": "fc782b79-693e-4065-91e2-edb6b67e1c71"
      },
      "source": [
        "plt.figure(figsize=(10,6))\n",
        "plt.title(\"Fare Frequency\")\n",
        "sns.axes_style(\"dark\")\n",
        "sns.violinplot(y=survived[\"fare\"])\n",
        "plt.show()"
      ],
      "execution_count": 1400,
      "outputs": [
        {
          "output_type": "display_data",
          "data": {
            "image/png": "[encoded data removed]",
            "text/plain": [
              "<Figure size 720x432 with 1 Axes>"
            ]
          },
          "metadata": {
            "tags": [],
            "needs_background": "light"
          }
        }
      ]
    },
    {
      "cell_type": "code",
      "metadata": {
        "colab": {
          "base_uri": "https://localhost:8080/"
        },
        "id": "RLVRG4iTtMGR",
        "outputId": "8c1ca57b-c45b-4539-dd00-3567833d50b9"
      },
      "source": [
        "survived_max_fare = survived.fare.max()\n",
        "survived_max_fare"
      ],
      "execution_count": 1401,
      "outputs": [
        {
          "output_type": "execute_result",
          "data": {
            "text/plain": [
              "512.33"
            ]
          },
          "metadata": {
            "tags": []
          },
          "execution_count": 1401
        }
      ]
    },
    {
      "cell_type": "code",
      "metadata": {
        "colab": {
          "base_uri": "https://localhost:8080/"
        },
        "id": "5Ctr7_TjtX01",
        "outputId": "9a3cfc32-e55c-4054-9912-57f14189f5d3"
      },
      "source": [
        "survived_min_fare = survived.fare.min()\n",
        "survived_min_fare"
      ],
      "execution_count": 1402,
      "outputs": [
        {
          "output_type": "execute_result",
          "data": {
            "text/plain": [
              "0.0"
            ]
          },
          "metadata": {
            "tags": []
          },
          "execution_count": 1402
        }
      ]
    },
    {
      "cell_type": "code",
      "metadata": {
        "colab": {
          "base_uri": "https://localhost:8080/"
        },
        "id": "BW-EAGJstfVo",
        "outputId": "a1f46fb2-1050-4ba4-cb0a-0efe63ffe931"
      },
      "source": [
        "survived_median_fare = survived.fare.median()\n",
        "survived_median_fare"
      ],
      "execution_count": 1403,
      "outputs": [
        {
          "output_type": "execute_result",
          "data": {
            "text/plain": [
              "26.0"
            ]
          },
          "metadata": {
            "tags": []
          },
          "execution_count": 1403
        }
      ]
    },
    {
      "cell_type": "code",
      "metadata": {
        "colab": {
          "base_uri": "https://localhost:8080/"
        },
        "id": "3iEKj75Buf54",
        "outputId": "3490af93-c48e-47a9-94e8-5c6a35af9484"
      },
      "source": [
        "survived_mode_fare = survived.fare.mode()\n",
        "survived_mode_fare"
      ],
      "execution_count": 1404,
      "outputs": [
        {
          "output_type": "execute_result",
          "data": {
            "text/plain": [
              "0    26.0\n",
              "dtype: float64"
            ]
          },
          "metadata": {
            "tags": []
          },
          "execution_count": 1404
        }
      ]
    },
    {
      "cell_type": "markdown",
      "metadata": {
        "id": "KxLzT6-7JGYz"
      },
      "source": [
        "Ordinal encode categorical columns"
      ]
    },
    {
      "cell_type": "code",
      "metadata": {
        "id": "zDkFqJAWJWad"
      },
      "source": [
        "sex1={'male':1, 'female':2}\n",
        "data.sex=data.sex.map(sex1)"
      ],
      "execution_count": 1405,
      "outputs": []
    },
    {
      "cell_type": "code",
      "metadata": {
        "id": "PzBus8oKvsZQ"
      },
      "source": [
        "age1={'Adult':1, 'Child':2}\n",
        "data.age_b=data.age_b.map(age1)"
      ],
      "execution_count": 1406,
      "outputs": []
    },
    {
      "cell_type": "markdown",
      "metadata": {
        "id": "6dMjh_gTLPd3"
      },
      "source": [
        "Convert age and fare to integar"
      ]
    },
    {
      "cell_type": "code",
      "metadata": {
        "id": "bGhSysUALZ8o"
      },
      "source": [
        "data.age = data.age.astype(int)\n",
        "data.fare = data.fare.astype(int)"
      ],
      "execution_count": 1407,
      "outputs": []
    },
    {
      "cell_type": "code",
      "metadata": {
        "colab": {
          "base_uri": "https://localhost:8080/",
          "height": 399
        },
        "id": "i8ZDm9aqvXTL",
        "outputId": "77bf8522-4654-433b-a3a2-befbad6969d0"
      },
      "source": [
        "data"
      ],
      "execution_count": 1408,
      "outputs": [
        {
          "output_type": "execute_result",
          "data": {
            "text/html": [
              "<div>\n",
              "<style scoped>\n",
              "    .dataframe tbody tr th:only-of-type {\n",
              "        vertical-align: middle;\n",
              "    }\n",
              "\n",
              "    .dataframe tbody tr th {\n",
              "        vertical-align: top;\n",
              "    }\n",
              "\n",
              "    .dataframe thead th {\n",
              "        text-align: right;\n",
              "    }\n",
              "</style>\n",
              "<table border=\"1\" class=\"dataframe\">\n",
              "  <thead>\n",
              "    <tr style=\"text-align: right;\">\n",
              "      <th></th>\n",
              "      <th>ID</th>\n",
              "      <th>pclass</th>\n",
              "      <th>survived</th>\n",
              "      <th>sex</th>\n",
              "      <th>age</th>\n",
              "      <th>age_b</th>\n",
              "      <th>fare</th>\n",
              "    </tr>\n",
              "  </thead>\n",
              "  <tbody>\n",
              "    <tr>\n",
              "      <th>0</th>\n",
              "      <td>1</td>\n",
              "      <td>1</td>\n",
              "      <td>1</td>\n",
              "      <td>2</td>\n",
              "      <td>29</td>\n",
              "      <td>1</td>\n",
              "      <td>211</td>\n",
              "    </tr>\n",
              "    <tr>\n",
              "      <th>1</th>\n",
              "      <td>2</td>\n",
              "      <td>1</td>\n",
              "      <td>1</td>\n",
              "      <td>1</td>\n",
              "      <td>0</td>\n",
              "      <td>2</td>\n",
              "      <td>151</td>\n",
              "    </tr>\n",
              "    <tr>\n",
              "      <th>2</th>\n",
              "      <td>3</td>\n",
              "      <td>1</td>\n",
              "      <td>0</td>\n",
              "      <td>2</td>\n",
              "      <td>2</td>\n",
              "      <td>2</td>\n",
              "      <td>151</td>\n",
              "    </tr>\n",
              "    <tr>\n",
              "      <th>3</th>\n",
              "      <td>4</td>\n",
              "      <td>1</td>\n",
              "      <td>0</td>\n",
              "      <td>1</td>\n",
              "      <td>30</td>\n",
              "      <td>1</td>\n",
              "      <td>151</td>\n",
              "    </tr>\n",
              "    <tr>\n",
              "      <th>4</th>\n",
              "      <td>5</td>\n",
              "      <td>1</td>\n",
              "      <td>0</td>\n",
              "      <td>2</td>\n",
              "      <td>25</td>\n",
              "      <td>1</td>\n",
              "      <td>151</td>\n",
              "    </tr>\n",
              "    <tr>\n",
              "      <th>...</th>\n",
              "      <td>...</td>\n",
              "      <td>...</td>\n",
              "      <td>...</td>\n",
              "      <td>...</td>\n",
              "      <td>...</td>\n",
              "      <td>...</td>\n",
              "      <td>...</td>\n",
              "    </tr>\n",
              "    <tr>\n",
              "      <th>1304</th>\n",
              "      <td>1305</td>\n",
              "      <td>3</td>\n",
              "      <td>0</td>\n",
              "      <td>2</td>\n",
              "      <td>14</td>\n",
              "      <td>2</td>\n",
              "      <td>14</td>\n",
              "    </tr>\n",
              "    <tr>\n",
              "      <th>1305</th>\n",
              "      <td>1306</td>\n",
              "      <td>3</td>\n",
              "      <td>0</td>\n",
              "      <td>2</td>\n",
              "      <td>28</td>\n",
              "      <td>1</td>\n",
              "      <td>14</td>\n",
              "    </tr>\n",
              "    <tr>\n",
              "      <th>1306</th>\n",
              "      <td>1307</td>\n",
              "      <td>3</td>\n",
              "      <td>0</td>\n",
              "      <td>1</td>\n",
              "      <td>26</td>\n",
              "      <td>1</td>\n",
              "      <td>7</td>\n",
              "    </tr>\n",
              "    <tr>\n",
              "      <th>1307</th>\n",
              "      <td>1308</td>\n",
              "      <td>3</td>\n",
              "      <td>0</td>\n",
              "      <td>1</td>\n",
              "      <td>27</td>\n",
              "      <td>1</td>\n",
              "      <td>7</td>\n",
              "    </tr>\n",
              "    <tr>\n",
              "      <th>1308</th>\n",
              "      <td>1309</td>\n",
              "      <td>3</td>\n",
              "      <td>0</td>\n",
              "      <td>1</td>\n",
              "      <td>29</td>\n",
              "      <td>1</td>\n",
              "      <td>7</td>\n",
              "    </tr>\n",
              "  </tbody>\n",
              "</table>\n",
              "<p>1309 rows × 7 columns</p>\n",
              "</div>"
            ],
            "text/plain": [
              "        ID  pclass  survived  sex  age  age_b  fare\n",
              "0        1       1         1    2   29      1   211\n",
              "1        2       1         1    1    0      2   151\n",
              "2        3       1         0    2    2      2   151\n",
              "3        4       1         0    1   30      1   151\n",
              "4        5       1         0    2   25      1   151\n",
              "...    ...     ...       ...  ...  ...    ...   ...\n",
              "1304  1305       3         0    2   14      2    14\n",
              "1305  1306       3         0    2   28      1    14\n",
              "1306  1307       3         0    1   26      1     7\n",
              "1307  1308       3         0    1   27      1     7\n",
              "1308  1309       3         0    1   29      1     7\n",
              "\n",
              "[1309 rows x 7 columns]"
            ]
          },
          "metadata": {
            "tags": []
          },
          "execution_count": 1408
        }
      ]
    },
    {
      "cell_type": "markdown",
      "metadata": {
        "id": "SewctyPbeHRN"
      },
      "source": [
        "Set up X and y values"
      ]
    },
    {
      "cell_type": "code",
      "metadata": {
        "id": "xYAenwy4Eppo"
      },
      "source": [
        "y = data[\"survived\"]\n",
        "features = [\"pclass\", \"sex\", \"age\", \"age_b\", \"fare\"]\n",
        "X = data[features]"
      ],
      "execution_count": 1409,
      "outputs": []
    },
    {
      "cell_type": "code",
      "metadata": {
        "colab": {
          "base_uri": "https://localhost:8080/"
        },
        "id": "JEY2P5498FDO",
        "outputId": "3b116f8f-dbb9-4147-a868-fc6b96cd8af5"
      },
      "source": [
        "num_feature = len(X.columns)\n",
        "print(num_feature)"
      ],
      "execution_count": 1410,
      "outputs": [
        {
          "output_type": "stream",
          "text": [
            "5\n"
          ],
          "name": "stdout"
        }
      ]
    },
    {
      "cell_type": "markdown",
      "metadata": {
        "id": "h6OFikE1Hd92"
      },
      "source": [
        "Normalise data"
      ]
    },
    {
      "cell_type": "code",
      "metadata": {
        "colab": {
          "base_uri": "https://localhost:8080/",
          "height": 399
        },
        "id": "ivDHdYngHgRZ",
        "outputId": "0feb45dc-bbd2-48a7-ad52-a0493e2ebf61"
      },
      "source": [
        "X = (X-X.min()) / (X.max() - X.min())\n",
        "X"
      ],
      "execution_count": 1411,
      "outputs": [
        {
          "output_type": "execute_result",
          "data": {
            "text/html": [
              "<div>\n",
              "<style scoped>\n",
              "    .dataframe tbody tr th:only-of-type {\n",
              "        vertical-align: middle;\n",
              "    }\n",
              "\n",
              "    .dataframe tbody tr th {\n",
              "        vertical-align: top;\n",
              "    }\n",
              "\n",
              "    .dataframe thead th {\n",
              "        text-align: right;\n",
              "    }\n",
              "</style>\n",
              "<table border=\"1\" class=\"dataframe\">\n",
              "  <thead>\n",
              "    <tr style=\"text-align: right;\">\n",
              "      <th></th>\n",
              "      <th>pclass</th>\n",
              "      <th>sex</th>\n",
              "      <th>age</th>\n",
              "      <th>age_b</th>\n",
              "      <th>fare</th>\n",
              "    </tr>\n",
              "  </thead>\n",
              "  <tbody>\n",
              "    <tr>\n",
              "      <th>0</th>\n",
              "      <td>0.0</td>\n",
              "      <td>1.0</td>\n",
              "      <td>0.3625</td>\n",
              "      <td>0.0</td>\n",
              "      <td>0.412109</td>\n",
              "    </tr>\n",
              "    <tr>\n",
              "      <th>1</th>\n",
              "      <td>0.0</td>\n",
              "      <td>0.0</td>\n",
              "      <td>0.0000</td>\n",
              "      <td>1.0</td>\n",
              "      <td>0.294922</td>\n",
              "    </tr>\n",
              "    <tr>\n",
              "      <th>2</th>\n",
              "      <td>0.0</td>\n",
              "      <td>1.0</td>\n",
              "      <td>0.0250</td>\n",
              "      <td>1.0</td>\n",
              "      <td>0.294922</td>\n",
              "    </tr>\n",
              "    <tr>\n",
              "      <th>3</th>\n",
              "      <td>0.0</td>\n",
              "      <td>0.0</td>\n",
              "      <td>0.3750</td>\n",
              "      <td>0.0</td>\n",
              "      <td>0.294922</td>\n",
              "    </tr>\n",
              "    <tr>\n",
              "      <th>4</th>\n",
              "      <td>0.0</td>\n",
              "      <td>1.0</td>\n",
              "      <td>0.3125</td>\n",
              "      <td>0.0</td>\n",
              "      <td>0.294922</td>\n",
              "    </tr>\n",
              "    <tr>\n",
              "      <th>...</th>\n",
              "      <td>...</td>\n",
              "      <td>...</td>\n",
              "      <td>...</td>\n",
              "      <td>...</td>\n",
              "      <td>...</td>\n",
              "    </tr>\n",
              "    <tr>\n",
              "      <th>1304</th>\n",
              "      <td>1.0</td>\n",
              "      <td>1.0</td>\n",
              "      <td>0.1750</td>\n",
              "      <td>1.0</td>\n",
              "      <td>0.027344</td>\n",
              "    </tr>\n",
              "    <tr>\n",
              "      <th>1305</th>\n",
              "      <td>1.0</td>\n",
              "      <td>1.0</td>\n",
              "      <td>0.3500</td>\n",
              "      <td>0.0</td>\n",
              "      <td>0.027344</td>\n",
              "    </tr>\n",
              "    <tr>\n",
              "      <th>1306</th>\n",
              "      <td>1.0</td>\n",
              "      <td>0.0</td>\n",
              "      <td>0.3250</td>\n",
              "      <td>0.0</td>\n",
              "      <td>0.013672</td>\n",
              "    </tr>\n",
              "    <tr>\n",
              "      <th>1307</th>\n",
              "      <td>1.0</td>\n",
              "      <td>0.0</td>\n",
              "      <td>0.3375</td>\n",
              "      <td>0.0</td>\n",
              "      <td>0.013672</td>\n",
              "    </tr>\n",
              "    <tr>\n",
              "      <th>1308</th>\n",
              "      <td>1.0</td>\n",
              "      <td>0.0</td>\n",
              "      <td>0.3625</td>\n",
              "      <td>0.0</td>\n",
              "      <td>0.013672</td>\n",
              "    </tr>\n",
              "  </tbody>\n",
              "</table>\n",
              "<p>1309 rows × 5 columns</p>\n",
              "</div>"
            ],
            "text/plain": [
              "      pclass  sex     age  age_b      fare\n",
              "0        0.0  1.0  0.3625    0.0  0.412109\n",
              "1        0.0  0.0  0.0000    1.0  0.294922\n",
              "2        0.0  1.0  0.0250    1.0  0.294922\n",
              "3        0.0  0.0  0.3750    0.0  0.294922\n",
              "4        0.0  1.0  0.3125    0.0  0.294922\n",
              "...      ...  ...     ...    ...       ...\n",
              "1304     1.0  1.0  0.1750    1.0  0.027344\n",
              "1305     1.0  1.0  0.3500    0.0  0.027344\n",
              "1306     1.0  0.0  0.3250    0.0  0.013672\n",
              "1307     1.0  0.0  0.3375    0.0  0.013672\n",
              "1308     1.0  0.0  0.3625    0.0  0.013672\n",
              "\n",
              "[1309 rows x 5 columns]"
            ]
          },
          "metadata": {
            "tags": []
          },
          "execution_count": 1411
        }
      ]
    },
    {
      "cell_type": "markdown",
      "metadata": {
        "id": "dUst2nUxeNNd"
      },
      "source": [
        "Split the training file for training and testing"
      ]
    },
    {
      "cell_type": "code",
      "metadata": {
        "colab": {
          "base_uri": "https://localhost:8080/"
        },
        "id": "57xNPOcpNhwj",
        "outputId": "78e8b7d6-d781-4ca9-a7c0-6b86ef71e1e8"
      },
      "source": [
        "from sklearn.model_selection import train_test_split\n",
        "\n",
        "X_train, X_test, y_train, y_test = train_test_split( X, y, test_size=0.1, shuffle=True, random_state=1, stratify=y)\n",
        "X_train.shape, y_train.shape, X_test.shape, y_test.shape"
      ],
      "execution_count": 1412,
      "outputs": [
        {
          "output_type": "execute_result",
          "data": {
            "text/plain": [
              "((1178, 5), (1178,), (131, 5), (131,))"
            ]
          },
          "metadata": {
            "tags": []
          },
          "execution_count": 1412
        }
      ]
    },
    {
      "cell_type": "markdown",
      "metadata": {
        "id": "VNIlrTFjH4pj"
      },
      "source": [
        "PyTorch"
      ]
    },
    {
      "cell_type": "markdown",
      "metadata": {
        "id": "mRn1YgNJ-y1-"
      },
      "source": [
        "Import libraries"
      ]
    },
    {
      "cell_type": "code",
      "metadata": {
        "id": "YuxZ9yIML8Wf"
      },
      "source": [
        "#import libraries\n",
        "import torch\n",
        "import torch.nn as nn\n",
        "import torch.optim as optim\n",
        "from torch.utils.data import Dataset, DataLoader\n",
        "from sklearn.metrics import confusion_matrix, classification_report"
      ],
      "execution_count": 1413,
      "outputs": []
    },
    {
      "cell_type": "markdown",
      "metadata": {
        "id": "kgGW_7Q5-j3U"
      },
      "source": [
        "Model parameters"
      ]
    },
    {
      "cell_type": "code",
      "metadata": {
        "id": "tFguf1hzNlcd"
      },
      "source": [
        "#model parameters\n",
        "EPOCHS = 45\n",
        "BATCH_SIZE = 64\n",
        "LEARNING_RATE = 0.001"
      ],
      "execution_count": 1414,
      "outputs": []
    },
    {
      "cell_type": "markdown",
      "metadata": {
        "id": "b-W34At1_AYx"
      },
      "source": [
        "Define train and test dataloaders "
      ]
    },
    {
      "cell_type": "code",
      "metadata": {
        "id": "RdxFwvdsPFnU"
      },
      "source": [
        "## train data\n",
        "class trainData(Dataset):\n",
        "    \n",
        "    def __init__(self, X_data, y_data):\n",
        "        self.X_data = X_data\n",
        "        self.y_data = y_data\n",
        "        \n",
        "    def __getitem__(self, index):\n",
        "        return self.X_data[index], self.y_data[index]\n",
        "        \n",
        "    def __len__ (self):\n",
        "        return len(self.X_data)\n",
        "\n",
        "\n",
        "train_data = trainData(torch.FloatTensor(X_train.values), \n",
        "                       torch.FloatTensor(y_train.values))\n",
        "## test data    \n",
        "class testData(Dataset):\n",
        "    \n",
        "    def __init__(self, X_data):\n",
        "        self.X_data = X_data\n",
        "        \n",
        "    def __getitem__(self, index):\n",
        "        return self.X_data[index]\n",
        "        \n",
        "    def __len__ (self):\n",
        "        return len(self.X_data)\n",
        "    \n",
        "\n",
        "test_data = testData(torch.FloatTensor(X_test.values))"
      ],
      "execution_count": 1415,
      "outputs": []
    },
    {
      "cell_type": "markdown",
      "metadata": {
        "id": "2eZonwzi-4yK"
      },
      "source": [
        "Initialise data loader"
      ]
    },
    {
      "cell_type": "code",
      "metadata": {
        "id": "5Tz5SSyJP-cw"
      },
      "source": [
        "#initialise data loader\n",
        "train_loader = DataLoader(dataset=train_data, batch_size=BATCH_SIZE, shuffle=True)\n",
        "test_loader = DataLoader(dataset=test_data, batch_size=1)"
      ],
      "execution_count": 1416,
      "outputs": []
    },
    {
      "cell_type": "markdown",
      "metadata": {
        "id": "uKr79S7UA9Ij"
      },
      "source": [
        "Define binary class"
      ]
    },
    {
      "cell_type": "code",
      "metadata": {
        "id": "eAJYH-UyQC88"
      },
      "source": [
        "class binaryClassification(nn.Module):\n",
        "    def __init__(self):\n",
        "        super(binaryClassification, self).__init__()\n",
        "        # Number of input features is 12.\n",
        "        self.layer_1 = nn.Linear(num_feature, 64) \n",
        "        self.layer_2 = nn.Linear(64, 64)\n",
        "        self.layer_out = nn.Linear(64, 1) \n",
        "        \n",
        "        self.relu = nn.ReLU()\n",
        "        self.dropout = nn.Dropout(p=0.1)\n",
        "        self.batchnorm1 = nn.BatchNorm1d(64)\n",
        "        self.batchnorm2 = nn.BatchNorm1d(64)\n",
        "        \n",
        "    def forward(self, inputs):\n",
        "        x = self.relu(self.layer_1(inputs))\n",
        "        x = self.batchnorm1(x)\n",
        "        x = self.relu(self.layer_2(x))\n",
        "        x = self.batchnorm2(x)\n",
        "        x = self.dropout(x)\n",
        "        x = self.layer_out(x)\n",
        "        \n",
        "        return x"
      ],
      "execution_count": 1417,
      "outputs": []
    },
    {
      "cell_type": "markdown",
      "metadata": {
        "id": "T8DdQ-cYBFFW"
      },
      "source": [
        "Define device"
      ]
    },
    {
      "cell_type": "code",
      "metadata": {
        "id": "duHQ5SgWQTt7",
        "colab": {
          "base_uri": "https://localhost:8080/"
        },
        "outputId": "290ddb00-0dc8-4cb8-bf05-5b9b41519db3"
      },
      "source": [
        "device = torch.device(\"cuda:0\" if torch.cuda.is_available() else \"cpu\")\n",
        "print(device)"
      ],
      "execution_count": 1418,
      "outputs": [
        {
          "output_type": "stream",
          "text": [
            "cpu\n"
          ],
          "name": "stdout"
        }
      ]
    },
    {
      "cell_type": "markdown",
      "metadata": {
        "id": "E8v6_eGD_ZIM"
      },
      "source": [
        "Define model"
      ]
    },
    {
      "cell_type": "code",
      "metadata": {
        "id": "yqA3mcqyQf1P",
        "colab": {
          "base_uri": "https://localhost:8080/"
        },
        "outputId": "d39fb726-fc69-4364-a89b-d9fdfd15a85d"
      },
      "source": [
        "model = binaryClassification()\n",
        "model.to(device)\n",
        "print(model)\n",
        "criterion = nn.BCEWithLogitsLoss()\n",
        "optimizer = optim.Adam(model.parameters(), lr=LEARNING_RATE)"
      ],
      "execution_count": 1419,
      "outputs": [
        {
          "output_type": "stream",
          "text": [
            "binaryClassification(\n",
            "  (layer_1): Linear(in_features=5, out_features=64, bias=True)\n",
            "  (layer_2): Linear(in_features=64, out_features=64, bias=True)\n",
            "  (layer_out): Linear(in_features=64, out_features=1, bias=True)\n",
            "  (relu): ReLU()\n",
            "  (dropout): Dropout(p=0.1, inplace=False)\n",
            "  (batchnorm1): BatchNorm1d(64, eps=1e-05, momentum=0.1, affine=True, track_running_stats=True)\n",
            "  (batchnorm2): BatchNorm1d(64, eps=1e-05, momentum=0.1, affine=True, track_running_stats=True)\n",
            ")\n"
          ],
          "name": "stdout"
        }
      ]
    },
    {
      "cell_type": "markdown",
      "metadata": {
        "id": "7Nun2M4G_4Ls"
      },
      "source": [
        "Define accuracy function"
      ]
    },
    {
      "cell_type": "code",
      "metadata": {
        "id": "fHoKumSjQpVE"
      },
      "source": [
        "def binary_acc(y_pred, y_test):\n",
        "    y_pred_tag = torch.round(torch.sigmoid(y_pred))\n",
        "\n",
        "    correct_results_sum = (y_pred_tag == y_test).sum().float()\n",
        "    acc = correct_results_sum/y_test.shape[0]\n",
        "    acc = torch.round(acc * 100)\n",
        "    \n",
        "    return acc"
      ],
      "execution_count": 1420,
      "outputs": []
    },
    {
      "cell_type": "markdown",
      "metadata": {
        "id": "vLsBI4ioACMh"
      },
      "source": [
        "Train model"
      ]
    },
    {
      "cell_type": "code",
      "metadata": {
        "id": "r8QEBR9TQ9D2",
        "colab": {
          "base_uri": "https://localhost:8080/"
        },
        "outputId": "6f5b060f-7c9b-4a24-80af-393f8eca9c01"
      },
      "source": [
        "model.train()\n",
        "for e in range(1, EPOCHS+1):\n",
        "    epoch_loss = 0\n",
        "    epoch_acc = 0\n",
        "    for X_batch, y_batch in train_loader:\n",
        "        X_batch, y_batch = X_batch.to(device), y_batch.to(device)\n",
        "        optimizer.zero_grad()\n",
        "        \n",
        "        y_pred = model(X_batch)\n",
        "        \n",
        "        loss = criterion(y_pred, y_batch.unsqueeze(1))\n",
        "        acc = binary_acc(y_pred, y_batch.unsqueeze(1))\n",
        "        \n",
        "        loss.backward()\n",
        "        optimizer.step()\n",
        "        \n",
        "        epoch_loss += loss.item()\n",
        "        epoch_acc += acc.item()\n",
        "        \n",
        "\n",
        "    print(f'Epoch {e+0:03}: | Loss: {epoch_loss/len(train_loader):.5f} | Acc: {epoch_acc/len(train_loader):.3f}')"
      ],
      "execution_count": 1421,
      "outputs": [
        {
          "output_type": "stream",
          "text": [
            "Epoch 001: | Loss: 0.57740 | Acc: 70.211\n",
            "Epoch 002: | Loss: 0.46682 | Acc: 78.526\n",
            "Epoch 003: | Loss: 0.46264 | Acc: 79.684\n",
            "Epoch 004: | Loss: 0.45658 | Acc: 79.158\n",
            "Epoch 005: | Loss: 0.44738 | Acc: 78.947\n",
            "Epoch 006: | Loss: 0.45353 | Acc: 78.474\n",
            "Epoch 007: | Loss: 0.45254 | Acc: 79.421\n",
            "Epoch 008: | Loss: 0.43280 | Acc: 80.684\n",
            "Epoch 009: | Loss: 0.43678 | Acc: 79.789\n",
            "Epoch 010: | Loss: 0.44779 | Acc: 79.158\n",
            "Epoch 011: | Loss: 0.44337 | Acc: 79.842\n",
            "Epoch 012: | Loss: 0.43008 | Acc: 80.474\n",
            "Epoch 013: | Loss: 0.44251 | Acc: 79.684\n",
            "Epoch 014: | Loss: 0.43298 | Acc: 80.737\n",
            "Epoch 015: | Loss: 0.42029 | Acc: 79.895\n",
            "Epoch 016: | Loss: 0.43293 | Acc: 81.737\n",
            "Epoch 017: | Loss: 0.42859 | Acc: 79.368\n",
            "Epoch 018: | Loss: 0.42779 | Acc: 80.053\n",
            "Epoch 019: | Loss: 0.44649 | Acc: 79.579\n",
            "Epoch 020: | Loss: 0.42820 | Acc: 81.474\n",
            "Epoch 021: | Loss: 0.42989 | Acc: 79.474\n",
            "Epoch 022: | Loss: 0.43379 | Acc: 78.684\n",
            "Epoch 023: | Loss: 0.43449 | Acc: 79.737\n",
            "Epoch 024: | Loss: 0.43675 | Acc: 80.421\n",
            "Epoch 025: | Loss: 0.43189 | Acc: 80.737\n",
            "Epoch 026: | Loss: 0.42472 | Acc: 80.105\n",
            "Epoch 027: | Loss: 0.41708 | Acc: 81.316\n",
            "Epoch 028: | Loss: 0.42895 | Acc: 80.000\n",
            "Epoch 029: | Loss: 0.42834 | Acc: 79.526\n",
            "Epoch 030: | Loss: 0.42001 | Acc: 80.895\n",
            "Epoch 031: | Loss: 0.43279 | Acc: 79.947\n",
            "Epoch 032: | Loss: 0.42804 | Acc: 80.474\n",
            "Epoch 033: | Loss: 0.42699 | Acc: 80.053\n",
            "Epoch 034: | Loss: 0.42911 | Acc: 79.737\n",
            "Epoch 035: | Loss: 0.42847 | Acc: 80.474\n",
            "Epoch 036: | Loss: 0.42415 | Acc: 81.105\n",
            "Epoch 037: | Loss: 0.42726 | Acc: 80.474\n",
            "Epoch 038: | Loss: 0.42408 | Acc: 79.632\n",
            "Epoch 039: | Loss: 0.41607 | Acc: 82.000\n",
            "Epoch 040: | Loss: 0.41549 | Acc: 80.526\n",
            "Epoch 041: | Loss: 0.40994 | Acc: 82.000\n",
            "Epoch 042: | Loss: 0.41806 | Acc: 80.316\n",
            "Epoch 043: | Loss: 0.41753 | Acc: 81.105\n",
            "Epoch 044: | Loss: 0.41845 | Acc: 80.895\n",
            "Epoch 045: | Loss: 0.41942 | Acc: 81.158\n"
          ],
          "name": "stdout"
        }
      ]
    },
    {
      "cell_type": "markdown",
      "metadata": {
        "id": "xusQNpAPAKxf"
      },
      "source": [
        "Convert predictions to a list"
      ]
    },
    {
      "cell_type": "code",
      "metadata": {
        "id": "OxgfCgVGRGR9"
      },
      "source": [
        "y_pred_list = []\n",
        "model.eval()\n",
        "with torch.no_grad():\n",
        "    for X_batch in test_loader:\n",
        "        X_batch = X_batch.to(device)\n",
        "        y_test_pred = model(X_batch)\n",
        "        y_test_pred = torch.sigmoid(y_test_pred)\n",
        "        y_pred_tag = torch.round(y_test_pred)\n",
        "        y_pred_list.append(y_pred_tag.cpu().numpy())\n",
        "\n",
        "y_pred_list = [a.squeeze().tolist() for a in y_pred_list]"
      ],
      "execution_count": 1422,
      "outputs": []
    },
    {
      "cell_type": "markdown",
      "metadata": {
        "id": "dMciYRjDOSg1"
      },
      "source": [
        "Accuracy score"
      ]
    },
    {
      "cell_type": "code",
      "metadata": {
        "colab": {
          "base_uri": "https://localhost:8080/"
        },
        "id": "Zz09tmDpOVWL",
        "outputId": "1efdbb6c-f8f6-4c33-a750-a1e58a888b76"
      },
      "source": [
        "from sklearn.metrics import accuracy_score\n",
        "\n",
        "accuracy = accuracy_score(y_test, y_pred_list)\n",
        "print(accuracy)"
      ],
      "execution_count": 1423,
      "outputs": [
        {
          "output_type": "stream",
          "text": [
            "0.8015267175572519\n"
          ],
          "name": "stdout"
        }
      ]
    },
    {
      "cell_type": "markdown",
      "metadata": {
        "id": "Tb3KJV69Af7Q"
      },
      "source": [
        "Confusion matrix"
      ]
    },
    {
      "cell_type": "code",
      "metadata": {
        "id": "Ijs7Pzn7RGN1",
        "colab": {
          "base_uri": "https://localhost:8080/"
        },
        "outputId": "b56bead6-200d-4443-8a12-71d8dde4408b"
      },
      "source": [
        "confusion_matrix(y_test, y_pred_list)"
      ],
      "execution_count": 1424,
      "outputs": [
        {
          "output_type": "execute_result",
          "data": {
            "text/plain": [
              "array([[72,  9],\n",
              "       [17, 33]])"
            ]
          },
          "metadata": {
            "tags": []
          },
          "execution_count": 1424
        }
      ]
    },
    {
      "cell_type": "markdown",
      "metadata": {
        "id": "kHnjnD2fAi42"
      },
      "source": [
        "Classification report"
      ]
    },
    {
      "cell_type": "code",
      "metadata": {
        "id": "Et3BfyprRSS6",
        "colab": {
          "base_uri": "https://localhost:8080/"
        },
        "outputId": "2aa3a143-e1ab-4246-c3e9-3a3c7d6badd2"
      },
      "source": [
        "print(classification_report(y_test, y_pred_list))"
      ],
      "execution_count": 1425,
      "outputs": [
        {
          "output_type": "stream",
          "text": [
            "              precision    recall  f1-score   support\n",
            "\n",
            "           0       0.81      0.89      0.85        81\n",
            "           1       0.79      0.66      0.72        50\n",
            "\n",
            "    accuracy                           0.80       131\n",
            "   macro avg       0.80      0.77      0.78       131\n",
            "weighted avg       0.80      0.80      0.80       131\n",
            "\n"
          ],
          "name": "stdout"
        }
      ]
    },
    {
      "cell_type": "code",
      "metadata": {
        "id": "a_QGAKkgc5JN",
        "colab": {
          "base_uri": "https://localhost:8080/",
          "height": 399
        },
        "outputId": "da1d566d-20b4-4085-f19d-c3a6d6e030dc"
      },
      "source": [
        "df=pd.DataFrame({'Actual': y_test, 'Predicted':y_pred_list})\n",
        "df"
      ],
      "execution_count": 1426,
      "outputs": [
        {
          "output_type": "execute_result",
          "data": {
            "text/html": [
              "<div>\n",
              "<style scoped>\n",
              "    .dataframe tbody tr th:only-of-type {\n",
              "        vertical-align: middle;\n",
              "    }\n",
              "\n",
              "    .dataframe tbody tr th {\n",
              "        vertical-align: top;\n",
              "    }\n",
              "\n",
              "    .dataframe thead th {\n",
              "        text-align: right;\n",
              "    }\n",
              "</style>\n",
              "<table border=\"1\" class=\"dataframe\">\n",
              "  <thead>\n",
              "    <tr style=\"text-align: right;\">\n",
              "      <th></th>\n",
              "      <th>Actual</th>\n",
              "      <th>Predicted</th>\n",
              "    </tr>\n",
              "  </thead>\n",
              "  <tbody>\n",
              "    <tr>\n",
              "      <th>141</th>\n",
              "      <td>1</td>\n",
              "      <td>1.0</td>\n",
              "    </tr>\n",
              "    <tr>\n",
              "      <th>934</th>\n",
              "      <td>1</td>\n",
              "      <td>0.0</td>\n",
              "    </tr>\n",
              "    <tr>\n",
              "      <th>603</th>\n",
              "      <td>1</td>\n",
              "      <td>0.0</td>\n",
              "    </tr>\n",
              "    <tr>\n",
              "      <th>906</th>\n",
              "      <td>0</td>\n",
              "      <td>0.0</td>\n",
              "    </tr>\n",
              "    <tr>\n",
              "      <th>1117</th>\n",
              "      <td>0</td>\n",
              "      <td>0.0</td>\n",
              "    </tr>\n",
              "    <tr>\n",
              "      <th>...</th>\n",
              "      <td>...</td>\n",
              "      <td>...</td>\n",
              "    </tr>\n",
              "    <tr>\n",
              "      <th>595</th>\n",
              "      <td>0</td>\n",
              "      <td>0.0</td>\n",
              "    </tr>\n",
              "    <tr>\n",
              "      <th>539</th>\n",
              "      <td>0</td>\n",
              "      <td>0.0</td>\n",
              "    </tr>\n",
              "    <tr>\n",
              "      <th>137</th>\n",
              "      <td>1</td>\n",
              "      <td>1.0</td>\n",
              "    </tr>\n",
              "    <tr>\n",
              "      <th>1134</th>\n",
              "      <td>0</td>\n",
              "      <td>0.0</td>\n",
              "    </tr>\n",
              "    <tr>\n",
              "      <th>831</th>\n",
              "      <td>0</td>\n",
              "      <td>0.0</td>\n",
              "    </tr>\n",
              "  </tbody>\n",
              "</table>\n",
              "<p>131 rows × 2 columns</p>\n",
              "</div>"
            ],
            "text/plain": [
              "      Actual  Predicted\n",
              "141        1        1.0\n",
              "934        1        0.0\n",
              "603        1        0.0\n",
              "906        0        0.0\n",
              "1117       0        0.0\n",
              "...      ...        ...\n",
              "595        0        0.0\n",
              "539        0        0.0\n",
              "137        1        1.0\n",
              "1134       0        0.0\n",
              "831        0        0.0\n",
              "\n",
              "[131 rows x 2 columns]"
            ]
          },
          "metadata": {
            "tags": []
          },
          "execution_count": 1426
        }
      ]
    },
    {
      "cell_type": "markdown",
      "metadata": {
        "id": "VMEwJaj2bRUP"
      },
      "source": [
        "Plot errors"
      ]
    },
    {
      "cell_type": "code",
      "metadata": {
        "id": "nj74M_dmbTbc"
      },
      "source": [
        "from sklearn.decomposition import PCA\n",
        "\n",
        "pca_val = PCA(n_components=2)\n",
        "principalComponents_val = pca_val.fit_transform(X_test)"
      ],
      "execution_count": 1427,
      "outputs": []
    },
    {
      "cell_type": "code",
      "metadata": {
        "id": "julFCUoTbX1G",
        "colab": {
          "base_uri": "https://localhost:8080/",
          "height": 500
        },
        "outputId": "258a993d-198b-43f9-d668-9df3a3d7185c"
      },
      "source": [
        "plt.figure(figsize = (12, 8))\n",
        "plt.scatter(principalComponents_val[:, 0], principalComponents_val[:,1], c = y_pred == y_test - 1, alpha = .8, s = 50)"
      ],
      "execution_count": 1428,
      "outputs": [
        {
          "output_type": "execute_result",
          "data": {
            "text/plain": [
              "<matplotlib.collections.PathCollection at 0x7f477a900bd0>"
            ]
          },
          "metadata": {
            "tags": []
          },
          "execution_count": 1428
        },
        {
          "output_type": "display_data",
          "data": {
            "image/png": "[encoded data removed]",
            "text/plain": [
              "<Figure size 864x576 with 1 Axes>"
            ]
          },
          "metadata": {
            "tags": [],
            "needs_background": "light"
          }
        }
      ]
    }
  ]
}